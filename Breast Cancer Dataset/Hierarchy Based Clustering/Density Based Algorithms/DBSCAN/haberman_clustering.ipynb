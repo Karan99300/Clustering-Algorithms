{
 "cells": [
  {
   "cell_type": "code",
   "execution_count": 1,
   "metadata": {},
   "outputs": [],
   "source": [
    "import numpy as np \n",
    "import pandas as pd \n",
    "from sklearn.preprocessing import normalize, StandardScaler\n",
    "from sklearn.preprocessing import Normalizer\n",
    "from sklearn.preprocessing import MinMaxScaler\n",
    "from sklearn.metrics import silhouette_score\n",
    "from sklearn.metrics import calinski_harabasz_score\n",
    "from sklearn.metrics import davies_bouldin_score\n",
    "from DBSCAN import dbscan\n",
    "from Visualization import visualization, interactive_visualization"
   ]
  },
  {
   "cell_type": "code",
   "execution_count": 2,
   "metadata": {},
   "outputs": [],
   "source": [
    "df = pd.read_csv('haberman-clustering.csv')"
   ]
  },
  {
   "cell_type": "code",
   "execution_count": 3,
   "metadata": {},
   "outputs": [],
   "source": [
    "#Scaling the data to bring all the attributes to a comparable level\n",
    "scaler = StandardScaler()\n",
    "df_scaled = scaler.fit_transform(df)\n",
    "\n",
    "#Normalizing the data so that the data approximately follows a Gaussian distribution\n",
    "df_normalized = normalize(df_scaled)"
   ]
  },
  {
   "cell_type": "code",
   "execution_count": 4,
   "metadata": {},
   "outputs": [
    {
     "data": {
      "text/html": [
       "<div>\n",
       "<style scoped>\n",
       "    .dataframe tbody tr th:only-of-type {\n",
       "        vertical-align: middle;\n",
       "    }\n",
       "\n",
       "    .dataframe tbody tr th {\n",
       "        vertical-align: top;\n",
       "    }\n",
       "\n",
       "    .dataframe thead th {\n",
       "        text-align: right;\n",
       "    }\n",
       "</style>\n",
       "<table border=\"1\" class=\"dataframe\">\n",
       "  <thead>\n",
       "    <tr style=\"text-align: right;\">\n",
       "      <th></th>\n",
       "      <th>Age</th>\n",
       "      <th>Op_year</th>\n",
       "      <th>axil_nodes</th>\n",
       "    </tr>\n",
       "  </thead>\n",
       "  <tbody>\n",
       "    <tr>\n",
       "      <th>0</th>\n",
       "      <td>-0.987066</td>\n",
       "      <td>-0.135932</td>\n",
       "      <td>-0.084991</td>\n",
       "    </tr>\n",
       "    <tr>\n",
       "      <th>1</th>\n",
       "      <td>-0.923446</td>\n",
       "      <td>0.281903</td>\n",
       "      <td>-0.260341</td>\n",
       "    </tr>\n",
       "    <tr>\n",
       "      <th>2</th>\n",
       "      <td>-0.846824</td>\n",
       "      <td>-0.514674</td>\n",
       "      <td>-0.134166</td>\n",
       "    </tr>\n",
       "    <tr>\n",
       "      <th>3</th>\n",
       "      <td>-0.952356</td>\n",
       "      <td>0.304282</td>\n",
       "      <td>-0.020764</td>\n",
       "    </tr>\n",
       "    <tr>\n",
       "      <th>4</th>\n",
       "      <td>-0.727400</td>\n",
       "      <td>-0.611527</td>\n",
       "      <td>0.311326</td>\n",
       "    </tr>\n",
       "    <tr>\n",
       "      <th>...</th>\n",
       "      <td>...</td>\n",
       "      <td>...</td>\n",
       "      <td>...</td>\n",
       "    </tr>\n",
       "    <tr>\n",
       "      <th>277</th>\n",
       "      <td>0.968856</td>\n",
       "      <td>-0.132837</td>\n",
       "      <td>-0.208979</td>\n",
       "    </tr>\n",
       "    <tr>\n",
       "      <th>278</th>\n",
       "      <td>0.845136</td>\n",
       "      <td>0.483892</td>\n",
       "      <td>-0.227142</td>\n",
       "    </tr>\n",
       "    <tr>\n",
       "      <th>279</th>\n",
       "      <td>0.960414</td>\n",
       "      <td>0.268117</td>\n",
       "      <td>-0.075625</td>\n",
       "    </tr>\n",
       "    <tr>\n",
       "      <th>280</th>\n",
       "      <td>0.949931</td>\n",
       "      <td>0.254811</td>\n",
       "      <td>-0.180838</td>\n",
       "    </tr>\n",
       "    <tr>\n",
       "      <th>281</th>\n",
       "      <td>0.877437</td>\n",
       "      <td>-0.469655</td>\n",
       "      <td>-0.097610</td>\n",
       "    </tr>\n",
       "  </tbody>\n",
       "</table>\n",
       "<p>282 rows × 3 columns</p>\n",
       "</div>"
      ],
      "text/plain": [
       "          Age   Op_year  axil_nodes\n",
       "0   -0.987066 -0.135932   -0.084991\n",
       "1   -0.923446  0.281903   -0.260341\n",
       "2   -0.846824 -0.514674   -0.134166\n",
       "3   -0.952356  0.304282   -0.020764\n",
       "4   -0.727400 -0.611527    0.311326\n",
       "..        ...       ...         ...\n",
       "277  0.968856 -0.132837   -0.208979\n",
       "278  0.845136  0.483892   -0.227142\n",
       "279  0.960414  0.268117   -0.075625\n",
       "280  0.949931  0.254811   -0.180838\n",
       "281  0.877437 -0.469655   -0.097610\n",
       "\n",
       "[282 rows x 3 columns]"
      ]
     },
     "execution_count": 4,
     "metadata": {},
     "output_type": "execute_result"
    }
   ],
   "source": [
    "#Converting the numpy array into a pandas DataFrame\n",
    "df_normalized = pd.DataFrame(df_normalized)\n",
    "#Renaming the columns\n",
    "df_normalized.columns = df.columns\n",
    "df_normalized"
   ]
  },
  {
   "cell_type": "code",
   "execution_count": 5,
   "metadata": {},
   "outputs": [],
   "source": [
    "data_array = df_normalized.values\n",
    "data_list = data_array.tolist()\n",
    "X = data_list\n",
    "x = data_array"
   ]
  },
  {
   "cell_type": "code",
   "execution_count": 6,
   "metadata": {},
   "outputs": [
    {
     "data": {
      "text/plain": [
       "282"
      ]
     },
     "execution_count": 6,
     "metadata": {},
     "output_type": "execute_result"
    }
   ],
   "source": [
    "len(df)"
   ]
  },
  {
   "cell_type": "code",
   "execution_count": 7,
   "metadata": {},
   "outputs": [
    {
     "name": "stdout",
     "output_type": "stream",
     "text": [
      "{1, 2, -1}\n",
      "Silhouette Score: 0.10796398540915751\n",
      "Calinski Harabasz Score: 23.59741060817998\n",
      "Davies Bouldin Index: 3.2339132058360796\n"
     ]
    }
   ],
   "source": [
    "eps = 0.31\n",
    "min_pts = 3\n",
    "cluster_labels = dbscan(X, eps, min_pts)\n",
    "print(set(cluster_labels))\n",
    "\n",
    "# Calculate metrics\n",
    "ch_index = calinski_harabasz_score(data_list, cluster_labels)\n",
    "silhouette_avg = silhouette_score(x, cluster_labels)\n",
    "db_index = davies_bouldin_score(x, cluster_labels)\n",
    "\n",
    "print(\"Silhouette Score:\", silhouette_avg)\n",
    "print(\"Calinski Harabasz Score:\", ch_index)\n",
    "print(\"Davies Bouldin Index:\", db_index)"
   ]
  },
  {
   "cell_type": "code",
   "execution_count": 8,
   "metadata": {},
   "outputs": [
    {
     "data": {
      "image/png": "[encoded data removed]",
      "text/plain": [
       "<Figure size 1000x800 with 1 Axes>"
      ]
     },
     "metadata": {},
     "output_type": "display_data"
    }
   ],
   "source": [
    "visualization(x, cluster_labels)"
   ]
  },
  {
   "cell_type": "code",
   "execution_count": 9,
   "metadata": {},
   "outputs": [
    {
     "data": {
      "application/vnd.plotly.v1+json": {
       "config": {
        "plotlyServerURL": "https://plot.ly"
       },
       "data": [
        {
         "marker": {
          "color": [
           1,
           1,
           1,
           1,
           1,
           1,
           1,
           1,
           2,
           1,
           1,
           1,
           1,
           -1,
           1,
           1,
           1,
           1,
           1,
           1,
           1,
           2,
           2,
           1,
           1,
           1,
           1,
           1,
           1,
           1,
           1,
           1,
           1,
           1,
           1,
           1,
           1,
           1,
           1,
           1,
           2,
           1,
           1,
           1,
           1,
           1,
           1,
           1,
           1,
           1,
           1,
           1,
           1,
           1,
           2,
           1,
           1,
           2,
           1,
           1,
           2,
           1,
           1,
           1,
           1,
           1,
           1,
           1,
           1,
           2,
           1,
           1,
           2,
           1,
           1,
           1,
           1,
           1,
           1,
           1,
           1,
           1,
           1,
           1,
           2,
           1,
           1,
           1,
           2,
           1,
           1,
           1,
           -1,
           1,
           1,
           1,
           1,
           1,
           2,
           1,
           1,
           1,
           1,
           1,
           1,
           1,
           2,
           1,
           1,
           1,
           1,
           1,
           1,
           1,
           1,
           2,
           1,
           1,
           1,
           1,
           1,
           1,
           1,
           1,
           1,
           1,
           1,
           2,
           1,
           1,
           1,
           1,
           1,
           1,
           1,
           1,
           1,
           1,
           1,
           1,
           1,
           1,
           1,
           1,
           1,
           1,
           1,
           1,
           1,
           2,
           2,
           1,
           1,
           1,
           1,
           -1,
           1,
           2,
           1,
           1,
           1,
           1,
           1,
           2,
           1,
           1,
           2,
           1,
           -1,
           2,
           1,
           1,
           2,
           1,
           1,
           2,
           1,
           2,
           1,
           1,
           1,
           1,
           1,
           1,
           2,
           1,
           2,
           1,
           1,
           1,
           1,
           1,
           1,
           1,
           1,
           1,
           1,
           1,
           1,
           1,
           2,
           1,
           1,
           1,
           1,
           1,
           2,
           1,
           1,
           1,
           1,
           1,
           2,
           1,
           1,
           1,
           1,
           1,
           1,
           2,
           1,
           1,
           1,
           2,
           1,
           1,
           1,
           1,
           1,
           1,
           1,
           1,
           2,
           1,
           2,
           1,
           1,
           1,
           1,
           1,
           2,
           2,
           1,
           1,
           1,
           1,
           1,
           1,
           1,
           1,
           2,
           1,
           1,
           1,
           1,
           1,
           1,
           2,
           1,
           1,
           1,
           1,
           1,
           2,
           1,
           1,
           1,
           1,
           1,
           1,
           1,
           1,
           1,
           1,
           1,
           1,
           1,
           1,
           1,
           1,
           1,
           1
          ],
          "colorscale": [
           [
            0,
            "#440154"
           ],
           [
            0.1111111111111111,
            "#482878"
           ],
           [
            0.2222222222222222,
            "#3e4989"
           ],
           [
            0.3333333333333333,
            "#31688e"
           ],
           [
            0.4444444444444444,
            "#26828e"
           ],
           [
            0.5555555555555556,
            "#1f9e89"
           ],
           [
            0.6666666666666666,
            "#35b779"
           ],
           [
            0.7777777777777778,
            "#6ece58"
           ],
           [
            0.8888888888888888,
            "#b5de2b"
           ],
           [
            1,
            "#fde725"
           ]
          ],
          "opacity": 0.5
         },
         "mode": "markers",
         "text": "Cluster Labels",
         "type": "scatter3d",
         "x": [
          -0.5246566275534332,
          -0.12406643195651955,
          -0.8090196149790824,
          -0.10993190057080433,
          -0.8344248864752577,
          -0.7406008103815663,
          -0.8239382500748812,
          0.08936283109127037,
          -0.461595053625416,
          -0.762766799592986,
          -0.6122470095800989,
          0.2123827328157765,
          -0.7508644429463023,
          -0.15760013318015095,
          -0.37736880707709763,
          -0.7870298488990055,
          0.4330216572997635,
          -0.7835703564375831,
          -0.37087563093777104,
          -0.9010311509282497,
          -0.8785206843794507,
          -0.6021086534772778,
          0.3846408306226017,
          -0.8923317875532998,
          -0.794892562541367,
          -0.5831021035442068,
          -0.17579091368512814,
          0.1743459415608077,
          0.18396590927985704,
          -0.8129940556433594,
          0.3275021706810049,
          0.20444320789225123,
          -0.36185081518829193,
          0.3349822534275048,
          -0.9155518235756402,
          -0.9044750623108532,
          -0.39053426523779033,
          -0.9484482517663325,
          -0.9216315532802705,
          0.06803065460002723,
          -0.39495462027864847,
          -0.11482938321517841,
          0.4017095303283632,
          -0.9266566165491905,
          -0.8893403949934984,
          -0.8909567098945652,
          0.5869175947939889,
          0.0993670850959253,
          0.6080907541367404,
          -0.8979008114947077,
          -0.9303976924732089,
          -0.8661821088102251,
          -0.9374293863374084,
          -0.8155963612318881,
          -0.24133421697566262,
          0.13401544753666259,
          -0.358546444827971,
          -0.21502034705874778,
          -0.9461592629267704,
          -0.06205625398597993,
          -0.18228355877218913,
          -0.06470715404804524,
          -0.06411240531126558,
          -0.847198564067816,
          -0.36839339906378726,
          0.17227994671037097,
          0.39241313233146835,
          -0.014363535199451574,
          -0.9070480789726317,
          -0.1026293369081888,
          -0.7533910354798186,
          -0.3403410085261949,
          0.4072513165321521,
          0.3174123586382066,
          0.43627114002373996,
          0.5714885248284982,
          -0.8595015606461845,
          0.5526680275068342,
          -0.6866114390891005,
          0.0077378176627875585,
          0.6307698472621139,
          -0.9643910121049585,
          0.7464559911073756,
          -0.7433268772328839,
          0.18319611317749626,
          -0.5769563191679059,
          -0.9744771625262656,
          -0.278912953742576,
          -0.030458137677214944,
          -0.5724557245611083,
          0.3644944321865418,
          -0.7662064022499638,
          -0.3226203007891293,
          0.5307971453278016,
          0.6329047299178322,
          -0.9694544161917631,
          -0.9772698781783972,
          0.7485897259437551,
          0.4651377088543815,
          -0.8197210684265764,
          0.7266382364626955,
          -0.7759959180757424,
          -0.7267070627874785,
          0.15486693358444203,
          0.5793173008129263,
          -0.1778838623180266,
          0.22141675565161456,
          -0.8241462138168265,
          -0.544367181918479,
          0.6274579318738841,
          -0.8908238191407261,
          -0.6333950039026209,
          -0.31170730836015975,
          -0.7500190562573394,
          0.7395753554482227,
          -0.01946194321042071,
          0.280961119094911,
          -0.8645077299619812,
          -0.9095588475454714,
          -0.7301374957477519,
          -0.15693827679460298,
          -0.90613804674393,
          -0.9238588243101347,
          0.7258436117998815,
          0.7165103957328635,
          -0.6413460584936247,
          -0.9198969625476803,
          0.5100375419224913,
          -0.8761778734919599,
          0.5943012202332979,
          0.7643444919275305,
          0.9085455364765348,
          -0.8757532337964541,
          -0.807051802931546,
          0.9030474224079942,
          -0.6621758582987325,
          0.01806181783388131,
          0.8661263672769071,
          -0.9036786628889577,
          -0.8960644047996051,
          -0.4265255963051099,
          -0.5186776859595025,
          0.4119209732550282,
          0.6460269041695593,
          0.8467421275133881,
          -0.8703943403553067,
          0.7691972062149361,
          -0.8603129349898029,
          -0.6840740434567604,
          0.06088091147470736,
          0.5298863832664432,
          -0.8404616050580649,
          -0.7782033999302777,
          -0.8187501626729183,
          -0.6855474892982634,
          0.0629102035066754,
          -0.5479632588981764,
          0.2876935454496584,
          0.9902280205862241,
          0.941412016380153,
          -0.7853294001800276,
          -0.7961043729480348,
          0.8228809296196821,
          0.2506859582304313,
          -0.2991385894173314,
          0.9425131314224787,
          0.08561599423963956,
          -0.8125687782346716,
          0.39983040953243926,
          0.7423488174363434,
          -0.7821756719069872,
          -0.7630693040601477,
          0.49744006659373396,
          0.8465364112727869,
          0.9643755507045705,
          0.6264336487604704,
          0.9238355075743446,
          0.783795012441984,
          0.9941757981120464,
          -0.5941717067316142,
          0.9605263812217342,
          0.9156388132418934,
          0.9046618861193384,
          -0.4644893664157844,
          -0.01273880873808656,
          0.6843195817620698,
          0.6129136301388309,
          0.9457902041466358,
          -0.3790450263386193,
          -0.10244656708811557,
          0.27298424458331916,
          0.6008599894972397,
          0.9170549260735569,
          -0.5986455890401308,
          -0.5510939953910009,
          -0.3446527259351355,
          0.925681043273276,
          -0.6650942042098554,
          -0.6986182124779359,
          -0.36609465481133224,
          0.045148587846240436,
          -0.44358721677662394,
          0.32982655852954323,
          0.6789973706219369,
          0.8208180481567491,
          0.6158649192503151,
          0.7431016958650462,
          1.0081002809052066,
          -0.3189515106506924,
          0.7905088373440813,
          -0.22597707498782205,
          0.9883435710770463,
          -0.03668113603596161,
          0.6168112682769519,
          0.11424208757492066,
          0.7843353481532702,
          0.9810606954206011,
          -0.47478879397212076,
          0.6151869687346703,
          0.8366586063244758,
          0.9590149863568835,
          -0.3402730233234,
          -0.5259208651782392,
          0.4611358558672465,
          0.14817164177010747,
          0.8749562518370221,
          -0.27297887269679344,
          -0.08643110201211565,
          0.14008125451331618,
          0.3875690099089344,
          0.8671643531993035,
          -0.06048778144251757,
          0.008629415704607459,
          -0.45865146558866887,
          0.4235798086287179,
          0.8581924401591725,
          -0.0517805401226098,
          0.954409645767373,
          -0.4263710959599323,
          -0.018000632691392147,
          0.1306597788331546,
          0.6841599055968154,
          0.5976497092808174,
          0.9118756541404797,
          -0.3357373661426989,
          0.9337863669764195,
          -0.3951671918046107,
          0.034729069131471085,
          -0.40054753865066556,
          0.944627739472403,
          0.6184323778773179,
          0.42804917766388073,
          0.827708059175147,
          0.0330753734837867,
          0.727146387741504,
          0.885948681494023,
          0.9314178877536712,
          0.8998819434171244,
          -0.07528634915135166,
          0.7080775869404137,
          0.8067017601805324,
          -0.28231542332616383,
          -0.28630993115062875,
          0.7078438568330802,
          0.866977301423352,
          0.9160829106445387,
          -0.16644544425557675,
          0.4218710309251068,
          0.930553317809232,
          0.42622597220724484,
          -0.2332215254241497,
          0.5642145932589476,
          0.8786636693814687,
          0.285766254800389,
          0.8911654313829422,
          0.6945916053409056,
          0.4295062845607475,
          0.30619783110911336,
          0.8111851991115597,
          0.6688402283491662,
          0.64963530314046,
          -0.034549535060030626
         ],
         "y": [
          -0.8214983739830221,
          -0.9398459889695624,
          -0.5331746766945075,
          -0.9777127952811158,
          -0.3879921167001761,
          -0.5790156786146763,
          -0.45983218341367715,
          -0.9382053208380111,
          -0.21098111671336817,
          -0.5714683869963512,
          -0.648544006650815,
          -0.9554443876805271,
          -0.56066584212624,
          -0.7824082093504857,
          -0.8394316506747371,
          -0.5299940391826102,
          -0.8607367504663391,
          -0.4936165387616432,
          -0.8263255315752716,
          -0.28520979755669323,
          -0.40238851879560555,
          -0.4023268882903881,
          -0.614461789027151,
          -0.3666696959380212,
          -0.4663842391942222,
          -0.774898395321253,
          -0.9154525841607553,
          -0.9105828058502548,
          -0.8523914184820706,
          -0.4790126057232989,
          -0.9374996764909984,
          -0.8992437498291098,
          -0.8079903473787713,
          -0.8757887831565181,
          -0.220467973116085,
          -0.3334819184299119,
          -0.8978022611636278,
          -0.19253264681545942,
          -0.1848367107643491,
          -0.8944063126358462,
          -0.19420467588992532,
          -0.8579549504543201,
          -0.8400907296449625,
          -0.14694391109116525,
          -0.25482315262793404,
          -0.2446754762006333,
          -0.7843819097622355,
          -0.8815612886252425,
          -0.761332040875586,
          -0.2027201828037621,
          -0.10675957061667432,
          -0.3369864003690009,
          -0.21464297940428467,
          -0.5354318392402628,
          -0.315105342028771,
          -0.8655660129772403,
          -0.811429518015308,
          -0.017563777931996895,
          -0.16787011232881371,
          -0.8260579046922402,
          -0.5015224889225957,
          -0.9282114363437621,
          -0.963738808959783,
          -0.27832199884863834,
          -0.844481938481676,
          -0.845675243578416,
          -0.9131781542764228,
          -0.9537192689235867,
          -0.025438239810428472,
          -0.33008464722326175,
          -0.38081786597206446,
          -0.7760345987602946,
          -0.5656714022497492,
          -0.9155269780597022,
          -0.7668623745689909,
          -0.7559074726551985,
          -0.17189250925803845,
          -0.7320088086525087,
          -0.05113826075497422,
          -0.7742750018650126,
          -0.6977962830370813,
          0.07713777214204733,
          -0.6639072922153719,
          -0.6143649597422721,
          -0.34741475385102716,
          -0.4542689649927491,
          0.07717107755236717,
          -0.636552857591107,
          -0.17565852741086338,
          -0.38649486913442854,
          -0.7073444611549963,
          -0.19112486473935925,
          -0.8304615265653885,
          -0.6854021664192674,
          -0.6551629285462971,
          0.13060849638164643,
          -0.05813148976071418,
          -0.6695808274045929,
          -0.5670816281609126,
          0.1580547881435889,
          -0.6513032260964547,
          -0.12947018734359095,
          -0.4061118877231229,
          -0.6299497248128165,
          -0.6354375491358181,
          -0.4247398281223303,
          -0.4723103237888911,
          -0.02728302265828978,
          -0.20987663054547176,
          -0.5791102287506867,
          0.10569455734988605,
          -0.2493226928279259,
          -0.7944894322264032,
          -0.02212840955172898,
          -0.5839622347729528,
          -0.17403295715767933,
          -0.46520551354909456,
          0.24336422180975553,
          0.07954403696603453,
          0.07367153124502263,
          -0.4027221796288406,
          0.29046732620125676,
          0.258268154990355,
          -0.6893525329769622,
          -0.5495375744312275,
          0.23839605433274583,
          0.33355282175026363,
          -0.5067943153091042,
          0.3187404294069877,
          -0.427922600770751,
          -0.4783271558287228,
          -0.4286887014222379,
          0.39644634076852686,
          0.2648621223867528,
          -0.450172649299639,
          0.27655413400522644,
          -0.7122692418332554,
          -0.40834741161074334,
          0.3960091435236709,
          0.393084855568065,
          0.15000693453256117,
          0.1778671944085737,
          -0.24163820188358642,
          -0.33578780762975746,
          -0.40351647299720594,
          0.46859897683769564,
          -0.2679602904875636,
          0.4724510022936466,
          0.3967755269549345,
          0.018274376551482275,
          -0.17741044272289314,
          0.4522608176387055,
          0.44275889949620817,
          0.46523605108326366,
          0.41831165744232146,
          0.08588903701237904,
          0.40556817838401343,
          -0.04880221555932502,
          -0.20050159893081015,
          -0.31971481167679333,
          0.5174151422051537,
          0.5667727691925436,
          -0.22335862677306415,
          -0.06461480438581492,
          0.39809790704888,
          -0.33587506166804554,
          0.06496987888327627,
          0.5035302990400173,
          0.630130838517289,
          -0.20180981411542537,
          0.5526193117101581,
          0.5391015689645056,
          -0.08360992054985264,
          -0.14618071332768467,
          -0.2919843802917558,
          -0.1833647030860835,
          -0.21848577605977032,
          0.03654024607076394,
          -0.08614364334466526,
          0.6235807800545052,
          -0.0818592852148242,
          -0.07650077762249459,
          -0.14708552805034508,
          0.8759051363690447,
          0.36193720766967397,
          0.3660655139599745,
          0.29831258062620736,
          -0.18913852249429708,
          0.6971475446089684,
          0.6681286454650389,
          0.5368243268095563,
          0.3256700538330671,
          -0.08626247375490231,
          0.69785209502975,
          0.8208472026892869,
          0.8106048670868787,
          -0.027302581808278457,
          0.6675245284204289,
          0.7034396057347092,
          0.865045032201045,
          0.16346632815994028,
          0.7729091884212007,
          0.6601155078674104,
          0.5160910055100242,
          0.6072983319376134,
          0.472253739587733,
          0.5349159993311086,
          0.02782274203618615,
          0.523586087055119,
          0.3450633451127438,
          0.8837159680924912,
          0.0852348948952824,
          0.3044982337954219,
          0.5281940634264058,
          1.0022542088883952,
          0.3994852544713114,
          0.04662739012380737,
          0.8060515054314262,
          0.5748400340023587,
          0.4046507807783012,
          0.04660546623573401,
          0.6974520671155148,
          0.7972892261488479,
          0.2392587083664536,
          0.9747515341925977,
          0.2994819394717683,
          0.9194875950286803,
          0.9023337411907115,
          0.8743791293324963,
          0.7865275460917245,
          0.3446795876823359,
          0.8780774813857811,
          0.33802769600345456,
          0.8450547126102235,
          0.2637963900358576,
          0.3855871920721895,
          0.9171057384002197,
          0.17155185330439485,
          0.8651957809741855,
          0.987145591107361,
          0.4429827644490115,
          0.32006714811756665,
          0.6974803785447004,
          0.3055142594165367,
          0.9329762570439494,
          0.31133766013291725,
          0.883100400085509,
          0.769917656960206,
          0.8973846719327767,
          0.24399606001580462,
          0.7433957951885962,
          0.8685684085152674,
          0.48611286682574584,
          0.9456022111147773,
          0.6103235135186803,
          0.40374781499778944,
          0.30800654997443616,
          0.4313915196282295,
          0.9619350759397226,
          0.6517572025381184,
          0.5380898227670681,
          0.9362059189071146,
          0.9653740048866942,
          0.4754673123100014,
          0.457202443253702,
          0.3642216904972565,
          0.9627494051958286,
          0.8629151600396047,
          0.39690977056660937,
          0.8727842933201311,
          0.9540922047859524,
          0.7928167864318043,
          0.5164387996683234,
          0.9328730828322951,
          0.4356983716466954,
          0.7454089789450536,
          0.88026891360691,
          0.9488084083253294,
          0.5749359546899893,
          0.7695823534148073,
          0.7667087479469936,
          1.0081532298713676
         ],
         "z": [
          0.036333419295654944,
          -0.15048768588654549,
          -0.002896061851866892,
          0.08846841088640561,
          0.44474477959316605,
          -0.15044094999455215,
          -0.13750011212912724,
          0.41418058782096495,
          0.9621096180144535,
          -0.09743538200195848,
          0.5174398286221478,
          0.2706256214309215,
          -0.16094883416547223,
          0.6937919189617112,
          -0.22367344996879454,
          -0.11598607847065322,
          -0.14043362344038582,
          -0.19668796659216106,
          -0.2618369029307262,
          -0.13497143447233992,
          0.25529982049653394,
          0.7783386368726866,
          0.8025393270486046,
          -0.03709232385834669,
          -0.21011746406886825,
          -0.006468371665563034,
          -0.19935735684192127,
          -0.23481967494208186,
          0.587641752803402,
          -0.1371624304071881,
          0.14877103746313375,
          -0.24970083922106484,
          -0.3086075903657931,
          -0.21678175491391322,
          -0.14959053243903103,
          -0.04297695239436015,
          0.08244408663613612,
          -0.025175493766227543,
          -0.1570221877086669,
          -0.3015631974772604,
          1.0007704955348007,
          -0.35670642594188107,
          -0.23969692658672784,
          -0.16446282054687128,
          0.43289704469408297,
          -0.20674270670297432,
          0.32010520832126216,
          -0.3239694033212271,
          -0.11717192887479828,
          -0.21774441250636611,
          -0.171843385073276,
          -0.1880899464673712,
          -0.0618512782232717,
          0.09332929035687085,
          1.0225553417616977,
          -0.3480050490928128,
          -0.3048735714543454,
          1.0864430897057227,
          -0.06839486830515504,
          -0.4221539989165678,
          0.9479428810794606,
          -0.2107588800819191,
          -0.08002563637122478,
          -0.2885274034580078,
          -0.22132167710267084,
          -0.3736319540890202,
          0.06320124883589032,
          0.36673542206779786,
          0.48781927501322414,
          1.046048082248781,
          -0.38141700573594756,
          -0.38188445767709706,
          0.8323561204534545,
          0.335302423576534,
          -0.351784059449171,
          -0.2074875355251418,
          -0.3233232521213846,
          -0.2857635172353437,
          0.8195788279624935,
          -0.5009471795059094,
          -0.23305605343135705,
          -0.048986884678484284,
          -0.0011303271626678768,
          0.2670815806333059,
          1.0331838601787344,
          -0.5368546948245263,
          0.031812000766424264,
          -0.5837100412896729,
          1.0956100181174626,
          -0.5843410354991392,
          -0.4865358519391219,
          -0.4681365743376352,
          0.5277530114538799,
          -0.38575562537295593,
          -0.30614833878954406,
          0.030029110901887566,
          0.09805869456699726,
          0.06345073852297499,
          0.7967523542849094,
          0.6383292467584168,
          0.3574220567153565,
          0.7031101825397528,
          -0.40114910942683346,
          -0.6386046724632295,
          -0.4009236845663416,
          -0.761870959729429,
          0.9655252988799913,
          -0.41957620566712517,
          -0.6797728719768023,
          -0.4140927057770097,
          -0.28735586817738845,
          -0.5949735156122775,
          -0.3720626771627874,
          -0.5220490144052987,
          -0.23907638276920226,
          1.096426192075231,
          -0.7233764520679753,
          -0.2909400215944908,
          0.4775991869949032,
          -0.5435569685712096,
          -0.7769456653643981,
          -0.14096073390095964,
          -0.10675787375230943,
          0.026190010926633332,
          -0.32995643563851085,
          0.8304902662270218,
          -0.003746957070568472,
          0.8144001570592126,
          -0.20695785604528616,
          -0.5745324141491382,
          -0.3368602547550935,
          -0.007665875554463405,
          -0.11066640446666054,
          -0.38778304386949547,
          0.04204155836169654,
          -0.5672382866105968,
          -0.5730315902338677,
          -0.2109161019023909,
          0.09423729437892643,
          0.24405204533488975,
          -0.7693258270516671,
          -0.7113468834478845,
          -0.768983234274771,
          -0.5822901065128268,
          -0.26276274554464324,
          0.11347667815617805,
          -0.48466540793140267,
          -0.004765668204175551,
          0.7127100604383585,
          1.1141061515605588,
          0.9537667910890109,
          -0.1439233863655933,
          -0.30757977761175287,
          -0.18894609124524966,
          -0.46665028814320375,
          -0.8814976558066968,
          0.8385821773334136,
          1.0764495827130451,
          0.22863044023939752,
          0.3150489719690635,
          0.4270947541593225,
          -0.051709388388203874,
          -0.43216393601930814,
          1.0848493956481384,
          -0.751179628187366,
          0.2792051226119904,
          1.1114685205626893,
          -0.14315198609344626,
          0.8044848278157016,
          0.7721476692009104,
          -0.14152302937632041,
          -0.21740666788027468,
          0.9882513558075923,
          -0.42485271712308675,
          -0.007125736640980384,
          0.8853598699357135,
          -0.24466424364003278,
          0.7600242547836455,
          -0.08778805551585005,
          -0.3855582542358736,
          -0.21118530346971565,
          -0.32068220516904855,
          -0.3228126673704615,
          0.2613304742085626,
          1.0516950392085729,
          -0.5441168466708337,
          0.8681688382694658,
          -0.20427876841798662,
          -0.49603678572404347,
          -0.6309707481982103,
          -0.6987380219244105,
          -0.6368100768954978,
          -0.31561398809829433,
          -0.2708574190589408,
          -0.03317712416655872,
          -0.3662564557314418,
          -0.3070895443552974,
          -0.20568327648620818,
          0.028488335952330066,
          -0.23959781441853492,
          1.1033175797471713,
          -0.3414395200918245,
          -0.58207591374803,
          -0.4446062542481884,
          0.03702150345909547,
          -0.5441928083141312,
          0.5679782343909228,
          -0.03832441293992319,
          0.9054350319658632,
          -0.42945896605185063,
          -0.3118116549258279,
          -0.12421208672532941,
          1.0699805100076147,
          -0.5005828264241562,
          0.23069266012463766,
          -0.40157777020611624,
          -0.1594614763601047,
          -0.24134921192967698,
          -0.4600456479622967,
          0.5392977923391392,
          -0.22738067051994684,
          0.7492507726698154,
          -0.1809330593033896,
          0.9835322776949635,
          0.35884566010658625,
          -0.3177992309300899,
          -0.19042070688679485,
          -0.3306476172443887,
          -0.37940809740144643,
          -0.4020243171961761,
          -0.30054483871435517,
          0.6108799508265901,
          1.0607445152102546,
          -0.1666703144185886,
          0.9949921770156397,
          -0.28377770658132306,
          -0.3072522184177387,
          -0.20430217433512676,
          -0.1593986263573464,
          -0.10972039243365639,
          1.011202735496805,
          0.7967947312894286,
          -0.33052772308642203,
          -0.23044076561305962,
          -0.05212060667087978,
          -0.16126965017678407,
          -0.15212882036050232,
          0.768822668249804,
          -0.0894667421867849,
          -0.18828550602201477,
          0.4452387392738856,
          -0.2048783067261525,
          -0.23751788157067205,
          -0.2468874582310295,
          -0.26415221303058223,
          -0.19784187156563582,
          -0.17244095441226998,
          0.3411684873556878,
          -0.18720462725989948,
          -0.23022431548361602,
          -0.21045607884782522,
          -0.12404583320155209,
          0.11204909459323074,
          0.6748133225887712,
          -0.1778829774881428,
          -0.15714217204732336,
          0.36806825869016196,
          -0.22700021997917674,
          -0.039621345957523244,
          -0.19576981774205904,
          -0.11102682824131203,
          -0.19560602308233743,
          0.016263930387608413,
          -0.1749564648421551,
          -0.13568154131925284,
          0.01905479554913666,
          -0.16957010815467682,
          -0.0929277991290981,
          -0.1275291792608936,
          0.029492323868122942,
          -0.07529191414309687,
          0.02780646304304794
         ]
        }
       ],
       "layout": {
        "margin": {
         "b": 0,
         "l": 0,
         "r": 0,
         "t": 0
        },
        "scene": {
         "xaxis": {
          "title": {
           "text": "Principal Component 1"
          }
         },
         "yaxis": {
          "title": {
           "text": "Principal Component 2"
          }
         },
         "zaxis": {
          "title": {
           "text": "Principal Component 3"
          }
         }
        },
        "template": {
         "data": {
          "bar": [
           {
            "error_x": {
             "color": "#2a3f5f"
            },
            "error_y": {
             "color": "#2a3f5f"
            },
            "marker": {
             "line": {
              "color": "#E5ECF6",
              "width": 0.5
             },
             "pattern": {
              "fillmode": "overlay",
              "size": 10,
              "solidity": 0.2
             }
            },
            "type": "bar"
           }
          ],
          "barpolar": [
           {
            "marker": {
             "line": {
              "color": "#E5ECF6",
              "width": 0.5
             },
             "pattern": {
              "fillmode": "overlay",
              "size": 10,
              "solidity": 0.2
             }
            },
            "type": "barpolar"
           }
          ],
          "carpet": [
           {
            "aaxis": {
             "endlinecolor": "#2a3f5f",
             "gridcolor": "white",
             "linecolor": "white",
             "minorgridcolor": "white",
             "startlinecolor": "#2a3f5f"
            },
            "baxis": {
             "endlinecolor": "#2a3f5f",
             "gridcolor": "white",
             "linecolor": "white",
             "minorgridcolor": "white",
             "startlinecolor": "#2a3f5f"
            },
            "type": "carpet"
           }
          ],
          "choropleth": [
           {
            "colorbar": {
             "outlinewidth": 0,
             "ticks": ""
            },
            "type": "choropleth"
           }
          ],
          "contour": [
           {
            "colorbar": {
             "outlinewidth": 0,
             "ticks": ""
            },
            "colorscale": [
             [
              0,
              "#0d0887"
             ],
             [
              0.1111111111111111,
              "#46039f"
             ],
             [
              0.2222222222222222,
              "#7201a8"
             ],
             [
              0.3333333333333333,
              "#9c179e"
             ],
             [
              0.4444444444444444,
              "#bd3786"
             ],
             [
              0.5555555555555556,
              "#d8576b"
             ],
             [
              0.6666666666666666,
              "#ed7953"
             ],
             [
              0.7777777777777778,
              "#fb9f3a"
             ],
             [
              0.8888888888888888,
              "#fdca26"
             ],
             [
              1,
              "#f0f921"
             ]
            ],
            "type": "contour"
           }
          ],
          "contourcarpet": [
           {
            "colorbar": {
             "outlinewidth": 0,
             "ticks": ""
            },
            "type": "contourcarpet"
           }
          ],
          "heatmap": [
           {
            "colorbar": {
             "outlinewidth": 0,
             "ticks": ""
            },
            "colorscale": [
             [
              0,
              "#0d0887"
             ],
             [
              0.1111111111111111,
              "#46039f"
             ],
             [
              0.2222222222222222,
              "#7201a8"
             ],
             [
              0.3333333333333333,
              "#9c179e"
             ],
             [
              0.4444444444444444,
              "#bd3786"
             ],
             [
              0.5555555555555556,
              "#d8576b"
             ],
             [
              0.6666666666666666,
              "#ed7953"
             ],
             [
              0.7777777777777778,
              "#fb9f3a"
             ],
             [
              0.8888888888888888,
              "#fdca26"
             ],
             [
              1,
              "#f0f921"
             ]
            ],
            "type": "heatmap"
           }
          ],
          "heatmapgl": [
           {
            "colorbar": {
             "outlinewidth": 0,
             "ticks": ""
            },
            "colorscale": [
             [
              0,
              "#0d0887"
             ],
             [
              0.1111111111111111,
              "#46039f"
             ],
             [
              0.2222222222222222,
              "#7201a8"
             ],
             [
              0.3333333333333333,
              "#9c179e"
             ],
             [
              0.4444444444444444,
              "#bd3786"
             ],
             [
              0.5555555555555556,
              "#d8576b"
             ],
             [
              0.6666666666666666,
              "#ed7953"
             ],
             [
              0.7777777777777778,
              "#fb9f3a"
             ],
             [
              0.8888888888888888,
              "#fdca26"
             ],
             [
              1,
              "#f0f921"
             ]
            ],
            "type": "heatmapgl"
           }
          ],
          "histogram": [
           {
            "marker": {
             "pattern": {
              "fillmode": "overlay",
              "size": 10,
              "solidity": 0.2
             }
            },
            "type": "histogram"
           }
          ],
          "histogram2d": [
           {
            "colorbar": {
             "outlinewidth": 0,
             "ticks": ""
            },
            "colorscale": [
             [
              0,
              "#0d0887"
             ],
             [
              0.1111111111111111,
              "#46039f"
             ],
             [
              0.2222222222222222,
              "#7201a8"
             ],
             [
              0.3333333333333333,
              "#9c179e"
             ],
             [
              0.4444444444444444,
              "#bd3786"
             ],
             [
              0.5555555555555556,
              "#d8576b"
             ],
             [
              0.6666666666666666,
              "#ed7953"
             ],
             [
              0.7777777777777778,
              "#fb9f3a"
             ],
             [
              0.8888888888888888,
              "#fdca26"
             ],
             [
              1,
              "#f0f921"
             ]
            ],
            "type": "histogram2d"
           }
          ],
          "histogram2dcontour": [
           {
            "colorbar": {
             "outlinewidth": 0,
             "ticks": ""
            },
            "colorscale": [
             [
              0,
              "#0d0887"
             ],
             [
              0.1111111111111111,
              "#46039f"
             ],
             [
              0.2222222222222222,
              "#7201a8"
             ],
             [
              0.3333333333333333,
              "#9c179e"
             ],
             [
              0.4444444444444444,
              "#bd3786"
             ],
             [
              0.5555555555555556,
              "#d8576b"
             ],
             [
              0.6666666666666666,
              "#ed7953"
             ],
             [
              0.7777777777777778,
              "#fb9f3a"
             ],
             [
              0.8888888888888888,
              "#fdca26"
             ],
             [
              1,
              "#f0f921"
             ]
            ],
            "type": "histogram2dcontour"
           }
          ],
          "mesh3d": [
           {
            "colorbar": {
             "outlinewidth": 0,
             "ticks": ""
            },
            "type": "mesh3d"
           }
          ],
          "parcoords": [
           {
            "line": {
             "colorbar": {
              "outlinewidth": 0,
              "ticks": ""
             }
            },
            "type": "parcoords"
           }
          ],
          "pie": [
           {
            "automargin": true,
            "type": "pie"
           }
          ],
          "scatter": [
           {
            "fillpattern": {
             "fillmode": "overlay",
             "size": 10,
             "solidity": 0.2
            },
            "type": "scatter"
           }
          ],
          "scatter3d": [
           {
            "line": {
             "colorbar": {
              "outlinewidth": 0,
              "ticks": ""
             }
            },
            "marker": {
             "colorbar": {
              "outlinewidth": 0,
              "ticks": ""
             }
            },
            "type": "scatter3d"
           }
          ],
          "scattercarpet": [
           {
            "marker": {
             "colorbar": {
              "outlinewidth": 0,
              "ticks": ""
             }
            },
            "type": "scattercarpet"
           }
          ],
          "scattergeo": [
           {
            "marker": {
             "colorbar": {
              "outlinewidth": 0,
              "ticks": ""
             }
            },
            "type": "scattergeo"
           }
          ],
          "scattergl": [
           {
            "marker": {
             "colorbar": {
              "outlinewidth": 0,
              "ticks": ""
             }
            },
            "type": "scattergl"
           }
          ],
          "scattermapbox": [
           {
            "marker": {
             "colorbar": {
              "outlinewidth": 0,
              "ticks": ""
             }
            },
            "type": "scattermapbox"
           }
          ],
          "scatterpolar": [
           {
            "marker": {
             "colorbar": {
              "outlinewidth": 0,
              "ticks": ""
             }
            },
            "type": "scatterpolar"
           }
          ],
          "scatterpolargl": [
           {
            "marker": {
             "colorbar": {
              "outlinewidth": 0,
              "ticks": ""
             }
            },
            "type": "scatterpolargl"
           }
          ],
          "scatterternary": [
           {
            "marker": {
             "colorbar": {
              "outlinewidth": 0,
              "ticks": ""
             }
            },
            "type": "scatterternary"
           }
          ],
          "surface": [
           {
            "colorbar": {
             "outlinewidth": 0,
             "ticks": ""
            },
            "colorscale": [
             [
              0,
              "#0d0887"
             ],
             [
              0.1111111111111111,
              "#46039f"
             ],
             [
              0.2222222222222222,
              "#7201a8"
             ],
             [
              0.3333333333333333,
              "#9c179e"
             ],
             [
              0.4444444444444444,
              "#bd3786"
             ],
             [
              0.5555555555555556,
              "#d8576b"
             ],
             [
              0.6666666666666666,
              "#ed7953"
             ],
             [
              0.7777777777777778,
              "#fb9f3a"
             ],
             [
              0.8888888888888888,
              "#fdca26"
             ],
             [
              1,
              "#f0f921"
             ]
            ],
            "type": "surface"
           }
          ],
          "table": [
           {
            "cells": {
             "fill": {
              "color": "#EBF0F8"
             },
             "line": {
              "color": "white"
             }
            },
            "header": {
             "fill": {
              "color": "#C8D4E3"
             },
             "line": {
              "color": "white"
             }
            },
            "type": "table"
           }
          ]
         },
         "layout": {
          "annotationdefaults": {
           "arrowcolor": "#2a3f5f",
           "arrowhead": 0,
           "arrowwidth": 1
          },
          "autotypenumbers": "strict",
          "coloraxis": {
           "colorbar": {
            "outlinewidth": 0,
            "ticks": ""
           }
          },
          "colorscale": {
           "diverging": [
            [
             0,
             "#8e0152"
            ],
            [
             0.1,
             "#c51b7d"
            ],
            [
             0.2,
             "#de77ae"
            ],
            [
             0.3,
             "#f1b6da"
            ],
            [
             0.4,
             "#fde0ef"
            ],
            [
             0.5,
             "#f7f7f7"
            ],
            [
             0.6,
             "#e6f5d0"
            ],
            [
             0.7,
             "#b8e186"
            ],
            [
             0.8,
             "#7fbc41"
            ],
            [
             0.9,
             "#4d9221"
            ],
            [
             1,
             "#276419"
            ]
           ],
           "sequential": [
            [
             0,
             "#0d0887"
            ],
            [
             0.1111111111111111,
             "#46039f"
            ],
            [
             0.2222222222222222,
             "#7201a8"
            ],
            [
             0.3333333333333333,
             "#9c179e"
            ],
            [
             0.4444444444444444,
             "#bd3786"
            ],
            [
             0.5555555555555556,
             "#d8576b"
            ],
            [
             0.6666666666666666,
             "#ed7953"
            ],
            [
             0.7777777777777778,
             "#fb9f3a"
            ],
            [
             0.8888888888888888,
             "#fdca26"
            ],
            [
             1,
             "#f0f921"
            ]
           ],
           "sequentialminus": [
            [
             0,
             "#0d0887"
            ],
            [
             0.1111111111111111,
             "#46039f"
            ],
            [
             0.2222222222222222,
             "#7201a8"
            ],
            [
             0.3333333333333333,
             "#9c179e"
            ],
            [
             0.4444444444444444,
             "#bd3786"
            ],
            [
             0.5555555555555556,
             "#d8576b"
            ],
            [
             0.6666666666666666,
             "#ed7953"
            ],
            [
             0.7777777777777778,
             "#fb9f3a"
            ],
            [
             0.8888888888888888,
             "#fdca26"
            ],
            [
             1,
             "#f0f921"
            ]
           ]
          },
          "colorway": [
           "#636efa",
           "#EF553B",
           "#00cc96",
           "#ab63fa",
           "#FFA15A",
           "#19d3f3",
           "#FF6692",
           "#B6E880",
           "#FF97FF",
           "#FECB52"
          ],
          "font": {
           "color": "#2a3f5f"
          },
          "geo": {
           "bgcolor": "white",
           "lakecolor": "white",
           "landcolor": "#E5ECF6",
           "showlakes": true,
           "showland": true,
           "subunitcolor": "white"
          },
          "hoverlabel": {
           "align": "left"
          },
          "hovermode": "closest",
          "mapbox": {
           "style": "light"
          },
          "paper_bgcolor": "white",
          "plot_bgcolor": "#E5ECF6",
          "polar": {
           "angularaxis": {
            "gridcolor": "white",
            "linecolor": "white",
            "ticks": ""
           },
           "bgcolor": "#E5ECF6",
           "radialaxis": {
            "gridcolor": "white",
            "linecolor": "white",
            "ticks": ""
           }
          },
          "scene": {
           "xaxis": {
            "backgroundcolor": "#E5ECF6",
            "gridcolor": "white",
            "gridwidth": 2,
            "linecolor": "white",
            "showbackground": true,
            "ticks": "",
            "zerolinecolor": "white"
           },
           "yaxis": {
            "backgroundcolor": "#E5ECF6",
            "gridcolor": "white",
            "gridwidth": 2,
            "linecolor": "white",
            "showbackground": true,
            "ticks": "",
            "zerolinecolor": "white"
           },
           "zaxis": {
            "backgroundcolor": "#E5ECF6",
            "gridcolor": "white",
            "gridwidth": 2,
            "linecolor": "white",
            "showbackground": true,
            "ticks": "",
            "zerolinecolor": "white"
           }
          },
          "shapedefaults": {
           "line": {
            "color": "#2a3f5f"
           }
          },
          "ternary": {
           "aaxis": {
            "gridcolor": "white",
            "linecolor": "white",
            "ticks": ""
           },
           "baxis": {
            "gridcolor": "white",
            "linecolor": "white",
            "ticks": ""
           },
           "bgcolor": "#E5ECF6",
           "caxis": {
            "gridcolor": "white",
            "linecolor": "white",
            "ticks": ""
           }
          },
          "title": {
           "x": 0.05
          },
          "xaxis": {
           "automargin": true,
           "gridcolor": "white",
           "linecolor": "white",
           "ticks": "",
           "title": {
            "standoff": 15
           },
           "zerolinecolor": "white",
           "zerolinewidth": 2
          },
          "yaxis": {
           "automargin": true,
           "gridcolor": "white",
           "linecolor": "white",
           "ticks": "",
           "title": {
            "standoff": 15
           },
           "zerolinecolor": "white",
           "zerolinewidth": 2
          }
         }
        },
        "title": {
         "text": "DBSCAN Clustering 3D Visualization"
        }
       }
      }
     },
     "metadata": {},
     "output_type": "display_data"
    }
   ],
   "source": [
    "interactive_visualization(x, cluster_labels)"
   ]
  },
  {
   "cell_type": "code",
   "execution_count": 10,
   "metadata": {},
   "outputs": [
    {
     "data": {
      "text/plain": [
       "4"
      ]
     },
     "execution_count": 10,
     "metadata": {},
     "output_type": "execute_result"
    }
   ],
   "source": [
    "cluster_labels.count(-1)"
   ]
  },
  {
   "cell_type": "code",
   "execution_count": null,
   "metadata": {},
   "outputs": [],
   "source": []
  }
 ],
 "metadata": {
  "kernelspec": {
   "display_name": "Python 3",
   "language": "python",
   "name": "python3"
  },
  "language_info": {
   "codemirror_mode": {
    "name": "ipython",
    "version": 3
   },
   "file_extension": ".py",
   "mimetype": "text/x-python",
   "name": "python",
   "nbconvert_exporter": "python",
   "pygments_lexer": "ipython3",
   "version": "3.11.5"
  }
 },
 "nbformat": 4,
 "nbformat_minor": 2
}
