{
 "cells": [
  {
   "cell_type": "code",
   "execution_count": 10,
   "metadata": {},
   "outputs": [],
   "source": [
    "import numpy as np \n",
    "import pandas as pd \n",
    "from sklearn.preprocessing import normalize, StandardScaler\n",
    "from sklearn.preprocessing import Normalizer\n",
    "from sklearn.preprocessing import MinMaxScaler\n",
    "from sklearn.metrics import silhouette_score\n",
    "from sklearn.metrics import calinski_harabasz_score\n",
    "from sklearn.metrics import davies_bouldin_score\n",
    "from EM import em\n",
    "from Visualization import visualization, interactive_visualization"
   ]
  },
  {
   "cell_type": "code",
   "execution_count": 11,
   "metadata": {},
   "outputs": [],
   "source": [
    "df = pd.read_csv('wine-clustering.csv')"
   ]
  },
  {
   "cell_type": "code",
   "execution_count": 12,
   "metadata": {},
   "outputs": [],
   "source": [
    "#Scaling the data to bring all the attributes to a comparable level\n",
    "scaler = StandardScaler()\n",
    "df_scaled = scaler.fit_transform(df)\n",
    "\n",
    "#Normalizing the data so that the data approximately follows a Gaussian distribution\n",
    "df_normalized = normalize(df_scaled)"
   ]
  },
  {
   "cell_type": "code",
   "execution_count": 13,
   "metadata": {},
   "outputs": [
    {
     "data": {
      "text/html": [
       "<div>\n",
       "<style scoped>\n",
       "    .dataframe tbody tr th:only-of-type {\n",
       "        vertical-align: middle;\n",
       "    }\n",
       "\n",
       "    .dataframe tbody tr th {\n",
       "        vertical-align: top;\n",
       "    }\n",
       "\n",
       "    .dataframe thead th {\n",
       "        text-align: right;\n",
       "    }\n",
       "</style>\n",
       "<table border=\"1\" class=\"dataframe\">\n",
       "  <thead>\n",
       "    <tr style=\"text-align: right;\">\n",
       "      <th></th>\n",
       "      <th>Alcohol</th>\n",
       "      <th>Malic_Acid</th>\n",
       "      <th>Ash</th>\n",
       "      <th>Ash_Alcanity</th>\n",
       "      <th>Magnesium</th>\n",
       "      <th>Total_Phenols</th>\n",
       "      <th>Flavanoids</th>\n",
       "      <th>Nonflavanoid_Phenols</th>\n",
       "      <th>Proanthocyanins</th>\n",
       "      <th>Color_Intensity</th>\n",
       "      <th>Hue</th>\n",
       "      <th>OD280</th>\n",
       "      <th>Proline</th>\n",
       "    </tr>\n",
       "  </thead>\n",
       "  <tbody>\n",
       "    <tr>\n",
       "      <th>0</th>\n",
       "      <td>0.379613</td>\n",
       "      <td>-0.140548</td>\n",
       "      <td>0.058007</td>\n",
       "      <td>-0.292368</td>\n",
       "      <td>0.478426</td>\n",
       "      <td>0.202228</td>\n",
       "      <td>0.258678</td>\n",
       "      <td>-0.164873</td>\n",
       "      <td>0.306189</td>\n",
       "      <td>0.062923</td>\n",
       "      <td>0.090535</td>\n",
       "      <td>0.461931</td>\n",
       "      <td>0.253226</td>\n",
       "    </tr>\n",
       "    <tr>\n",
       "      <th>1</th>\n",
       "      <td>0.072771</td>\n",
       "      <td>-0.147561</td>\n",
       "      <td>-0.244647</td>\n",
       "      <td>-0.735967</td>\n",
       "      <td>0.005361</td>\n",
       "      <td>0.168017</td>\n",
       "      <td>0.216764</td>\n",
       "      <td>-0.242497</td>\n",
       "      <td>-0.160948</td>\n",
       "      <td>-0.086667</td>\n",
       "      <td>0.119975</td>\n",
       "      <td>0.328989</td>\n",
       "      <td>0.285198</td>\n",
       "    </tr>\n",
       "    <tr>\n",
       "      <th>2</th>\n",
       "      <td>0.059268</td>\n",
       "      <td>0.006391</td>\n",
       "      <td>0.333952</td>\n",
       "      <td>-0.080900</td>\n",
       "      <td>0.026599</td>\n",
       "      <td>0.243539</td>\n",
       "      <td>0.365922</td>\n",
       "      <td>-0.150039</td>\n",
       "      <td>0.643007</td>\n",
       "      <td>0.080985</td>\n",
       "      <td>0.095822</td>\n",
       "      <td>0.237395</td>\n",
       "      <td>0.419993</td>\n",
       "    </tr>\n",
       "    <tr>\n",
       "      <th>3</th>\n",
       "      <td>0.348418</td>\n",
       "      <td>-0.071435</td>\n",
       "      <td>0.100501</td>\n",
       "      <td>-0.166686</td>\n",
       "      <td>0.191747</td>\n",
       "      <td>0.513178</td>\n",
       "      <td>0.302069</td>\n",
       "      <td>-0.202243</td>\n",
       "      <td>0.212599</td>\n",
       "      <td>0.244301</td>\n",
       "      <td>-0.088064</td>\n",
       "      <td>0.243890</td>\n",
       "      <td>0.480866</td>\n",
       "    </tr>\n",
       "    <tr>\n",
       "      <th>4</th>\n",
       "      <td>0.110835</td>\n",
       "      <td>0.085345</td>\n",
       "      <td>0.689824</td>\n",
       "      <td>0.169399</td>\n",
       "      <td>0.480516</td>\n",
       "      <td>0.303230</td>\n",
       "      <td>0.248639</td>\n",
       "      <td>0.085008</td>\n",
       "      <td>0.150455</td>\n",
       "      <td>-0.119672</td>\n",
       "      <td>0.135752</td>\n",
       "      <td>0.168520</td>\n",
       "      <td>-0.014196</td>\n",
       "    </tr>\n",
       "  </tbody>\n",
       "</table>\n",
       "</div>"
      ],
      "text/plain": [
       "    Alcohol  Malic_Acid       Ash  Ash_Alcanity  Magnesium  Total_Phenols  \\\n",
       "0  0.379613   -0.140548  0.058007     -0.292368   0.478426       0.202228   \n",
       "1  0.072771   -0.147561 -0.244647     -0.735967   0.005361       0.168017   \n",
       "2  0.059268    0.006391  0.333952     -0.080900   0.026599       0.243539   \n",
       "3  0.348418   -0.071435  0.100501     -0.166686   0.191747       0.513178   \n",
       "4  0.110835    0.085345  0.689824      0.169399   0.480516       0.303230   \n",
       "\n",
       "   Flavanoids  Nonflavanoid_Phenols  Proanthocyanins  Color_Intensity  \\\n",
       "0    0.258678             -0.164873         0.306189         0.062923   \n",
       "1    0.216764             -0.242497        -0.160948        -0.086667   \n",
       "2    0.365922             -0.150039         0.643007         0.080985   \n",
       "3    0.302069             -0.202243         0.212599         0.244301   \n",
       "4    0.248639              0.085008         0.150455        -0.119672   \n",
       "\n",
       "        Hue     OD280   Proline  \n",
       "0  0.090535  0.461931  0.253226  \n",
       "1  0.119975  0.328989  0.285198  \n",
       "2  0.095822  0.237395  0.419993  \n",
       "3 -0.088064  0.243890  0.480866  \n",
       "4  0.135752  0.168520 -0.014196  "
      ]
     },
     "execution_count": 13,
     "metadata": {},
     "output_type": "execute_result"
    }
   ],
   "source": [
    "#Converting the numpy array into a pandas DataFrame\n",
    "df_normalized = pd.DataFrame(df_normalized)\n",
    "#Renaming the columns\n",
    "df_normalized.columns = df.columns\n",
    "df_normalized.head()"
   ]
  },
  {
   "cell_type": "code",
   "execution_count": 14,
   "metadata": {},
   "outputs": [],
   "source": [
    "n_clusters = 3\n",
    "cluster_labels = em(n_clusters, df_normalized)"
   ]
  },
  {
   "cell_type": "code",
   "execution_count": 15,
   "metadata": {},
   "outputs": [
    {
     "name": "stdout",
     "output_type": "stream",
     "text": [
      "Silhouette Score: 0.45218017625013124\n",
      "Calinski Harabasz Score: 190.3490577943762\n",
      "Davies Bouldin Index: 0.9183260164192548\n"
     ]
    }
   ],
   "source": [
    "# Calculate metrics\n",
    "ch_index = calinski_harabasz_score(df_normalized, cluster_labels)\n",
    "silhouette_avg = silhouette_score(df_normalized, cluster_labels)\n",
    "db_index = davies_bouldin_score(df_normalized, cluster_labels)\n",
    "\n",
    "print(\"Silhouette Score:\", silhouette_avg)\n",
    "print(\"Calinski Harabasz Score:\", ch_index)\n",
    "print(\"Davies Bouldin Index:\", db_index)"
   ]
  },
  {
   "cell_type": "code",
   "execution_count": 16,
   "metadata": {},
   "outputs": [
    {
     "data": {
      "image/png": "[encoded data removed]",
      "text/plain": [
       "<Figure size 1000x800 with 1 Axes>"
      ]
     },
     "metadata": {},
     "output_type": "display_data"
    }
   ],
   "source": [
    "visualization(df_normalized, cluster_labels)"
   ]
  },
  {
   "cell_type": "code",
   "execution_count": 17,
   "metadata": {},
   "outputs": [
    {
     "data": {
      "application/vnd.plotly.v1+json": {
       "config": {
        "plotlyServerURL": "https://plot.ly"
       },
       "data": [
        {
         "marker": {
          "color": [
           2,
           2,
           2,
           2,
           2,
           2,
           2,
           2,
           2,
           2,
           2,
           2,
           2,
           2,
           2,
           2,
           2,
           2,
           2,
           2,
           2,
           2,
           2,
           2,
           2,
           2,
           2,
           2,
           2,
           2,
           2,
           2,
           2,
           2,
           2,
           2,
           2,
           2,
           2,
           2,
           2,
           2,
           2,
           2,
           2,
           2,
           2,
           2,
           2,
           2,
           2,
           2,
           2,
           2,
           2,
           2,
           2,
           2,
           2,
           0,
           1,
           1,
           0,
           0,
           0,
           0,
           0,
           0,
           1,
           0,
           0,
           0,
           0,
           2,
           0,
           0,
           0,
           0,
           0,
           0,
           0,
           0,
           0,
           1,
           0,
           0,
           0,
           0,
           0,
           0,
           0,
           0,
           0,
           0,
           0,
           0,
           0,
           0,
           0,
           0,
           0,
           0,
           0,
           0,
           0,
           0,
           0,
           0,
           0,
           0,
           0,
           0,
           0,
           0,
           0,
           0,
           0,
           0,
           1,
           0,
           0,
           0,
           0,
           0,
           0,
           0,
           0,
           0,
           0,
           0,
           1,
           1,
           1,
           1,
           1,
           1,
           1,
           1,
           1,
           1,
           1,
           1,
           1,
           1,
           1,
           1,
           1,
           1,
           1,
           1,
           1,
           1,
           1,
           1,
           1,
           1,
           1,
           1,
           1,
           1,
           1,
           1,
           1,
           1,
           1,
           1,
           1,
           1,
           1,
           1,
           1,
           1,
           1,
           1,
           1,
           1,
           1,
           1
          ],
          "colorscale": [
           [
            0,
            "#440154"
           ],
           [
            0.1111111111111111,
            "#482878"
           ],
           [
            0.2222222222222222,
            "#3e4989"
           ],
           [
            0.3333333333333333,
            "#31688e"
           ],
           [
            0.4444444444444444,
            "#26828e"
           ],
           [
            0.5555555555555556,
            "#1f9e89"
           ],
           [
            0.6666666666666666,
            "#35b779"
           ],
           [
            0.7777777777777778,
            "#6ece58"
           ],
           [
            0.8888888888888888,
            "#b5de2b"
           ],
           [
            1,
            "#fde725"
           ]
          ],
          "opacity": 0.5
         },
         "mode": "markers",
         "text": "Cluster Labels",
         "type": "scatter3d",
         "x": [
          1.3110468091362169,
          1.1371808065427358,
          1.2437766022973762,
          1.362557817920865,
          1.1080187165341837,
          1.369513894089373,
          1.3048575937518048,
          1.3087763354988133,
          1.2643351334198665,
          1.2836783633770035,
          1.316961860608795,
          1.2351431882967074,
          1.269310936760694,
          1.237554103526766,
          1.3236844006606878,
          1.3203042795135942,
          1.3406069986699254,
          1.294834366557869,
          1.3484020420594387,
          1.259256999582337,
          1.255111315008313,
          1.069641737106177,
          1.2134450161431294,
          1.0912874140449436,
          1.1023346214661804,
          1.0130773479779156,
          1.2497186800086177,
          1.1124978023968444,
          1.2248246676215215,
          1.2258283012987818,
          1.2406964788927735,
          1.3196312805024533,
          1.1799142461535568,
          1.2164921391369699,
          1.25468458277854,
          1.2160356168313813,
          1.1865674432405893,
          1.157574037561341,
          1.0462095347997886,
          1.2446810156421282,
          1.2462474885036805,
          1.0450456108794481,
          1.3014511497036014,
          1.0252813489034118,
          1.1577962435227813,
          1.2481586732151224,
          1.2835871204413836,
          1.2555476926638574,
          1.3176824890931786,
          1.3286817877298924,
          1.1608358660621663,
          1.2709800410648695,
          1.3226269779897692,
          1.343647764391683,
          1.294370529463871,
          1.2844446423301135,
          1.3258156468882276,
          1.3187313720687763,
          1.3334235550855003,
          -1.0318549718485504,
          -0.18494383860262845,
          -0.2290251813379067,
          -0.9279409968882588,
          -0.8395619355932731,
          -1.0854218393887793,
          -0.8330274762811374,
          -0.8019996603371226,
          -1.0556840494493285,
          -0.03984760408807491,
          -0.8073379817055217,
          -1.120440955458918,
          -0.7904447256513494,
          -1.0739624223540862,
          1.0372369280504985,
          -0.7903447039148719,
          -1.152472866667098,
          -0.9873015349059516,
          -1.1710090082133222,
          -0.8087727233388815,
          -0.9415946367302523,
          -1.0788686422577887,
          -0.889630655165076,
          -1.1326194272224877,
          -0.2710862414413961,
          -0.9375847155285741,
          -0.9914777175302328,
          -1.2001236279274843,
          -1.1178046128213042,
          -1.2195573559643114,
          -1.1626512990457827,
          -1.2328264646934755,
          -1.2565902889879026,
          -1.214478314556191,
          -1.0271880651811183,
          -0.9795527219346515,
          -0.6949617760331318,
          -0.9327396710883173,
          -0.9965985513529949,
          -0.7675235247828878,
          -0.9188737518809952,
          -0.9772912557933866,
          -1.1373092386601864,
          -1.0616732102063116,
          -1.2145257088926396,
          -1.0496442940916382,
          -1.1903975416767874,
          -1.1716668616646764,
          -1.2409458924710497,
          -1.1237901646014745,
          -0.8596921418081389,
          -0.8807755907969427,
          -1.1400044434134717,
          -1.0261916738093773,
          -1.1638018137134631,
          -1.1385301932518492,
          -1.0854455099878957,
          -1.1819031600657595,
          -1.1424563279623792,
          -0.2982818027681468,
          -1.1548695682039285,
          -0.9496839236200731,
          -0.7940722621288161,
          -1.0426734781633609,
          -0.9430210065044554,
          -0.9112413925495246,
          -1.135124655883942,
          -1.034299018562974,
          -1.118798677106081,
          -1.1800711362878429,
          -1.1752552128196954,
          -0.08062627167016163,
          -0.186670654586996,
          -0.23921808623373722,
          -0.15745241734676102,
          -0.2460513146261598,
          -0.22124863933962075,
          -0.2623284570590936,
          -0.22850061918915085,
          -0.22128667503211943,
          -0.21987417540085097,
          -0.22844801451792165,
          -0.16102020407174583,
          -0.2010697366288302,
          -0.15421094494967072,
          -0.0754857282699431,
          -0.18659783982458159,
          -0.2060881398301134,
          -0.1747954614872759,
          -0.11608706762955452,
          -0.07018136976350373,
          -0.0030105429105215316,
          -0.049245101905445544,
          -0.051844717035585824,
          -0.0442395405338878,
          -0.20682080510539427,
          -0.12562810598470214,
          -0.0720217766908223,
          -0.16528254846534504,
          0.13552706567842857,
          0.042770615085182616,
          -0.2201823353587811,
          -0.07481759337430824,
          -0.2189075524389396,
          -0.1747018138922893,
          -0.10636930292822568,
          -0.20400059484846503,
          0.0175274237135505,
          -0.12722664902158143,
          -0.013572831892836774,
          0.01789073345306995,
          -0.3100443287928925,
          -0.20215979123232977,
          -0.001457479068593683,
          -0.058050368186443026,
          -0.08223532396363893,
          0.021215837106774764,
          0.001471118604785648,
          -0.02982563240411705
         ],
         "y": [
          -0.3381668834368425,
          -0.36334820498414877,
          -0.3260082174534439,
          -0.2155702503437542,
          0.021944128776684675,
          -0.20610381104893374,
          -0.25012262003206864,
          -0.08627415404021307,
          -0.2707782105714753,
          -0.4187440346293914,
          -0.3814279305022519,
          -0.202983159475298,
          -0.30513594727594806,
          -0.28395145113453146,
          -0.3060566882297461,
          -0.14326332356368768,
          -0.027292458841009493,
          -0.08690781381154271,
          -0.18418152435516952,
          -0.2174581721932947,
          -0.41454977263900905,
          -0.1401444724879436,
          -0.5386512363898701,
          -0.4938163789491405,
          -0.4622337406129859,
          0.10471350800405387,
          -0.24845884027674742,
          -0.20693740777375336,
          -0.3099119072833123,
          -0.44535885456650137,
          -0.25599555942809865,
          -0.26617703693148803,
          -0.36936636655435257,
          0.006306306438188685,
          -0.19088818468686183,
          -0.5276983064013122,
          -0.11468613098884152,
          -0.24893670884572694,
          -0.4114546516175564,
          -0.10263025301101839,
          -0.39279960624449517,
          0.010379937072133333,
          -0.37169655995566553,
          0.09262197527616735,
          -0.5052252779904686,
          0.15431119319610534,
          -0.29119249936662417,
          -0.43710714597910044,
          -0.24559809277594224,
          -0.22372754884941054,
          -0.3984038162949753,
          -0.4109971328268262,
          -0.332048347875601,
          -0.10074334361264896,
          -0.26605101069238785,
          -0.29367634935843523,
          -0.30242153899159474,
          -0.250337610023773,
          -0.3050510590806414,
          -0.1991800643665058,
          0.266996932240697,
          0.43976709342668785,
          -0.3057080251269024,
          -0.9098413488929473,
          -0.21152465016816405,
          -0.6640960569595434,
          -0.8164945478905098,
          -0.5275236531895325,
          0.2654554752880405,
          -0.5407765858831123,
          0.22068561553727248,
          -0.6608761087669852,
          -0.10327815730334908,
          -0.1850166094943859,
          -0.8179747569674581,
          -0.20499331806156243,
          -0.4824935219279104,
          0.12318335619710828,
          -0.44922950209340545,
          -0.4327908740261389,
          -0.7257079781529059,
          -0.8989906716827852,
          -0.33629545936987043,
          0.706566835286628,
          -0.6120745330794762,
          -0.7572747102704844,
          -0.23062829146492125,
          -0.30699352892496024,
          -0.08354325180671422,
          -0.36253677457910105,
          -0.0498809774153753,
          0.03612497878231834,
          0.17357110900120465,
          -0.7217527627125874,
          -0.7165910323766365,
          -0.5086834717103614,
          -0.06612315558766681,
          -0.7883388780044529,
          -0.9178308681571291,
          -0.6953490634330969,
          -0.6426391062884205,
          -0.2998401939028409,
          -0.34287298162753926,
          -0.3331641896179502,
          -0.6352652940382499,
          0.074391912894229,
          -0.39800032128257024,
          0.153431159009503,
          -0.52052816699443,
          -0.7791692070413108,
          -0.523526298235193,
          -0.39953585877328096,
          0.0798868790403906,
          -0.349279166557267,
          -0.31824143662382076,
          -0.5697693372184158,
          -0.4773672330709323,
          -0.4427895828894295,
          0.4831203671503156,
          -0.305675297021699,
          -0.62715557406023,
          -0.36138649359840835,
          0.01839741785974967,
          -0.1423667337052426,
          -0.5211392078484968,
          -0.4843811456627928,
          -0.40685938874943056,
          0.03427858909684741,
          -0.33311963039777515,
          0.18007381081930382,
          0.40840178758980256,
          0.7350979903646658,
          0.7563000896611561,
          0.6332064912562704,
          0.5833763926850634,
          0.8242315504640539,
          0.8401846433841177,
          0.8162113752603328,
          0.8531781702597592,
          0.7548635338502259,
          0.8210865214129784,
          0.7522546441492469,
          0.8070840010380378,
          0.7403695676192857,
          0.7224110066047161,
          0.8276830889138707,
          0.8295559234411999,
          0.929976379732381,
          0.9475325286777676,
          0.8817979007434188,
          0.724228728580307,
          0.7357896039766124,
          0.5859545230351914,
          0.8193039625174964,
          0.7330698514027744,
          0.9052261654519406,
          0.8809901081170823,
          0.8375569184434617,
          0.45305320614575484,
          0.5526503490185193,
          0.8582004622012527,
          0.8731672593863452,
          0.871972264422354,
          0.8955038805822333,
          0.8908740727898494,
          0.9074847319761443,
          0.8636861796604021,
          0.8632007563572651,
          0.837692392874328,
          0.7598200259893174,
          0.8122032032828663,
          0.8547538310396768,
          0.8605992285324802,
          0.9151454283994797,
          0.9682350157749829,
          0.8687586840725647,
          0.8567510896487295,
          0.8963285491571326
         ],
         "z": [
          0.05123653717962761,
          -0.6313150321863529,
          0.36459485813363746,
          0.100129737259072,
          0.7763801070670737,
          -0.03163582871142142,
          -0.2206023533789807,
          0.10447262919398992,
          -0.4334524072982195,
          -0.24592526012676627,
          -0.04125964532456944,
          -0.4194065619150328,
          -0.27249107637171266,
          -0.17918570920287505,
          -0.1218060269968019,
          0.1396413337587018,
          0.36186604994590305,
          0.3421811616690927,
          -0.0008949442670884142,
          0.038869338574185494,
          -0.034774393788623355,
          0.36684933587287805,
          -0.14905481078114963,
          -0.06355263009829988,
          0.241075768797571,
          0.8227823586918285,
          -0.014925002801847706,
          -0.6401581893652527,
          0.45245488321542615,
          -0.38038479337491016,
          0.4185589799581829,
          -0.024195473552689115,
          -0.10213026909634991,
          0.3257061490852833,
          0.23409053109852604,
          0.17642271376134078,
          0.19724794118340663,
          -0.07275433245358262,
          -0.6973161050166738,
          0.04743682233635606,
          0.047621851681371986,
          -0.3705417676706831,
          -0.011222830059144095,
          -0.0706400379721715,
          -0.2485484041807378,
          0.09954893335890119,
          -0.05983946420825482,
          -0.2811782332277349,
          0.09253536860813016,
          -0.07367237302377318,
          -0.4097985733980854,
          0.02722845851019589,
          -0.02064502960302394,
          0.20494037523248548,
          -0.2504594479004779,
          0.25988186211497766,
          -0.06095008143559925,
          0.16419198581906705,
          0.038812462045006366,
          -0.8064861430032535,
          -0.33518132895175334,
          -0.5571755370461027,
          -0.6270075482328216,
          0.00783157396918948,
          0.1090168588971048,
          0.30825207140763106,
          -0.426249722599912,
          -0.45002632271762316,
          -0.2527006038002321,
          -0.13334002785262505,
          -0.24978877880681588,
          0.5152794129470901,
          -0.06491724966929142,
          0.5452323874229694,
          0.16189832735174686,
          -0.5408991706457705,
          -0.7043493085212024,
          -0.14416069440211038,
          -0.14844713528494388,
          0.6127455072834213,
          -0.23821622923667332,
          -0.24113771194770564,
          0.22470893686552554,
          0.07866254105545567,
          0.21235461417845886,
          -0.20269067610499963,
          0.09425178178223773,
          0.44935948609685394,
          0.19461718163818756,
          0.06484595770140537,
          -0.14413488257368443,
          0.1198145893848938,
          -0.12384591920352234,
          -0.024654801599448314,
          -0.0007948545947692306,
          0.30953853369155515,
          0.3813835223119368,
          -0.4154931156098003,
          -0.017776249239715686,
          0.19360800995888183,
          -0.5380375599348363,
          -0.6126795826744146,
          0.37793314783446685,
          -0.38018819559885375,
          -0.3200909322652981,
          0.16321073054270321,
          -0.3361512046438394,
          -0.011225688237627447,
          -0.23517839062001478,
          0.541350610393575,
          0.1329567942923347,
          -0.08470817561750767,
          0.5106212745204315,
          0.2091620784345383,
          0.3027251602837987,
          0.1438294186255479,
          -0.2610224077374231,
          0.13842933804910681,
          -0.6193702174720176,
          -0.21297706056047097,
          0.3817996097931507,
          0.9441117911074353,
          0.7866654342262958,
          0.1886295236209461,
          0.38289714715800255,
          0.02661261106827927,
          0.22112123765057148,
          0.7443425332605335,
          0.32749135233289445,
          0.19341655702711738,
          -0.30875108533711926,
          -0.22336611217321625,
          -0.09435351216955999,
          -0.1281463685916775,
          -0.36899126026228996,
          -0.3172202748290885,
          -0.002968272873226566,
          0.32608435867339397,
          -0.31368510743521116,
          0.3375010710445298,
          0.12308182891236828,
          -0.3572220391481557,
          0.19568243374620928,
          -0.07462212849521434,
          -0.2645352955403045,
          -0.2520571661211595,
          -0.29164180698049635,
          0.0005434720289181166,
          -0.05510140633118215,
          -0.010635431647575038,
          0.2207977603996348,
          0.0402953905130484,
          0.43001954724570945,
          -0.09234500151819658,
          -0.3147523522218039,
          0.049234863836796705,
          -0.07822517614774673,
          0.35550004233718807,
          0.3888349803599646,
          0.2649684542230371,
          -0.00867934783828506,
          0.011931981559795427,
          0.20692303822170546,
          -0.2593178675150279,
          -0.2035948266032316,
          -0.11770739610814152,
          0.25370951658650226,
          -0.26915031350838237,
          0.32555247818619437,
          0.4486554598994118,
          -0.3058862114975847,
          -0.30161149768940065,
          -0.11916781339102679,
          0.018442599547418562,
          0.16018325780674178,
          -0.05588456231503658,
          -0.002451376782725665,
          0.33248281342097585
         ]
        }
       ],
       "layout": {
        "margin": {
         "b": 0,
         "l": 0,
         "r": 0,
         "t": 0
        },
        "scene": {
         "xaxis": {
          "title": {
           "text": "Principal Component 1"
          }
         },
         "yaxis": {
          "title": {
           "text": "Principal Component 2"
          }
         },
         "zaxis": {
          "title": {
           "text": "Principal Component 3"
          }
         }
        },
        "template": {
         "data": {
          "bar": [
           {
            "error_x": {
             "color": "#2a3f5f"
            },
            "error_y": {
             "color": "#2a3f5f"
            },
            "marker": {
             "line": {
              "color": "#E5ECF6",
              "width": 0.5
             },
             "pattern": {
              "fillmode": "overlay",
              "size": 10,
              "solidity": 0.2
             }
            },
            "type": "bar"
           }
          ],
          "barpolar": [
           {
            "marker": {
             "line": {
              "color": "#E5ECF6",
              "width": 0.5
             },
             "pattern": {
              "fillmode": "overlay",
              "size": 10,
              "solidity": 0.2
             }
            },
            "type": "barpolar"
           }
          ],
          "carpet": [
           {
            "aaxis": {
             "endlinecolor": "#2a3f5f",
             "gridcolor": "white",
             "linecolor": "white",
             "minorgridcolor": "white",
             "startlinecolor": "#2a3f5f"
            },
            "baxis": {
             "endlinecolor": "#2a3f5f",
             "gridcolor": "white",
             "linecolor": "white",
             "minorgridcolor": "white",
             "startlinecolor": "#2a3f5f"
            },
            "type": "carpet"
           }
          ],
          "choropleth": [
           {
            "colorbar": {
             "outlinewidth": 0,
             "ticks": ""
            },
            "type": "choropleth"
           }
          ],
          "contour": [
           {
            "colorbar": {
             "outlinewidth": 0,
             "ticks": ""
            },
            "colorscale": [
             [
              0,
              "#0d0887"
             ],
             [
              0.1111111111111111,
              "#46039f"
             ],
             [
              0.2222222222222222,
              "#7201a8"
             ],
             [
              0.3333333333333333,
              "#9c179e"
             ],
             [
              0.4444444444444444,
              "#bd3786"
             ],
             [
              0.5555555555555556,
              "#d8576b"
             ],
             [
              0.6666666666666666,
              "#ed7953"
             ],
             [
              0.7777777777777778,
              "#fb9f3a"
             ],
             [
              0.8888888888888888,
              "#fdca26"
             ],
             [
              1,
              "#f0f921"
             ]
            ],
            "type": "contour"
           }
          ],
          "contourcarpet": [
           {
            "colorbar": {
             "outlinewidth": 0,
             "ticks": ""
            },
            "type": "contourcarpet"
           }
          ],
          "heatmap": [
           {
            "colorbar": {
             "outlinewidth": 0,
             "ticks": ""
            },
            "colorscale": [
             [
              0,
              "#0d0887"
             ],
             [
              0.1111111111111111,
              "#46039f"
             ],
             [
              0.2222222222222222,
              "#7201a8"
             ],
             [
              0.3333333333333333,
              "#9c179e"
             ],
             [
              0.4444444444444444,
              "#bd3786"
             ],
             [
              0.5555555555555556,
              "#d8576b"
             ],
             [
              0.6666666666666666,
              "#ed7953"
             ],
             [
              0.7777777777777778,
              "#fb9f3a"
             ],
             [
              0.8888888888888888,
              "#fdca26"
             ],
             [
              1,
              "#f0f921"
             ]
            ],
            "type": "heatmap"
           }
          ],
          "heatmapgl": [
           {
            "colorbar": {
             "outlinewidth": 0,
             "ticks": ""
            },
            "colorscale": [
             [
              0,
              "#0d0887"
             ],
             [
              0.1111111111111111,
              "#46039f"
             ],
             [
              0.2222222222222222,
              "#7201a8"
             ],
             [
              0.3333333333333333,
              "#9c179e"
             ],
             [
              0.4444444444444444,
              "#bd3786"
             ],
             [
              0.5555555555555556,
              "#d8576b"
             ],
             [
              0.6666666666666666,
              "#ed7953"
             ],
             [
              0.7777777777777778,
              "#fb9f3a"
             ],
             [
              0.8888888888888888,
              "#fdca26"
             ],
             [
              1,
              "#f0f921"
             ]
            ],
            "type": "heatmapgl"
           }
          ],
          "histogram": [
           {
            "marker": {
             "pattern": {
              "fillmode": "overlay",
              "size": 10,
              "solidity": 0.2
             }
            },
            "type": "histogram"
           }
          ],
          "histogram2d": [
           {
            "colorbar": {
             "outlinewidth": 0,
             "ticks": ""
            },
            "colorscale": [
             [
              0,
              "#0d0887"
             ],
             [
              0.1111111111111111,
              "#46039f"
             ],
             [
              0.2222222222222222,
              "#7201a8"
             ],
             [
              0.3333333333333333,
              "#9c179e"
             ],
             [
              0.4444444444444444,
              "#bd3786"
             ],
             [
              0.5555555555555556,
              "#d8576b"
             ],
             [
              0.6666666666666666,
              "#ed7953"
             ],
             [
              0.7777777777777778,
              "#fb9f3a"
             ],
             [
              0.8888888888888888,
              "#fdca26"
             ],
             [
              1,
              "#f0f921"
             ]
            ],
            "type": "histogram2d"
           }
          ],
          "histogram2dcontour": [
           {
            "colorbar": {
             "outlinewidth": 0,
             "ticks": ""
            },
            "colorscale": [
             [
              0,
              "#0d0887"
             ],
             [
              0.1111111111111111,
              "#46039f"
             ],
             [
              0.2222222222222222,
              "#7201a8"
             ],
             [
              0.3333333333333333,
              "#9c179e"
             ],
             [
              0.4444444444444444,
              "#bd3786"
             ],
             [
              0.5555555555555556,
              "#d8576b"
             ],
             [
              0.6666666666666666,
              "#ed7953"
             ],
             [
              0.7777777777777778,
              "#fb9f3a"
             ],
             [
              0.8888888888888888,
              "#fdca26"
             ],
             [
              1,
              "#f0f921"
             ]
            ],
            "type": "histogram2dcontour"
           }
          ],
          "mesh3d": [
           {
            "colorbar": {
             "outlinewidth": 0,
             "ticks": ""
            },
            "type": "mesh3d"
           }
          ],
          "parcoords": [
           {
            "line": {
             "colorbar": {
              "outlinewidth": 0,
              "ticks": ""
             }
            },
            "type": "parcoords"
           }
          ],
          "pie": [
           {
            "automargin": true,
            "type": "pie"
           }
          ],
          "scatter": [
           {
            "fillpattern": {
             "fillmode": "overlay",
             "size": 10,
             "solidity": 0.2
            },
            "type": "scatter"
           }
          ],
          "scatter3d": [
           {
            "line": {
             "colorbar": {
              "outlinewidth": 0,
              "ticks": ""
             }
            },
            "marker": {
             "colorbar": {
              "outlinewidth": 0,
              "ticks": ""
             }
            },
            "type": "scatter3d"
           }
          ],
          "scattercarpet": [
           {
            "marker": {
             "colorbar": {
              "outlinewidth": 0,
              "ticks": ""
             }
            },
            "type": "scattercarpet"
           }
          ],
          "scattergeo": [
           {
            "marker": {
             "colorbar": {
              "outlinewidth": 0,
              "ticks": ""
             }
            },
            "type": "scattergeo"
           }
          ],
          "scattergl": [
           {
            "marker": {
             "colorbar": {
              "outlinewidth": 0,
              "ticks": ""
             }
            },
            "type": "scattergl"
           }
          ],
          "scattermapbox": [
           {
            "marker": {
             "colorbar": {
              "outlinewidth": 0,
              "ticks": ""
             }
            },
            "type": "scattermapbox"
           }
          ],
          "scatterpolar": [
           {
            "marker": {
             "colorbar": {
              "outlinewidth": 0,
              "ticks": ""
             }
            },
            "type": "scatterpolar"
           }
          ],
          "scatterpolargl": [
           {
            "marker": {
             "colorbar": {
              "outlinewidth": 0,
              "ticks": ""
             }
            },
            "type": "scatterpolargl"
           }
          ],
          "scatterternary": [
           {
            "marker": {
             "colorbar": {
              "outlinewidth": 0,
              "ticks": ""
             }
            },
            "type": "scatterternary"
           }
          ],
          "surface": [
           {
            "colorbar": {
             "outlinewidth": 0,
             "ticks": ""
            },
            "colorscale": [
             [
              0,
              "#0d0887"
             ],
             [
              0.1111111111111111,
              "#46039f"
             ],
             [
              0.2222222222222222,
              "#7201a8"
             ],
             [
              0.3333333333333333,
              "#9c179e"
             ],
             [
              0.4444444444444444,
              "#bd3786"
             ],
             [
              0.5555555555555556,
              "#d8576b"
             ],
             [
              0.6666666666666666,
              "#ed7953"
             ],
             [
              0.7777777777777778,
              "#fb9f3a"
             ],
             [
              0.8888888888888888,
              "#fdca26"
             ],
             [
              1,
              "#f0f921"
             ]
            ],
            "type": "surface"
           }
          ],
          "table": [
           {
            "cells": {
             "fill": {
              "color": "#EBF0F8"
             },
             "line": {
              "color": "white"
             }
            },
            "header": {
             "fill": {
              "color": "#C8D4E3"
             },
             "line": {
              "color": "white"
             }
            },
            "type": "table"
           }
          ]
         },
         "layout": {
          "annotationdefaults": {
           "arrowcolor": "#2a3f5f",
           "arrowhead": 0,
           "arrowwidth": 1
          },
          "autotypenumbers": "strict",
          "coloraxis": {
           "colorbar": {
            "outlinewidth": 0,
            "ticks": ""
           }
          },
          "colorscale": {
           "diverging": [
            [
             0,
             "#8e0152"
            ],
            [
             0.1,
             "#c51b7d"
            ],
            [
             0.2,
             "#de77ae"
            ],
            [
             0.3,
             "#f1b6da"
            ],
            [
             0.4,
             "#fde0ef"
            ],
            [
             0.5,
             "#f7f7f7"
            ],
            [
             0.6,
             "#e6f5d0"
            ],
            [
             0.7,
             "#b8e186"
            ],
            [
             0.8,
             "#7fbc41"
            ],
            [
             0.9,
             "#4d9221"
            ],
            [
             1,
             "#276419"
            ]
           ],
           "sequential": [
            [
             0,
             "#0d0887"
            ],
            [
             0.1111111111111111,
             "#46039f"
            ],
            [
             0.2222222222222222,
             "#7201a8"
            ],
            [
             0.3333333333333333,
             "#9c179e"
            ],
            [
             0.4444444444444444,
             "#bd3786"
            ],
            [
             0.5555555555555556,
             "#d8576b"
            ],
            [
             0.6666666666666666,
             "#ed7953"
            ],
            [
             0.7777777777777778,
             "#fb9f3a"
            ],
            [
             0.8888888888888888,
             "#fdca26"
            ],
            [
             1,
             "#f0f921"
            ]
           ],
           "sequentialminus": [
            [
             0,
             "#0d0887"
            ],
            [
             0.1111111111111111,
             "#46039f"
            ],
            [
             0.2222222222222222,
             "#7201a8"
            ],
            [
             0.3333333333333333,
             "#9c179e"
            ],
            [
             0.4444444444444444,
             "#bd3786"
            ],
            [
             0.5555555555555556,
             "#d8576b"
            ],
            [
             0.6666666666666666,
             "#ed7953"
            ],
            [
             0.7777777777777778,
             "#fb9f3a"
            ],
            [
             0.8888888888888888,
             "#fdca26"
            ],
            [
             1,
             "#f0f921"
            ]
           ]
          },
          "colorway": [
           "#636efa",
           "#EF553B",
           "#00cc96",
           "#ab63fa",
           "#FFA15A",
           "#19d3f3",
           "#FF6692",
           "#B6E880",
           "#FF97FF",
           "#FECB52"
          ],
          "font": {
           "color": "#2a3f5f"
          },
          "geo": {
           "bgcolor": "white",
           "lakecolor": "white",
           "landcolor": "#E5ECF6",
           "showlakes": true,
           "showland": true,
           "subunitcolor": "white"
          },
          "hoverlabel": {
           "align": "left"
          },
          "hovermode": "closest",
          "mapbox": {
           "style": "light"
          },
          "paper_bgcolor": "white",
          "plot_bgcolor": "#E5ECF6",
          "polar": {
           "angularaxis": {
            "gridcolor": "white",
            "linecolor": "white",
            "ticks": ""
           },
           "bgcolor": "#E5ECF6",
           "radialaxis": {
            "gridcolor": "white",
            "linecolor": "white",
            "ticks": ""
           }
          },
          "scene": {
           "xaxis": {
            "backgroundcolor": "#E5ECF6",
            "gridcolor": "white",
            "gridwidth": 2,
            "linecolor": "white",
            "showbackground": true,
            "ticks": "",
            "zerolinecolor": "white"
           },
           "yaxis": {
            "backgroundcolor": "#E5ECF6",
            "gridcolor": "white",
            "gridwidth": 2,
            "linecolor": "white",
            "showbackground": true,
            "ticks": "",
            "zerolinecolor": "white"
           },
           "zaxis": {
            "backgroundcolor": "#E5ECF6",
            "gridcolor": "white",
            "gridwidth": 2,
            "linecolor": "white",
            "showbackground": true,
            "ticks": "",
            "zerolinecolor": "white"
           }
          },
          "shapedefaults": {
           "line": {
            "color": "#2a3f5f"
           }
          },
          "ternary": {
           "aaxis": {
            "gridcolor": "white",
            "linecolor": "white",
            "ticks": ""
           },
           "baxis": {
            "gridcolor": "white",
            "linecolor": "white",
            "ticks": ""
           },
           "bgcolor": "#E5ECF6",
           "caxis": {
            "gridcolor": "white",
            "linecolor": "white",
            "ticks": ""
           }
          },
          "title": {
           "x": 0.05
          },
          "xaxis": {
           "automargin": true,
           "gridcolor": "white",
           "linecolor": "white",
           "ticks": "",
           "title": {
            "standoff": 15
           },
           "zerolinecolor": "white",
           "zerolinewidth": 2
          },
          "yaxis": {
           "automargin": true,
           "gridcolor": "white",
           "linecolor": "white",
           "ticks": "",
           "title": {
            "standoff": 15
           },
           "zerolinecolor": "white",
           "zerolinewidth": 2
          }
         }
        },
        "title": {
         "text": "DBSCAN Clustering 3D Visualization"
        }
       }
      }
     },
     "metadata": {},
     "output_type": "display_data"
    }
   ],
   "source": [
    "interactive_visualization(df_normalized, cluster_labels)"
   ]
  },
  {
   "cell_type": "code",
   "execution_count": null,
   "metadata": {},
   "outputs": [],
   "source": []
  }
 ],
 "metadata": {
  "kernelspec": {
   "display_name": "Python 3",
   "language": "python",
   "name": "python3"
  },
  "language_info": {
   "codemirror_mode": {
    "name": "ipython",
    "version": 3
   },
   "file_extension": ".py",
   "mimetype": "text/x-python",
   "name": "python",
   "nbconvert_exporter": "python",
   "pygments_lexer": "ipython3",
   "version": "3.11.5"
  }
 },
 "nbformat": 4,
 "nbformat_minor": 2
}
