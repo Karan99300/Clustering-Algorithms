{
 "cells": [
  {
   "cell_type": "code",
   "execution_count": 22,
   "metadata": {},
   "outputs": [],
   "source": [
    "import numpy as np \n",
    "import pandas as pd \n",
    "from sklearn.preprocessing import normalize, StandardScaler\n",
    "from sklearn.preprocessing import Normalizer\n",
    "from sklearn.preprocessing import MinMaxScaler\n",
    "import matplotlib.pyplot as plt\n",
    "from sklearn.metrics import silhouette_score\n",
    "from sklearn.metrics import calinski_harabasz_score\n",
    "from sklearn.metrics import davies_bouldin_score"
   ]
  },
  {
   "cell_type": "code",
   "execution_count": 23,
   "metadata": {},
   "outputs": [],
   "source": [
    "from minisom import MiniSom\n",
    "\n",
    "import numpy as np\n",
    "import matplotlib.pyplot as plt\n",
    "%matplotlib inline\n",
    "\n",
    "from sklearn import datasets\n",
    "from sklearn.preprocessing import scale"
   ]
  },
  {
   "cell_type": "code",
   "execution_count": 24,
   "metadata": {},
   "outputs": [],
   "source": [
    "df = pd.read_csv('glass-clustering.csv')"
   ]
  },
  {
   "cell_type": "code",
   "execution_count": 25,
   "metadata": {},
   "outputs": [],
   "source": [
    "#Scaling the data to bring all the attributes to a comparable level\n",
    "scaler = StandardScaler()\n",
    "df_scaled = scaler.fit_transform(df)\n",
    "\n",
    "#Normalizing the data so that the data approximately follows a Gaussian distribution\n",
    "df_normalized = normalize(df_scaled)"
   ]
  },
  {
   "cell_type": "code",
   "execution_count": 26,
   "metadata": {},
   "outputs": [
    {
     "data": {
      "text/html": [
       "<div>\n",
       "<style scoped>\n",
       "    .dataframe tbody tr th:only-of-type {\n",
       "        vertical-align: middle;\n",
       "    }\n",
       "\n",
       "    .dataframe tbody tr th {\n",
       "        vertical-align: top;\n",
       "    }\n",
       "\n",
       "    .dataframe thead th {\n",
       "        text-align: right;\n",
       "    }\n",
       "</style>\n",
       "<table border=\"1\" class=\"dataframe\">\n",
       "  <thead>\n",
       "    <tr style=\"text-align: right;\">\n",
       "      <th></th>\n",
       "      <th>RI</th>\n",
       "      <th>Na</th>\n",
       "      <th>Mg</th>\n",
       "      <th>Al</th>\n",
       "      <th>Si</th>\n",
       "      <th>K</th>\n",
       "      <th>Ca</th>\n",
       "      <th>Ba</th>\n",
       "      <th>Fe</th>\n",
       "    </tr>\n",
       "  </thead>\n",
       "  <tbody>\n",
       "    <tr>\n",
       "      <th>0</th>\n",
       "      <td>0.387056</td>\n",
       "      <td>0.127381</td>\n",
       "      <td>0.553080</td>\n",
       "      <td>-0.310744</td>\n",
       "      <td>-0.498534</td>\n",
       "      <td>-0.296275</td>\n",
       "      <td>-0.063113</td>\n",
       "      <td>-0.155646</td>\n",
       "      <td>-0.258803</td>\n",
       "    </tr>\n",
       "    <tr>\n",
       "      <th>1</th>\n",
       "      <td>-0.174042</td>\n",
       "      <td>0.425729</td>\n",
       "      <td>0.456357</td>\n",
       "      <td>-0.129105</td>\n",
       "      <td>0.069267</td>\n",
       "      <td>-0.020674</td>\n",
       "      <td>-0.564066</td>\n",
       "      <td>-0.252557</td>\n",
       "      <td>-0.419945</td>\n",
       "    </tr>\n",
       "    <tr>\n",
       "      <th>2</th>\n",
       "      <td>-0.471910</td>\n",
       "      <td>0.101802</td>\n",
       "      <td>0.398255</td>\n",
       "      <td>0.120512</td>\n",
       "      <td>0.285714</td>\n",
       "      <td>-0.110053</td>\n",
       "      <td>-0.543668</td>\n",
       "      <td>-0.233058</td>\n",
       "      <td>-0.387521</td>\n",
       "    </tr>\n",
       "    <tr>\n",
       "      <th>3</th>\n",
       "      <td>-0.188254</td>\n",
       "      <td>-0.197302</td>\n",
       "      <td>0.581264</td>\n",
       "      <td>-0.266983</td>\n",
       "      <td>-0.048343</td>\n",
       "      <td>0.090402</td>\n",
       "      <td>-0.427411</td>\n",
       "      <td>-0.293041</td>\n",
       "      <td>-0.487260</td>\n",
       "    </tr>\n",
       "    <tr>\n",
       "      <th>4</th>\n",
       "      <td>-0.222816</td>\n",
       "      <td>-0.119597</td>\n",
       "      <td>0.474686</td>\n",
       "      <td>-0.307694</td>\n",
       "      <td>0.399909</td>\n",
       "      <td>0.057016</td>\n",
       "      <td>-0.451643</td>\n",
       "      <td>-0.257117</td>\n",
       "      <td>-0.427526</td>\n",
       "    </tr>\n",
       "  </tbody>\n",
       "</table>\n",
       "</div>"
      ],
      "text/plain": [
       "         RI        Na        Mg        Al        Si         K        Ca  \\\n",
       "0  0.387056  0.127381  0.553080 -0.310744 -0.498534 -0.296275 -0.063113   \n",
       "1 -0.174042  0.425729  0.456357 -0.129105  0.069267 -0.020674 -0.564066   \n",
       "2 -0.471910  0.101802  0.398255  0.120512  0.285714 -0.110053 -0.543668   \n",
       "3 -0.188254 -0.197302  0.581264 -0.266983 -0.048343  0.090402 -0.427411   \n",
       "4 -0.222816 -0.119597  0.474686 -0.307694  0.399909  0.057016 -0.451643   \n",
       "\n",
       "         Ba        Fe  \n",
       "0 -0.155646 -0.258803  \n",
       "1 -0.252557 -0.419945  \n",
       "2 -0.233058 -0.387521  \n",
       "3 -0.293041 -0.487260  \n",
       "4 -0.257117 -0.427526  "
      ]
     },
     "execution_count": 26,
     "metadata": {},
     "output_type": "execute_result"
    }
   ],
   "source": [
    "#Converting the numpy array into a pandas DataFrame\n",
    "df_normalized = pd.DataFrame(df_normalized)\n",
    "#Renaming the columns\n",
    "df_normalized.columns = df.columns\n",
    "df_normalized.head()"
   ]
  },
  {
   "cell_type": "code",
   "execution_count": 27,
   "metadata": {},
   "outputs": [
    {
     "name": "stderr",
     "output_type": "stream",
     "text": [
      "c:\\Users\\Uddhav Pisharody\\AppData\\Local\\Programs\\Python\\Python311\\Lib\\site-packages\\minisom.py:162: UserWarning:\n",
      "\n",
      "Warning: sigma is too high for the dimension of the map.\n",
      "\n",
      "c:\\Users\\Uddhav Pisharody\\AppData\\Local\\Programs\\Python\\Python311\\Lib\\site-packages\\minisom.py:205: UserWarning:\n",
      "\n",
      "sigma should be an integer >=1 when triangle or bubbleare used as neighborhood function\n",
      "\n"
     ]
    },
    {
     "name": "stdout",
     "output_type": "stream",
     "text": [
      " [ 10000 / 10000 ] 100% - 0:00:00 left \n",
      " quantization error: 0.6440346942532053\n"
     ]
    },
    {
     "data": {
      "image/png": "[encoded data removed]",
      "text/plain": [
       "<Figure size 800x800 with 2 Axes>"
      ]
     },
     "metadata": {},
     "output_type": "display_data"
    }
   ],
   "source": [
    "from minisom import MiniSom\n",
    "import numpy as np\n",
    "import matplotlib.pyplot as plt\n",
    "import pandas as pd\n",
    "from sklearn.preprocessing import scale\n",
    "\n",
    "som_rows = 6\n",
    "som_columns = 1\n",
    "input_dim = df_normalized.shape[1]  # Number of columns in DataFrame\n",
    "\n",
    "# Training the SOM\n",
    "som = MiniSom(som_rows, som_columns, input_dim, sigma=2.9, learning_rate=0.5,\n",
    "              neighborhood_function='triangle', random_seed=10)\n",
    "\n",
    "data_normalized = df_normalized.values\n",
    "\n",
    "# Training the SOM with 10000 epochs\n",
    "som.train(data_normalized, 10000, random_order=False, verbose=True)\n",
    "\n",
    "# Get the cluster assignments\n",
    "cluster_assignments = np.array([som.winner(x) for x in data_normalized]).T\n",
    "\n",
    "# Visualize the results\n",
    "plt.figure(figsize=(8, 8))\n",
    "plt.scatter(df_normalized.values[:, 0], df_normalized.values[:, 1], c=cluster_assignments[0], cmap='viridis')\n",
    "plt.colorbar()\n",
    "plt.show()"
   ]
  },
  {
   "cell_type": "code",
   "execution_count": 28,
   "metadata": {},
   "outputs": [
    {
     "name": "stdout",
     "output_type": "stream",
     "text": [
      "Silhouette Score: 0.3420223463382296\n",
      "Calinski Harabasz Score: 67.3934761712428\n",
      "Davies Bouldin Index: 1.306061576092952\n"
     ]
    }
   ],
   "source": [
    "silhouette_avg = silhouette_score(data_normalized, cluster_assignments[0])\n",
    "ch_index = calinski_harabasz_score(data_normalized, cluster_assignments[0])\n",
    "db_index = davies_bouldin_score(data_normalized, cluster_assignments[0])\n",
    "print(\"Silhouette Score:\", silhouette_avg)\n",
    "print(\"Calinski Harabasz Score:\", ch_index)\n",
    "print(\"Davies Bouldin Index:\", db_index)"
   ]
  },
  {
   "cell_type": "code",
   "execution_count": 29,
   "metadata": {},
   "outputs": [
    {
     "data": {
      "image/png": "[encoded data removed]",
      "text/plain": [
       "<Figure size 1000x800 with 1 Axes>"
      ]
     },
     "metadata": {},
     "output_type": "display_data"
    }
   ],
   "source": [
    "import matplotlib.pyplot as plt\n",
    "from sklearn.decomposition import PCA\n",
    "\n",
    "cluster_assignments = np.array([som.winner(x) for x in data_normalized]).T\n",
    "\n",
    "# Visualize clusters using PCA for dimensionality reduction\n",
    "pca = PCA(n_components=3)  # Use 3 principal components for 3D visualization\n",
    "X_pca = pca.fit_transform(data_normalized)\n",
    "\n",
    "# Create a 3D scatter plot\n",
    "fig = plt.figure(figsize=(10, 8))\n",
    "ax = fig.add_subplot(111, projection='3d')\n",
    "\n",
    "# Use cluster_assignments for color-coding the points\n",
    "ax.scatter(X_pca[:, 0], X_pca[:, 1], X_pca[:, 2], c=cluster_assignments[0], cmap='viridis', alpha=0.5)\n",
    "\n",
    "ax.set_title('SOM Clustering 3D Visualization')\n",
    "ax.set_xlabel('Principal Component 1')\n",
    "ax.set_ylabel('Principal Component 2')\n",
    "ax.set_zlabel('Principal Component 3')\n",
    "\n",
    "plt.show()"
   ]
  },
  {
   "cell_type": "code",
   "execution_count": 30,
   "metadata": {},
   "outputs": [
    {
     "data": {
      "application/vnd.plotly.v1+json": {
       "config": {
        "plotlyServerURL": "https://plot.ly"
       },
       "data": [
        {
         "marker": {
          "color": [
           4,
           1,
           1,
           1,
           1,
           5,
           1,
           1,
           4,
           5,
           5,
           1,
           5,
           5,
           1,
           1,
           1,
           4,
           4,
           1,
           5,
           4,
           1,
           1,
           1,
           1,
           1,
           1,
           1,
           1,
           5,
           1,
           5,
           1,
           1,
           1,
           4,
           1,
           4,
           1,
           1,
           1,
           4,
           5,
           4,
           5,
           4,
           4,
           4,
           4,
           5,
           1,
           1,
           5,
           5,
           5,
           1,
           1,
           5,
           4,
           3,
           4,
           4,
           4,
           4,
           4,
           4,
           4,
           4,
           3,
           5,
           1,
           1,
           1,
           1,
           1,
           1,
           5,
           1,
           1,
           1,
           1,
           1,
           1,
           1,
           1,
           5,
           1,
           1,
           5,
           1,
           5,
           1,
           1,
           1,
           5,
           5,
           1,
           1,
           5,
           1,
           5,
           4,
           4,
           0,
           0,
           0,
           0,
           0,
           0,
           0,
           0,
           5,
           1,
           1,
           5,
           1,
           5,
           1,
           1,
           5,
           1,
           1,
           4,
           5,
           1,
           3,
           3,
           3,
           0,
           0,
           1,
           5,
           1,
           5,
           5,
           1,
           1,
           1,
           1,
           5,
           5,
           1,
           5,
           5,
           4,
           1,
           5,
           1,
           5,
           4,
           4,
           1,
           1,
           1,
           1,
           4,
           1,
           3,
           1,
           5,
           5,
           1,
           0,
           0,
           0,
           0,
           0,
           0,
           0,
           1,
           1,
           0,
           5,
           0,
           3,
           4,
           3,
           3,
           2,
           3,
           0,
           0,
           2,
           1,
           1,
           4,
           3,
           3,
           2,
           2,
           2,
           2,
           2,
           2,
           2,
           2,
           2,
           2,
           2,
           1,
           2,
           2,
           2,
           2,
           2,
           2,
           2,
           2,
           2,
           2,
           2,
           2
          ],
          "colorscale": [
           [
            0,
            "#440154"
           ],
           [
            0.1111111111111111,
            "#482878"
           ],
           [
            0.2222222222222222,
            "#3e4989"
           ],
           [
            0.3333333333333333,
            "#31688e"
           ],
           [
            0.4444444444444444,
            "#26828e"
           ],
           [
            0.5555555555555556,
            "#1f9e89"
           ],
           [
            0.6666666666666666,
            "#35b779"
           ],
           [
            0.7777777777777778,
            "#6ece58"
           ],
           [
            0.8888888888888888,
            "#b5de2b"
           ],
           [
            1,
            "#fde725"
           ]
          ],
          "opacity": 0.5
         },
         "mode": "markers",
         "text": "Cluster Assignments",
         "type": "scatter3d",
         "x": [
          0.13137687234660314,
          -0.36131453044477213,
          -0.553972427318237,
          -0.6549435495557338,
          -0.6824327573921741,
          -0.13318991313391562,
          -0.6453866139506894,
          -0.6202337991516598,
          0.08570628221513651,
          -0.5319440862785634,
          -0.2046075343788351,
          -0.6996648345814366,
          -0.20355756400647584,
          -0.3092378921965852,
          -0.6587151533164612,
          -0.678796482508132,
          -0.6357673883996581,
          0.45138314178428524,
          0.16914471965038386,
          -0.5273675470851256,
          -0.15444127647637942,
          0.28756822218758726,
          -0.6808373743251095,
          -0.7061704711025936,
          -0.5938363688551788,
          -0.6919000383468389,
          -0.6391683215073907,
          -0.7246278641059323,
          -0.6469801820428842,
          -0.6935736017818451,
          -0.38295101497482426,
          -0.6393808977719846,
          -0.08345501392623597,
          -0.5934094575269885,
          -0.6438331085500499,
          -0.6091378344972684,
          0.2348450640874235,
          -0.6545372228701475,
          0.3867928387877807,
          -0.6041641884524922,
          -0.6391437959021037,
          -0.6606445173480073,
          0.36315154685668755,
          0.058317157284096206,
          0.06133834961736852,
          -0.01683624212836364,
          0.6163500479842161,
          0.302612302295612,
          0.032960258003233496,
          0.5285051460761822,
          0.10189455635077853,
          -0.27952293285345475,
          -0.3639329891125174,
          -0.2522332847799758,
          -0.008652714607518394,
          -0.1153673668081472,
          -0.6687347440680096,
          -0.6074584343445328,
          -0.41799714420664014,
          -0.11236987968036377,
          0.4576156770552924,
          0.41143275009086877,
          0.4854145002849834,
          0.3840083999793794,
          0.3688699171088135,
          0.3778191327163965,
          0.3653348463119401,
          0.39979046517639666,
          0.43545760627923985,
          0.22600162347634248,
          0.2837855915010532,
          -0.7175694295227398,
          -0.6486999659020515,
          -0.7188917282726108,
          -0.7264488677079382,
          -0.5094377403324185,
          -0.7189303523786209,
          -0.15204841760484755,
          -0.5523529851563075,
          -0.4006313350083858,
          -0.6875164400784853,
          -0.6619550951959776,
          -0.6014908482176712,
          -0.11834515555213064,
          -0.6173909178164373,
          -0.6298149134194757,
          -0.45445922389240784,
          -0.7324970737539015,
          -0.47761990636517154,
          0.06372020766529268,
          -0.6995346826513245,
          -0.12324815952128021,
          -0.6262922062095463,
          -0.6882066528957289,
          -0.24961164105028646,
          -0.028525790411844373,
          -0.13995939454961762,
          -0.5071242038725572,
          -0.5184421919358643,
          -0.033275849931889576,
          -0.33674070161080566,
          0.007626516815261083,
          0.6873394554271983,
          0.7339520938566201,
          0.7138569980559215,
          0.8087376421215188,
          0.8786321881769782,
          1.0024769194788932,
          0.4120689622051145,
          0.5701099637345658,
          0.5684738362737188,
          0.7864144932367768,
          -0.12561835893501996,
          -0.5211066677720209,
          -0.42382395667776585,
          -0.3090274809518505,
          -0.171671801060835,
          0.06619075449588172,
          -0.5000675507338814,
          -0.4815288907320376,
          -0.19686443231855683,
          -0.7050322217764154,
          -0.4295542487597065,
          -0.10133947452237904,
          -0.23101668272061263,
          -0.7026690366102042,
          0.8965012630145198,
          0.9665196021059181,
          1.0315622776321427,
          0.9376301028927477,
          1.0184634542468443,
          -0.501309246490906,
          0.13113017719625256,
          -0.616498485114813,
          0.10984767405108657,
          -0.43669787377397085,
          -0.7138719826023505,
          -0.6930117336972353,
          -0.6853838628654508,
          -0.5608107157738861,
          -0.11847116958291844,
          -0.11162340771163994,
          -0.545177040372464,
          -0.010761422557197104,
          0.1638074908116106,
          -0.268896197677162,
          -0.6469763287014026,
          -0.5245053982355753,
          -0.6247209016241134,
          -0.08741639077224714,
          0.44199844572910235,
          -0.15123988218683007,
          -0.596124881437783,
          -0.6472065547092815,
          -0.6932980586292328,
          -0.5557993804967196,
          0.3594886327682748,
          -0.08660345891629743,
          0.1750674887188896,
          -0.08915432448721264,
          0.309566082113849,
          0.5747387150790422,
          0.36241087195525606,
          0.35719104408793984,
          0.3010120490386886,
          0.18742600690514713,
          0.5288543735580873,
          0.27462999291707196,
          0.7699575748391061,
          0.9452025983475308,
          0.09785160862944625,
          0.08785299513250279,
          0.8782298939630104,
          0.6096988405150457,
          0.7666300365347027,
          0.6963845106520806,
          0.5303727087855911,
          0.6638201384299206,
          0.6220638467533884,
          -0.04820025832682086,
          0.8901757165985561,
          0.9006328692121905,
          0.6903098562900997,
          0.2143540143599018,
          -0.1942812508318659,
          0.29296825251832104,
          0.26959136020480956,
          0.7614006847659399,
          0.8500600042712345,
          0.4399787402840276,
          0.7277748181372876,
          0.62621306605109,
          0.7973015648299021,
          0.7391600683910746,
          0.6055950896449637,
          0.6231550625457966,
          0.7286976902090606,
          0.6258226591411095,
          0.6869843193586838,
          0.5818898785631487,
          -0.1051822156996534,
          0.5310772762575842,
          0.6950986267502312,
          0.6768926210538876,
          0.769146093976953,
          0.7357422722929396,
          0.5078619080905266,
          0.7097863265282224,
          0.7014070266435342,
          0.7282268684573789,
          0.7652717456687552,
          0.6262232705202836,
          0.6742481582427586
         ],
         "y": [
          -0.5772903117454364,
          0.160762574185319,
          0.45159165166691023,
          -0.10061885927220007,
          0.08992418937511226,
          -0.13392766328831385,
          0.014201814734813073,
          -0.03738377382171283,
          -0.18387927998357276,
          -0.2648001813050005,
          -0.07049805172289524,
          -0.04350408655047376,
          -0.12078521904681719,
          -0.30110642938874843,
          0.06610396368837357,
          0.04016808935396346,
          -0.12499766639012748,
          -0.5409336923048559,
          -0.3750432919143098,
          0.09650228880188903,
          -0.34754396874329796,
          -0.447999471818938,
          -0.08684547908266406,
          0.049253478224850135,
          -0.038926958893411454,
          -0.04965751561546152,
          0.006163119666242073,
          0.10971373993062894,
          0.10856815897092971,
          -0.0463177350882674,
          -0.34722357162551165,
          -0.0036738013037209095,
          -0.42390779189867955,
          0.016104693405426713,
          -0.04047049947113394,
          0.1205129162646144,
          -0.29648850664719545,
          -0.01845338686263891,
          -0.626613985966009,
          -0.1628523449769854,
          0.0010856242350806289,
          -0.005303159396709484,
          -0.6820923958632713,
          -0.45841123262515765,
          -0.3923052341871773,
          -0.6882710936417604,
          -0.7390708209160815,
          -0.7077519130954585,
          -0.42027510615450375,
          -0.8590993555160382,
          -0.8834154615677524,
          -0.04273466372926911,
          -0.03446391476823933,
          -0.2685363459479845,
          -0.18366375489244982,
          -0.13460506234098416,
          -0.062086465751995244,
          0.0058816070997481425,
          -0.42907266981391595,
          -0.3528688780921681,
          -0.13774357471256157,
          -0.8801125043600315,
          -0.599420586218357,
          -0.8371222008242505,
          -0.5650292867434153,
          -0.9004151935219338,
          -0.8925443068757998,
          -0.906634002843756,
          -0.7471373042299615,
          0.1179626529802954,
          -0.5486454753626158,
          0.4026084953857099,
          0.4162224546162103,
          0.40658305687025315,
          0.38885030244659696,
          0.23027826842499477,
          0.31969149520881424,
          -0.08579281973318004,
          0.5034748667891895,
          0.5309515966499776,
          0.4139265685417453,
          0.13959917926179582,
          0.15561538910710734,
          0.5934259549183165,
          0.3098602986090384,
          0.44670401778561986,
          0.02658090523697539,
          0.3169044397550233,
          0.3069725796739317,
          -0.7181536466452194,
          0.3251131218836326,
          0.02440642256195824,
          0.4501907464820565,
          0.3610386075668945,
          -0.20495156966419834,
          -0.8093910408196445,
          -0.2945174966788329,
          0.5074645424365954,
          0.2676030839657305,
          -0.0931317162145639,
          0.25403096104368783,
          -0.32945950995833745,
          -0.6237199888051456,
          -0.5146068637989516,
          -0.29357816065797454,
          -0.13921975182666188,
          -0.5238472593884702,
          -0.12733842646354865,
          0.1799486365365311,
          -0.2579526544656057,
          -0.28084837055951617,
          -0.36578225669917713,
          -0.6237652567812074,
          -0.3800808770585531,
          -0.24687441028123688,
          -0.5392431519276347,
          0.2598330594566287,
          -0.2875044197331783,
          0.2202476299114115,
          -0.27441991662563575,
          -0.10871766678135723,
          0.2865784500485592,
          0.39153338575673446,
          -0.47045326309215396,
          -0.4590986500357197,
          -0.02124572540220403,
          -0.5402084321673514,
          -0.2777482493412132,
          -0.25290380978259436,
          -0.10984363108830018,
          -0.3212694741167774,
          -0.2668938390844139,
          -0.4155664998345026,
          -0.11943269121055794,
          -0.5365600697380335,
          -0.47525855679868806,
          0.2780209375560853,
          0.3660410030650926,
          0.3984741653038012,
          0.3009655242970302,
          -0.6000502478316433,
          -0.22642698335260172,
          0.41273301226898845,
          -0.3419262632599916,
          -0.519098781898583,
          -0.1486693434935419,
          0.17849162895951776,
          -0.21799966526747466,
          0.04192200417095979,
          -0.08187194197825644,
          -0.5480034626688753,
          -0.30207985065668574,
          0.12405679110614737,
          -0.08102993948577883,
          0.14618922015467173,
          0.082010473752783,
          -0.6281091521985622,
          -0.05943547112871532,
          -0.3019573667041769,
          -0.12338597682322115,
          -0.6671178366684763,
          -0.7000342677141564,
          0.49098338716051104,
          0.3106761365858069,
          -0.12154940599479971,
          -0.03706136131026947,
          0.33230503142566903,
          0.6518283811755171,
          0.3493430148590129,
          -0.04038519457865348,
          0.3166712545278395,
          0.32578466915759235,
          0.01773517748028459,
          -0.2139734269089399,
          -0.14274846953070558,
          0.14086653026451718,
          -0.09811889569999352,
          0.31693925366306397,
          0.4246917069078725,
          0.716203137627719,
          0.41059530309977327,
          0.5082820054941839,
          0.05074043266702138,
          0.44413514574401836,
          0.6229091999097469,
          0.3984633939218109,
          -0.49662596409847604,
          -0.07123941333275215,
          0.033776344236500985,
          0.8905455357983676,
          0.8124584058555782,
          0.8365517411207016,
          0.6929666573963303,
          0.7380171598307118,
          0.9134187116403135,
          0.9339522442124478,
          0.8744529399676686,
          0.9317089333432159,
          0.8739510004947073,
          0.8994729248417603,
          0.37189259426476373,
          0.9389163120809871,
          0.7739732663973903,
          0.8853745458264795,
          0.7127049019616885,
          0.7752447804412884,
          0.5925096695864236,
          0.8638202962104153,
          0.8628605910742513,
          0.7693991700950896,
          0.6784768213449421,
          0.8208477987045445,
          0.8027639460181328
         ],
         "z": [
          -0.6141941336152333,
          -0.45406281919582214,
          -0.16409694590691626,
          -0.40501323996319294,
          -0.2254159964525179,
          0.9117459217317301,
          -0.24618325620282341,
          -0.17399296293597985,
          -0.6801628949938432,
          0.5897572782360921,
          0.9202477661095527,
          -0.1313104152919124,
          0.901677216710724,
          0.7721969917755535,
          0.014047910947788463,
          -0.06051795347946438,
          -0.0976756518595592,
          -0.6497987485828312,
          -0.7099965077566519,
          0.36551903710792166,
          0.8331977712494164,
          -0.5569680362760823,
          -0.1852220568616837,
          -0.10220038888296228,
          -0.3881135406628594,
          -0.19690780084907597,
          -0.43786885679487847,
          -0.10245323727724315,
          0.01652387980808469,
          -0.3055008695687744,
          0.7044753459287904,
          -0.0762609158896833,
          0.8496029665030562,
          0.39938691283189304,
          -0.11764048079137489,
          -0.25417353681932614,
          -0.718369324311294,
          -0.12204851342802338,
          -0.5993783920199481,
          -0.16052894378130173,
          -0.050573822470266025,
          -0.419888055801278,
          -0.6065953009611054,
          0.8756060506191025,
          -0.7032851174463164,
          0.6254622127264519,
          -0.3121328815663205,
          -0.5310488441100565,
          -0.7449134234536735,
          -0.10726579694287483,
          0.25082515795866,
          -0.5554695781762539,
          -0.43930639127693105,
          0.5780638333514848,
          0.9092801873049164,
          0.8049127207871859,
          -0.19833153278213897,
          -0.3174432802694895,
          0.3645379072885232,
          -0.6357073882552515,
          -0.557131647607233,
          -0.20148176452516672,
          -0.6297033808784018,
          -0.34281928081432184,
          -0.6874030484757135,
          0.1720072985898204,
          0.19093803358990252,
          0.136983639750786,
          -0.44213025487123053,
          -0.0011398497683468845,
          0.6109698155591307,
          0.004245762990023844,
          -0.13864628134475018,
          0.030675294396105817,
          0.02312727429086757,
          -0.32281285224596884,
          -0.07515132637965102,
          0.3979900694694806,
          0.0888580161586967,
          0.0780303503608169,
          -0.036135778342119826,
          -0.2730119993914535,
          0.49792786269554085,
          -0.07160178779923226,
          -0.2629462611074861,
          -0.02316315034734532,
          0.4378156324481611,
          -0.07351762689215938,
          0.5867764492193851,
          0.6044072346434212,
          -0.016868905764762257,
          0.7930779505404547,
          -0.07893187686617789,
          0.1113994309050814,
          -0.6715467592087456,
          0.40204084072558277,
          0.8514289657514831,
          0.1593982933573464,
          -0.21276847862407056,
          0.9829338116925113,
          0.09864121683638945,
          0.6672341233958401,
          -0.4939660657293975,
          -0.5460433991540647,
          0.5333455900615943,
          0.20476737649071527,
          0.0038100415848995265,
          -0.11567781323789288,
          -0.0003130964803785373,
          -0.021251093131275756,
          -0.024830582165712035,
          -0.21145918185851048,
          0.36757943891361067,
          -0.45211349045067895,
          -0.567595799784618,
          0.1945848470537639,
          -0.3489516286818134,
          0.8244357766988003,
          -0.36263663273529007,
          -0.538415635114994,
          0.8781106727999984,
          -0.2117612455287422,
          -0.2870330508397375,
          -0.44879622863110763,
          0.5145580373379571,
          -0.2164726304782066,
          0.24800329014763903,
          0.4582484642236936,
          0.22963156183187017,
          -0.38153761429259886,
          -0.12970948514626054,
          -0.4981441673162201,
          0.21012058060523842,
          -0.4033583274534355,
          0.7215369221431347,
          0.4515686778157293,
          -0.047590734291661434,
          0.1002191461516135,
          0.052722815487498964,
          -0.27379205785970345,
          0.5918300674398302,
          0.9183855964099609,
          -0.06948026801579182,
          0.8846551647473535,
          0.8286054443139885,
          -0.518517726133037,
          -0.29257484281524954,
          0.4557161758576607,
          0.06549392620160314,
          0.7423807357604046,
          -0.6490513666644919,
          -0.38893111664849517,
          -0.3249804612018296,
          -0.24109931160461145,
          -0.14554021569882833,
          -0.4301546900106931,
          -0.6140992929313425,
          -0.6094706110511915,
          0.03436887375389892,
          -0.6155381208376564,
          0.4511696336247917,
          0.3482667556300342,
          0.006585330147781737,
          -0.02667854796367283,
          0.04454921121720818,
          0.1617852047461411,
          0.1336537441218924,
          0.27006743782471015,
          -0.017235817017259816,
          -0.21453424511155236,
          0.13670487189247935,
          0.14598582846413147,
          -0.18333282591684094,
          0.8579891531384624,
          0.6639609594768696,
          -0.6070855504375987,
          -0.56604920553685,
          -0.5202224414856641,
          -0.4681234844345292,
          0.12710935873176335,
          -0.3312600657740311,
          -0.11850563033770405,
          -0.21641134634016132,
          -0.03267303370784288,
          0.14776431976537568,
          -0.10036530938683476,
          -0.530845995385503,
          -0.433187086169455,
          -0.392814418485371,
          -0.022916350227791066,
          0.24739924153207116,
          0.3470277724584869,
          0.1636365027616681,
          0.190899671839402,
          0.2700411669907848,
          0.18067149226056045,
          0.016294245056292248,
          0.09585466540610355,
          0.0014349881397939255,
          0.03333531704830694,
          0.3404352682045596,
          0.09574363706622446,
          0.014475318167046017,
          0.01043624742477597,
          -0.04967416009582363,
          -0.02472279510233309,
          0.07377617499088454,
          0.05041683399440757,
          0.0833357729510868,
          -0.009887494246664533,
          0.01519271341512678,
          0.08821053349881322,
          0.08148090019230488
         ]
        }
       ],
       "layout": {
        "margin": {
         "b": 0,
         "l": 0,
         "r": 0,
         "t": 0
        },
        "scene": {
         "xaxis": {
          "title": {
           "text": "Principal Component 1"
          }
         },
         "yaxis": {
          "title": {
           "text": "Principal Component 2"
          }
         },
         "zaxis": {
          "title": {
           "text": "Principal Component 3"
          }
         }
        },
        "template": {
         "data": {
          "bar": [
           {
            "error_x": {
             "color": "#2a3f5f"
            },
            "error_y": {
             "color": "#2a3f5f"
            },
            "marker": {
             "line": {
              "color": "#E5ECF6",
              "width": 0.5
             },
             "pattern": {
              "fillmode": "overlay",
              "size": 10,
              "solidity": 0.2
             }
            },
            "type": "bar"
           }
          ],
          "barpolar": [
           {
            "marker": {
             "line": {
              "color": "#E5ECF6",
              "width": 0.5
             },
             "pattern": {
              "fillmode": "overlay",
              "size": 10,
              "solidity": 0.2
             }
            },
            "type": "barpolar"
           }
          ],
          "carpet": [
           {
            "aaxis": {
             "endlinecolor": "#2a3f5f",
             "gridcolor": "white",
             "linecolor": "white",
             "minorgridcolor": "white",
             "startlinecolor": "#2a3f5f"
            },
            "baxis": {
             "endlinecolor": "#2a3f5f",
             "gridcolor": "white",
             "linecolor": "white",
             "minorgridcolor": "white",
             "startlinecolor": "#2a3f5f"
            },
            "type": "carpet"
           }
          ],
          "choropleth": [
           {
            "colorbar": {
             "outlinewidth": 0,
             "ticks": ""
            },
            "type": "choropleth"
           }
          ],
          "contour": [
           {
            "colorbar": {
             "outlinewidth": 0,
             "ticks": ""
            },
            "colorscale": [
             [
              0,
              "#0d0887"
             ],
             [
              0.1111111111111111,
              "#46039f"
             ],
             [
              0.2222222222222222,
              "#7201a8"
             ],
             [
              0.3333333333333333,
              "#9c179e"
             ],
             [
              0.4444444444444444,
              "#bd3786"
             ],
             [
              0.5555555555555556,
              "#d8576b"
             ],
             [
              0.6666666666666666,
              "#ed7953"
             ],
             [
              0.7777777777777778,
              "#fb9f3a"
             ],
             [
              0.8888888888888888,
              "#fdca26"
             ],
             [
              1,
              "#f0f921"
             ]
            ],
            "type": "contour"
           }
          ],
          "contourcarpet": [
           {
            "colorbar": {
             "outlinewidth": 0,
             "ticks": ""
            },
            "type": "contourcarpet"
           }
          ],
          "heatmap": [
           {
            "colorbar": {
             "outlinewidth": 0,
             "ticks": ""
            },
            "colorscale": [
             [
              0,
              "#0d0887"
             ],
             [
              0.1111111111111111,
              "#46039f"
             ],
             [
              0.2222222222222222,
              "#7201a8"
             ],
             [
              0.3333333333333333,
              "#9c179e"
             ],
             [
              0.4444444444444444,
              "#bd3786"
             ],
             [
              0.5555555555555556,
              "#d8576b"
             ],
             [
              0.6666666666666666,
              "#ed7953"
             ],
             [
              0.7777777777777778,
              "#fb9f3a"
             ],
             [
              0.8888888888888888,
              "#fdca26"
             ],
             [
              1,
              "#f0f921"
             ]
            ],
            "type": "heatmap"
           }
          ],
          "heatmapgl": [
           {
            "colorbar": {
             "outlinewidth": 0,
             "ticks": ""
            },
            "colorscale": [
             [
              0,
              "#0d0887"
             ],
             [
              0.1111111111111111,
              "#46039f"
             ],
             [
              0.2222222222222222,
              "#7201a8"
             ],
             [
              0.3333333333333333,
              "#9c179e"
             ],
             [
              0.4444444444444444,
              "#bd3786"
             ],
             [
              0.5555555555555556,
              "#d8576b"
             ],
             [
              0.6666666666666666,
              "#ed7953"
             ],
             [
              0.7777777777777778,
              "#fb9f3a"
             ],
             [
              0.8888888888888888,
              "#fdca26"
             ],
             [
              1,
              "#f0f921"
             ]
            ],
            "type": "heatmapgl"
           }
          ],
          "histogram": [
           {
            "marker": {
             "pattern": {
              "fillmode": "overlay",
              "size": 10,
              "solidity": 0.2
             }
            },
            "type": "histogram"
           }
          ],
          "histogram2d": [
           {
            "colorbar": {
             "outlinewidth": 0,
             "ticks": ""
            },
            "colorscale": [
             [
              0,
              "#0d0887"
             ],
             [
              0.1111111111111111,
              "#46039f"
             ],
             [
              0.2222222222222222,
              "#7201a8"
             ],
             [
              0.3333333333333333,
              "#9c179e"
             ],
             [
              0.4444444444444444,
              "#bd3786"
             ],
             [
              0.5555555555555556,
              "#d8576b"
             ],
             [
              0.6666666666666666,
              "#ed7953"
             ],
             [
              0.7777777777777778,
              "#fb9f3a"
             ],
             [
              0.8888888888888888,
              "#fdca26"
             ],
             [
              1,
              "#f0f921"
             ]
            ],
            "type": "histogram2d"
           }
          ],
          "histogram2dcontour": [
           {
            "colorbar": {
             "outlinewidth": 0,
             "ticks": ""
            },
            "colorscale": [
             [
              0,
              "#0d0887"
             ],
             [
              0.1111111111111111,
              "#46039f"
             ],
             [
              0.2222222222222222,
              "#7201a8"
             ],
             [
              0.3333333333333333,
              "#9c179e"
             ],
             [
              0.4444444444444444,
              "#bd3786"
             ],
             [
              0.5555555555555556,
              "#d8576b"
             ],
             [
              0.6666666666666666,
              "#ed7953"
             ],
             [
              0.7777777777777778,
              "#fb9f3a"
             ],
             [
              0.8888888888888888,
              "#fdca26"
             ],
             [
              1,
              "#f0f921"
             ]
            ],
            "type": "histogram2dcontour"
           }
          ],
          "mesh3d": [
           {
            "colorbar": {
             "outlinewidth": 0,
             "ticks": ""
            },
            "type": "mesh3d"
           }
          ],
          "parcoords": [
           {
            "line": {
             "colorbar": {
              "outlinewidth": 0,
              "ticks": ""
             }
            },
            "type": "parcoords"
           }
          ],
          "pie": [
           {
            "automargin": true,
            "type": "pie"
           }
          ],
          "scatter": [
           {
            "fillpattern": {
             "fillmode": "overlay",
             "size": 10,
             "solidity": 0.2
            },
            "type": "scatter"
           }
          ],
          "scatter3d": [
           {
            "line": {
             "colorbar": {
              "outlinewidth": 0,
              "ticks": ""
             }
            },
            "marker": {
             "colorbar": {
              "outlinewidth": 0,
              "ticks": ""
             }
            },
            "type": "scatter3d"
           }
          ],
          "scattercarpet": [
           {
            "marker": {
             "colorbar": {
              "outlinewidth": 0,
              "ticks": ""
             }
            },
            "type": "scattercarpet"
           }
          ],
          "scattergeo": [
           {
            "marker": {
             "colorbar": {
              "outlinewidth": 0,
              "ticks": ""
             }
            },
            "type": "scattergeo"
           }
          ],
          "scattergl": [
           {
            "marker": {
             "colorbar": {
              "outlinewidth": 0,
              "ticks": ""
             }
            },
            "type": "scattergl"
           }
          ],
          "scattermapbox": [
           {
            "marker": {
             "colorbar": {
              "outlinewidth": 0,
              "ticks": ""
             }
            },
            "type": "scattermapbox"
           }
          ],
          "scatterpolar": [
           {
            "marker": {
             "colorbar": {
              "outlinewidth": 0,
              "ticks": ""
             }
            },
            "type": "scatterpolar"
           }
          ],
          "scatterpolargl": [
           {
            "marker": {
             "colorbar": {
              "outlinewidth": 0,
              "ticks": ""
             }
            },
            "type": "scatterpolargl"
           }
          ],
          "scatterternary": [
           {
            "marker": {
             "colorbar": {
              "outlinewidth": 0,
              "ticks": ""
             }
            },
            "type": "scatterternary"
           }
          ],
          "surface": [
           {
            "colorbar": {
             "outlinewidth": 0,
             "ticks": ""
            },
            "colorscale": [
             [
              0,
              "#0d0887"
             ],
             [
              0.1111111111111111,
              "#46039f"
             ],
             [
              0.2222222222222222,
              "#7201a8"
             ],
             [
              0.3333333333333333,
              "#9c179e"
             ],
             [
              0.4444444444444444,
              "#bd3786"
             ],
             [
              0.5555555555555556,
              "#d8576b"
             ],
             [
              0.6666666666666666,
              "#ed7953"
             ],
             [
              0.7777777777777778,
              "#fb9f3a"
             ],
             [
              0.8888888888888888,
              "#fdca26"
             ],
             [
              1,
              "#f0f921"
             ]
            ],
            "type": "surface"
           }
          ],
          "table": [
           {
            "cells": {
             "fill": {
              "color": "#EBF0F8"
             },
             "line": {
              "color": "white"
             }
            },
            "header": {
             "fill": {
              "color": "#C8D4E3"
             },
             "line": {
              "color": "white"
             }
            },
            "type": "table"
           }
          ]
         },
         "layout": {
          "annotationdefaults": {
           "arrowcolor": "#2a3f5f",
           "arrowhead": 0,
           "arrowwidth": 1
          },
          "autotypenumbers": "strict",
          "coloraxis": {
           "colorbar": {
            "outlinewidth": 0,
            "ticks": ""
           }
          },
          "colorscale": {
           "diverging": [
            [
             0,
             "#8e0152"
            ],
            [
             0.1,
             "#c51b7d"
            ],
            [
             0.2,
             "#de77ae"
            ],
            [
             0.3,
             "#f1b6da"
            ],
            [
             0.4,
             "#fde0ef"
            ],
            [
             0.5,
             "#f7f7f7"
            ],
            [
             0.6,
             "#e6f5d0"
            ],
            [
             0.7,
             "#b8e186"
            ],
            [
             0.8,
             "#7fbc41"
            ],
            [
             0.9,
             "#4d9221"
            ],
            [
             1,
             "#276419"
            ]
           ],
           "sequential": [
            [
             0,
             "#0d0887"
            ],
            [
             0.1111111111111111,
             "#46039f"
            ],
            [
             0.2222222222222222,
             "#7201a8"
            ],
            [
             0.3333333333333333,
             "#9c179e"
            ],
            [
             0.4444444444444444,
             "#bd3786"
            ],
            [
             0.5555555555555556,
             "#d8576b"
            ],
            [
             0.6666666666666666,
             "#ed7953"
            ],
            [
             0.7777777777777778,
             "#fb9f3a"
            ],
            [
             0.8888888888888888,
             "#fdca26"
            ],
            [
             1,
             "#f0f921"
            ]
           ],
           "sequentialminus": [
            [
             0,
             "#0d0887"
            ],
            [
             0.1111111111111111,
             "#46039f"
            ],
            [
             0.2222222222222222,
             "#7201a8"
            ],
            [
             0.3333333333333333,
             "#9c179e"
            ],
            [
             0.4444444444444444,
             "#bd3786"
            ],
            [
             0.5555555555555556,
             "#d8576b"
            ],
            [
             0.6666666666666666,
             "#ed7953"
            ],
            [
             0.7777777777777778,
             "#fb9f3a"
            ],
            [
             0.8888888888888888,
             "#fdca26"
            ],
            [
             1,
             "#f0f921"
            ]
           ]
          },
          "colorway": [
           "#636efa",
           "#EF553B",
           "#00cc96",
           "#ab63fa",
           "#FFA15A",
           "#19d3f3",
           "#FF6692",
           "#B6E880",
           "#FF97FF",
           "#FECB52"
          ],
          "font": {
           "color": "#2a3f5f"
          },
          "geo": {
           "bgcolor": "white",
           "lakecolor": "white",
           "landcolor": "#E5ECF6",
           "showlakes": true,
           "showland": true,
           "subunitcolor": "white"
          },
          "hoverlabel": {
           "align": "left"
          },
          "hovermode": "closest",
          "mapbox": {
           "style": "light"
          },
          "paper_bgcolor": "white",
          "plot_bgcolor": "#E5ECF6",
          "polar": {
           "angularaxis": {
            "gridcolor": "white",
            "linecolor": "white",
            "ticks": ""
           },
           "bgcolor": "#E5ECF6",
           "radialaxis": {
            "gridcolor": "white",
            "linecolor": "white",
            "ticks": ""
           }
          },
          "scene": {
           "xaxis": {
            "backgroundcolor": "#E5ECF6",
            "gridcolor": "white",
            "gridwidth": 2,
            "linecolor": "white",
            "showbackground": true,
            "ticks": "",
            "zerolinecolor": "white"
           },
           "yaxis": {
            "backgroundcolor": "#E5ECF6",
            "gridcolor": "white",
            "gridwidth": 2,
            "linecolor": "white",
            "showbackground": true,
            "ticks": "",
            "zerolinecolor": "white"
           },
           "zaxis": {
            "backgroundcolor": "#E5ECF6",
            "gridcolor": "white",
            "gridwidth": 2,
            "linecolor": "white",
            "showbackground": true,
            "ticks": "",
            "zerolinecolor": "white"
           }
          },
          "shapedefaults": {
           "line": {
            "color": "#2a3f5f"
           }
          },
          "ternary": {
           "aaxis": {
            "gridcolor": "white",
            "linecolor": "white",
            "ticks": ""
           },
           "baxis": {
            "gridcolor": "white",
            "linecolor": "white",
            "ticks": ""
           },
           "bgcolor": "#E5ECF6",
           "caxis": {
            "gridcolor": "white",
            "linecolor": "white",
            "ticks": ""
           }
          },
          "title": {
           "x": 0.05
          },
          "xaxis": {
           "automargin": true,
           "gridcolor": "white",
           "linecolor": "white",
           "ticks": "",
           "title": {
            "standoff": 15
           },
           "zerolinecolor": "white",
           "zerolinewidth": 2
          },
          "yaxis": {
           "automargin": true,
           "gridcolor": "white",
           "linecolor": "white",
           "ticks": "",
           "title": {
            "standoff": 15
           },
           "zerolinecolor": "white",
           "zerolinewidth": 2
          }
         }
        },
        "title": {
         "text": "SOM Clustering 3D Visualization"
        }
       }
      }
     },
     "metadata": {},
     "output_type": "display_data"
    }
   ],
   "source": [
    "import plotly.graph_objects as go\n",
    "from sklearn.decomposition import PCA\n",
    "\n",
    "cluster_assignments = np.array([som.winner(x) for x in data_normalized]).T\n",
    "\n",
    "# Visualize clusters using PCA for dimensionality reduction\n",
    "pca = PCA(n_components=3)  # Use 3 principal components for 3D visualization\n",
    "X_pca = pca.fit_transform(data_normalized)\n",
    "\n",
    "# Create a 3D scatter plot using Plotly\n",
    "fig = go.Figure()\n",
    "\n",
    "fig.add_trace(go.Scatter3d(\n",
    "    x=X_pca[:, 0],\n",
    "    y=X_pca[:, 1],\n",
    "    z=X_pca[:, 2],\n",
    "    mode='markers',\n",
    "    marker=dict(color=cluster_assignments[0], colorscale='viridis', opacity=0.5),\n",
    "    text='Cluster Assignments'\n",
    "))\n",
    "\n",
    "fig.update_layout(scene=dict(\n",
    "                    xaxis_title='Principal Component 1',\n",
    "                    yaxis_title='Principal Component 2',\n",
    "                    zaxis_title='Principal Component 3'),\n",
    "                  title='SOM Clustering 3D Visualization',\n",
    "                  margin=dict(l=0, r=0, b=0, t=0))\n",
    "\n",
    "fig.show()"
   ]
  },
  {
   "cell_type": "code",
   "execution_count": 31,
   "metadata": {},
   "outputs": [
    {
     "name": "stdout",
     "output_type": "stream",
     "text": [
      "Cluster 4: 31 data points\n",
      "Cluster 1: 83 data points\n",
      "Cluster 5: 41 data points\n",
      "Cluster 3: 12 data points\n",
      "Cluster 0: 21 data points\n",
      "Cluster 2: 25 data points\n"
     ]
    }
   ],
   "source": [
    "from collections import Counter\n",
    "\n",
    "cluster_assignments = np.array([som.winner(x) for x in data_normalized]).T\n",
    "\n",
    "# Get the number of data points in each cluster\n",
    "cluster_counts = Counter(cluster_assignments[0])\n",
    "\n",
    "# Print the number of data points in each cluster\n",
    "for cluster, count in cluster_counts.items():\n",
    "    print(f'Cluster {cluster}: {count} data points')"
   ]
  },
  {
   "cell_type": "code",
   "execution_count": null,
   "metadata": {},
   "outputs": [],
   "source": []
  }
 ],
 "metadata": {
  "kernelspec": {
   "display_name": "Python 3",
   "language": "python",
   "name": "python3"
  },
  "language_info": {
   "codemirror_mode": {
    "name": "ipython",
    "version": 3
   },
   "file_extension": ".py",
   "mimetype": "text/x-python",
   "name": "python",
   "nbconvert_exporter": "python",
   "pygments_lexer": "ipython3",
   "version": "3.11.5"
  }
 },
 "nbformat": 4,
 "nbformat_minor": 2
}
