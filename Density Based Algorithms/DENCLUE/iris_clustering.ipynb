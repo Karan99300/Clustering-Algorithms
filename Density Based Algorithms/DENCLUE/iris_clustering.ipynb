{
 "cells": [
  {
   "cell_type": "code",
   "execution_count": 1,
   "metadata": {},
   "outputs": [],
   "source": [
    "import numpy as np \n",
    "import pandas as pd \n",
    "from sklearn.preprocessing import normalize, StandardScaler\n",
    "from sklearn.preprocessing import Normalizer\n",
    "from sklearn.preprocessing import MinMaxScaler\n",
    "from sklearn.metrics import silhouette_score\n",
    "from sklearn.metrics import calinski_harabasz_score\n",
    "from sklearn.metrics import davies_bouldin_score\n",
    "from DENCLUE import DENCLUE\n",
    "from Visualization import visualization, interactive_visualization"
   ]
  },
  {
   "cell_type": "code",
   "execution_count": 2,
   "metadata": {},
   "outputs": [],
   "source": [
    "df = pd.read_csv('iris-clustering.csv')"
   ]
  },
  {
   "cell_type": "code",
   "execution_count": 3,
   "metadata": {},
   "outputs": [],
   "source": [
    "#Scaling the data to bring all the attributes to a comparable level\n",
    "scaler = StandardScaler()\n",
    "df_scaled = scaler.fit_transform(df)\n",
    "\n",
    "#Normalizing the data so that the data approximately follows a Gaussian distribution\n",
    "df_normalized = normalize(df_scaled)"
   ]
  },
  {
   "cell_type": "code",
   "execution_count": 4,
   "metadata": {},
   "outputs": [
    {
     "data": {
      "text/html": [
       "<div>\n",
       "<style scoped>\n",
       "    .dataframe tbody tr th:only-of-type {\n",
       "        vertical-align: middle;\n",
       "    }\n",
       "\n",
       "    .dataframe tbody tr th {\n",
       "        vertical-align: top;\n",
       "    }\n",
       "\n",
       "    .dataframe thead th {\n",
       "        text-align: right;\n",
       "    }\n",
       "</style>\n",
       "<table border=\"1\" class=\"dataframe\">\n",
       "  <thead>\n",
       "    <tr style=\"text-align: right;\">\n",
       "      <th></th>\n",
       "      <th>sepal_length</th>\n",
       "      <th>sepal_width</th>\n",
       "      <th>petal_length</th>\n",
       "      <th>petal_width</th>\n",
       "    </tr>\n",
       "  </thead>\n",
       "  <tbody>\n",
       "    <tr>\n",
       "      <th>0</th>\n",
       "      <td>-0.390160</td>\n",
       "      <td>0.434679</td>\n",
       "      <td>-0.578623</td>\n",
       "      <td>-0.569232</td>\n",
       "    </tr>\n",
       "    <tr>\n",
       "      <th>1</th>\n",
       "      <td>-0.518512</td>\n",
       "      <td>-0.057373</td>\n",
       "      <td>-0.608179</td>\n",
       "      <td>-0.598308</td>\n",
       "    </tr>\n",
       "    <tr>\n",
       "      <th>2</th>\n",
       "      <td>-0.578457</td>\n",
       "      <td>0.136859</td>\n",
       "      <td>-0.584726</td>\n",
       "      <td>-0.552043</td>\n",
       "    </tr>\n",
       "    <tr>\n",
       "      <th>3</th>\n",
       "      <td>-0.631489</td>\n",
       "      <td>0.042163</td>\n",
       "      <td>-0.540152</td>\n",
       "      <td>-0.554689</td>\n",
       "    </tr>\n",
       "    <tr>\n",
       "      <th>4</th>\n",
       "      <td>-0.414170</td>\n",
       "      <td>0.499298</td>\n",
       "      <td>-0.542513</td>\n",
       "      <td>-0.533708</td>\n",
       "    </tr>\n",
       "  </tbody>\n",
       "</table>\n",
       "</div>"
      ],
      "text/plain": [
       "   sepal_length  sepal_width  petal_length  petal_width\n",
       "0     -0.390160     0.434679     -0.578623    -0.569232\n",
       "1     -0.518512    -0.057373     -0.608179    -0.598308\n",
       "2     -0.578457     0.136859     -0.584726    -0.552043\n",
       "3     -0.631489     0.042163     -0.540152    -0.554689\n",
       "4     -0.414170     0.499298     -0.542513    -0.533708"
      ]
     },
     "execution_count": 4,
     "metadata": {},
     "output_type": "execute_result"
    }
   ],
   "source": [
    "#Converting the numpy array into a pandas DataFrame\n",
    "df_normalized = pd.DataFrame(df_normalized)\n",
    "#Renaming the columns\n",
    "df_normalized.columns = df.columns\n",
    "df_normalized.head()"
   ]
  },
  {
   "cell_type": "code",
   "execution_count": 5,
   "metadata": {},
   "outputs": [],
   "source": [
    "data_array = df_normalized.values\n",
    "data_list = data_array.tolist()\n",
    "X = data_list\n",
    "x = data_array "
   ]
  },
  {
   "cell_type": "code",
   "execution_count": 6,
   "metadata": {},
   "outputs": [
    {
     "data": {
      "text/html": [
       "<style>#sk-container-id-1 {color: black;}#sk-container-id-1 pre{padding: 0;}#sk-container-id-1 div.sk-toggleable {background-color: white;}#sk-container-id-1 label.sk-toggleable__label {cursor: pointer;display: block;width: 100%;margin-bottom: 0;padding: 0.3em;box-sizing: border-box;text-align: center;}#sk-container-id-1 label.sk-toggleable__label-arrow:before {content: \"▸\";float: left;margin-right: 0.25em;color: #696969;}#sk-container-id-1 label.sk-toggleable__label-arrow:hover:before {color: black;}#sk-container-id-1 div.sk-estimator:hover label.sk-toggleable__label-arrow:before {color: black;}#sk-container-id-1 div.sk-toggleable__content {max-height: 0;max-width: 0;overflow: hidden;text-align: left;background-color: #f0f8ff;}#sk-container-id-1 div.sk-toggleable__content pre {margin: 0.2em;color: black;border-radius: 0.25em;background-color: #f0f8ff;}#sk-container-id-1 input.sk-toggleable__control:checked~div.sk-toggleable__content {max-height: 200px;max-width: 100%;overflow: auto;}#sk-container-id-1 input.sk-toggleable__control:checked~label.sk-toggleable__label-arrow:before {content: \"▾\";}#sk-container-id-1 div.sk-estimator input.sk-toggleable__control:checked~label.sk-toggleable__label {background-color: #d4ebff;}#sk-container-id-1 div.sk-label input.sk-toggleable__control:checked~label.sk-toggleable__label {background-color: #d4ebff;}#sk-container-id-1 input.sk-hidden--visually {border: 0;clip: rect(1px 1px 1px 1px);clip: rect(1px, 1px, 1px, 1px);height: 1px;margin: -1px;overflow: hidden;padding: 0;position: absolute;width: 1px;}#sk-container-id-1 div.sk-estimator {font-family: monospace;background-color: #f0f8ff;border: 1px dotted black;border-radius: 0.25em;box-sizing: border-box;margin-bottom: 0.5em;}#sk-container-id-1 div.sk-estimator:hover {background-color: #d4ebff;}#sk-container-id-1 div.sk-parallel-item::after {content: \"\";width: 100%;border-bottom: 1px solid gray;flex-grow: 1;}#sk-container-id-1 div.sk-label:hover label.sk-toggleable__label {background-color: #d4ebff;}#sk-container-id-1 div.sk-serial::before {content: \"\";position: absolute;border-left: 1px solid gray;box-sizing: border-box;top: 0;bottom: 0;left: 50%;z-index: 0;}#sk-container-id-1 div.sk-serial {display: flex;flex-direction: column;align-items: center;background-color: white;padding-right: 0.2em;padding-left: 0.2em;position: relative;}#sk-container-id-1 div.sk-item {position: relative;z-index: 1;}#sk-container-id-1 div.sk-parallel {display: flex;align-items: stretch;justify-content: center;background-color: white;position: relative;}#sk-container-id-1 div.sk-item::before, #sk-container-id-1 div.sk-parallel-item::before {content: \"\";position: absolute;border-left: 1px solid gray;box-sizing: border-box;top: 0;bottom: 0;left: 50%;z-index: -1;}#sk-container-id-1 div.sk-parallel-item {display: flex;flex-direction: column;z-index: 1;position: relative;background-color: white;}#sk-container-id-1 div.sk-parallel-item:first-child::after {align-self: flex-end;width: 50%;}#sk-container-id-1 div.sk-parallel-item:last-child::after {align-self: flex-start;width: 50%;}#sk-container-id-1 div.sk-parallel-item:only-child::after {width: 0;}#sk-container-id-1 div.sk-dashed-wrapped {border: 1px dashed gray;margin: 0 0.4em 0.5em 0.4em;box-sizing: border-box;padding-bottom: 0.4em;background-color: white;}#sk-container-id-1 div.sk-label label {font-family: monospace;font-weight: bold;display: inline-block;line-height: 1.2em;}#sk-container-id-1 div.sk-label-container {text-align: center;}#sk-container-id-1 div.sk-container {/* jupyter's `normalize.less` sets `[hidden] { display: none; }` but bootstrap.min.css set `[hidden] { display: none !important; }` so we also need the `!important` here to be able to override the default hidden behavior on the sphinx rendered scikit-learn.org. See: https://github.com/scikit-learn/scikit-learn/issues/21755 */display: inline-block !important;position: relative;}#sk-container-id-1 div.sk-text-repr-fallback {display: none;}</style><div id=\"sk-container-id-1\" class=\"sk-top-container\"><div class=\"sk-text-repr-fallback\"><pre>DENCLUE(h=0.17, min_density=1.0)</pre><b>In a Jupyter environment, please rerun this cell to show the HTML representation or trust the notebook. <br />On GitHub, the HTML representation is unable to render, please try loading this page with nbviewer.org.</b></div><div class=\"sk-container\" hidden><div class=\"sk-item\"><div class=\"sk-estimator sk-toggleable\"><input class=\"sk-toggleable__control sk-hidden--visually\" id=\"sk-estimator-id-1\" type=\"checkbox\" checked><label for=\"sk-estimator-id-1\" class=\"sk-toggleable__label sk-toggleable__label-arrow\">DENCLUE</label><div class=\"sk-toggleable__content\"><pre>DENCLUE(h=0.17, min_density=1.0)</pre></div></div></div></div></div>"
      ],
      "text/plain": [
       "DENCLUE(h=0.17, min_density=1.0)"
      ]
     },
     "execution_count": 6,
     "metadata": {},
     "output_type": "execute_result"
    }
   ],
   "source": [
    "X = df_normalized.values  # Convert DataFrame to numpy array\n",
    "\n",
    "# Instantiate and fit the DENCLUE model\n",
    "denclue = DENCLUE(h = 0.17, eps = 1e-8, min_density = 1.0)\n",
    "denclue.fit(X)"
   ]
  },
  {
   "cell_type": "code",
   "execution_count": 7,
   "metadata": {},
   "outputs": [
    {
     "name": "stdout",
     "output_type": "stream",
     "text": [
      "{0.0, 1.0, 2.0, -1.0}\n",
      "[ 0.  0.  0.  0.  0.  0.  0.  0.  0.  0.  0.  0.  0.  0.  0.  0.  0.  0.\n",
      "  0.  0.  0.  0.  0.  0.  0.  0.  0.  0.  0.  0.  0.  0.  0.  0.  0.  0.\n",
      "  0.  0.  0.  1.  0.  0.  0.  0.  0.  0.  0.  0.  2.  2.  2.  1.  2.  1.\n",
      "  2.  1.  2.  1.  1.  2.  1.  2.  1.  2. -1.  1.  1.  1.  2.  1.  2.  2.\n",
      "  2.  2.  2.  2.  2.  1.  1.  1.  1.  2. -1.  2.  2.  1. -1.  1.  1.  2.\n",
      "  1.  1.  1. -1.  1.  2.  1.  1.  2.  2.  2.  2.  2.  2.  1.  2.  2.  2.\n",
      "  2.  2.  2.  2.  2.  2.  2.  2.  2.  1.  2.  2.  2.  2.  2.  2.  2.  2.\n",
      "  2.  2.  2.  2.  2.  2.  2.  2.  2.  2.  2.  2.  2.  2.  2.  2.  2.  2.\n",
      "  2.  2.  2.]\n"
     ]
    }
   ],
   "source": [
    "labels = denclue.labels_\n",
    "\n",
    "print(set(labels))\n",
    "print(labels)"
   ]
  },
  {
   "cell_type": "code",
   "execution_count": 8,
   "metadata": {},
   "outputs": [
    {
     "name": "stdout",
     "output_type": "stream",
     "text": [
      "Silhouette Score: 0.524560058547412\n",
      "Calinski Harabasz Score: 199.9778388490444\n",
      "Davies Bouldin Index: 0.644999763457645\n"
     ]
    }
   ],
   "source": [
    "# Calculate metrics\n",
    "ch_index = calinski_harabasz_score(data_list, labels)\n",
    "silhouette_avg = silhouette_score(x, labels)\n",
    "db_index = davies_bouldin_score(x, labels)\n",
    "\n",
    "print(\"Silhouette Score:\", silhouette_avg)\n",
    "print(\"Calinski Harabasz Score:\", ch_index)\n",
    "print(\"Davies Bouldin Index:\", db_index)"
   ]
  },
  {
   "cell_type": "code",
   "execution_count": 9,
   "metadata": {},
   "outputs": [
    {
     "data": {
      "image/png": "[encoded data removed]",
      "text/plain": [
       "<Figure size 1000x800 with 1 Axes>"
      ]
     },
     "metadata": {},
     "output_type": "display_data"
    }
   ],
   "source": [
    "visualization(x, labels)"
   ]
  },
  {
   "cell_type": "code",
   "execution_count": 10,
   "metadata": {},
   "outputs": [
    {
     "data": {
      "application/vnd.plotly.v1+json": {
       "config": {
        "plotlyServerURL": "https://plot.ly"
       },
       "data": [
        {
         "marker": {
          "color": [
           0,
           0,
           0,
           0,
           0,
           0,
           0,
           0,
           0,
           0,
           0,
           0,
           0,
           0,
           0,
           0,
           0,
           0,
           0,
           0,
           0,
           0,
           0,
           0,
           0,
           0,
           0,
           0,
           0,
           0,
           0,
           0,
           0,
           0,
           0,
           0,
           0,
           0,
           0,
           1,
           0,
           0,
           0,
           0,
           0,
           0,
           0,
           0,
           2,
           2,
           2,
           1,
           2,
           1,
           2,
           1,
           2,
           1,
           1,
           2,
           1,
           2,
           1,
           2,
           -1,
           1,
           1,
           1,
           2,
           1,
           2,
           2,
           2,
           2,
           2,
           2,
           2,
           1,
           1,
           1,
           1,
           2,
           -1,
           2,
           2,
           1,
           -1,
           1,
           1,
           2,
           1,
           1,
           1,
           -1,
           1,
           2,
           1,
           1,
           2,
           2,
           2,
           2,
           2,
           2,
           1,
           2,
           2,
           2,
           2,
           2,
           2,
           2,
           2,
           2,
           2,
           2,
           2,
           1,
           2,
           2,
           2,
           2,
           2,
           2,
           2,
           2,
           2,
           2,
           2,
           2,
           2,
           2,
           2,
           2,
           2,
           2,
           2,
           2,
           2,
           2,
           2,
           2,
           2,
           2,
           2,
           2,
           2
          ],
          "colorscale": [
           [
            0,
            "#440154"
           ],
           [
            0.1111111111111111,
            "#482878"
           ],
           [
            0.2222222222222222,
            "#3e4989"
           ],
           [
            0.3333333333333333,
            "#31688e"
           ],
           [
            0.4444444444444444,
            "#26828e"
           ],
           [
            0.5555555555555556,
            "#1f9e89"
           ],
           [
            0.6666666666666666,
            "#35b779"
           ],
           [
            0.7777777777777778,
            "#6ece58"
           ],
           [
            0.8888888888888888,
            "#b5de2b"
           ],
           [
            1,
            "#fde725"
           ]
          ],
          "opacity": 0.5
         },
         "mode": "markers",
         "text": "Cluster Labels",
         "type": "scatter3d",
         "x": [
          1.125814176762583,
          1.0861162813645422,
          1.1303980990185216,
          1.1055031697332327,
          1.1144152976528945,
          0.971300936553571,
          1.1325077991694208,
          1.1402203273930824,
          1.037793482971325,
          1.1128855296067597,
          1.051494298270674,
          1.1394093596330974,
          1.0858645004816387,
          1.0749436112606832,
          0.9153503942160164,
          0.8072677653964027,
          0.9868039920505921,
          1.1242315041931723,
          0.9559369017322652,
          1.053217442293285,
          1.1077766113033092,
          1.072513665947741,
          1.1254035395797632,
          1.1406137702280332,
          1.1322568417182912,
          1.0833515522057235,
          1.137600563202557,
          1.1178905244760713,
          1.1300439700297293,
          1.1275314287686393,
          1.112571198883379,
          1.1094403440835712,
          0.9790409034489391,
          0.911343216747828,
          1.1320708066257372,
          1.0800232192820214,
          1.0720881361425647,
          1.1365436196287797,
          1.128813557968754,
          0.7565908749575715,
          1.1145029271365456,
          1.1056285618784587,
          1.0290518104056463,
          1.0835107052301032,
          1.0563870600307341,
          1.1252217143510879,
          1.0648858680455036,
          1.1422007168545527,
          -0.5410376275868367,
          -0.608576726053784,
          -0.6719379401022584,
          -0.08601876312082993,
          -0.7697377001286351,
          -0.3638089806072819,
          -0.5243282087676521,
          0.38929288889531166,
          -0.6834801838293825,
          0.13062859884369202,
          0.1779435257331325,
          -0.7464510051811172,
          -0.1340915591041242,
          -0.7985413596804138,
          0.23885621620676933,
          -0.605200426412651,
          -0.3779842300489781,
          -0.021142544637057368,
          -0.44090729048102195,
          0.02214215821453721,
          -0.5557546601334243,
          -0.5247144631857282,
          -0.6334096503358968,
          -0.5883529941106782,
          -0.6825387826738303,
          -0.6882993061252786,
          -0.7101585891657377,
          -0.8024001049047788,
          -0.7968449326577461,
          0.1914620975271379,
          0.06052775025040981,
          0.1298595889856293,
          -0.13383408028282137,
          -0.708185627503832,
          -0.13282375964306328,
          -0.2408439886212491,
          -0.6881659036611671,
          -0.4126965712658112,
          0.0015331172123155142,
          -0.06549745946320608,
          -0.09227479343033033,
          -0.8274276180708086,
          -0.16527711897313802,
          0.31437276710931816,
          -0.16656048750771368,
          -0.08636795865708874,
          -0.3002904175569837,
          -0.7252931048912543,
          0.4156285572417073,
          -0.23217913531606885,
          -0.6640596319344629,
          -0.6604218745338128,
          -0.8148877992496596,
          -0.8391025033203646,
          -0.821992417593586,
          -0.7890430770234157,
          -0.06298120653537137,
          -0.7931352804858071,
          -0.7844815645807808,
          -0.5994809532096257,
          -0.722019895130884,
          -0.8254348223892978,
          -0.8243944346309534,
          -0.5601220664828529,
          -0.6528151990437866,
          -0.7088959027658787,
          -0.8338399474543787,
          -0.5282787480121827,
          -0.8309243641573012,
          -0.4520898134112777,
          -0.7538804541042109,
          -0.5593211258170574,
          -0.7991750281879155,
          -0.7943480363476427,
          -0.6967085669674082,
          -0.7143726475360841,
          -0.8135260693299703,
          -0.8040342987462371,
          -0.8419776499168574,
          -0.7404104033926597,
          -0.8032485853854533,
          -0.49194475608260063,
          -0.8350870239835577,
          -0.8007949003962312,
          -0.6422561694785743,
          -0.7825879215480798,
          -0.5910904008576922,
          -0.7886292688920197,
          -0.7678712265118999,
          -0.7828259550870966,
          -0.7823347091998886,
          -0.7609656228189368,
          -0.7595720377011187,
          -0.6979646747860989,
          -0.8021093130933045,
          -0.7210016701562157,
          -0.8281295683871535,
          -0.5554479980517666,
          -0.7251662065462804
         ],
         "y": [
          -0.26733450455625823,
          0.23384647890608914,
          0.0790985317477924,
          0.1873476416850414,
          -0.3187076653545761,
          -0.6414804936671402,
          -0.07665733853925183,
          -0.15953331833415402,
          0.3626045099260324,
          0.1412367054902762,
          -0.49185870827153505,
          -0.11388370241983313,
          0.24061221285524545,
          0.27651423176808354,
          -0.7030882468613087,
          -0.8289052858110385,
          -0.6184066659541527,
          -0.27826792036154524,
          -0.6507125674101284,
          -0.48923405654691776,
          -0.2677711355225524,
          -0.44251200929174717,
          -0.219193909178541,
          -0.11023929084858558,
          -0.1146836362806065,
          0.22967135661175705,
          -0.17686741231064596,
          -0.29574033808651745,
          -0.20751575547628268,
          0.08613478737650795,
          0.16375686403991402,
          -0.28831683317069273,
          -0.6200750085742962,
          -0.7208578151996979,
          0.02323220243241253,
          -0.36633979768420943,
          0.28190985380845734,
          -0.184021039393485,
          -0.24996785409750438,
          0.6945753300193562,
          0.12237763915377667,
          -0.28882545821672584,
          -0.5207805632752431,
          0.2526936878227629,
          -0.47932475134213587,
          0.09706836452116496,
          -0.46650223854450285,
          -0.06807619546735025,
          -0.6637805270592335,
          -0.7339571587558241,
          -0.5221259537939685,
          0.8868642167859775,
          0.07209231780650587,
          0.7199487497926099,
          -0.8038214476957977,
          0.8809681999171959,
          -0.13606041679793482,
          0.8147950384961983,
          0.9153079775550381,
          0.048984134025533956,
          0.7852615916329688,
          0.16273180869420192,
          0.8030455553425588,
          -0.5635295426239049,
          0.24451292452779597,
          0.8145032747316608,
          0.6729816744287299,
          0.8984201385315151,
          -0.45625449157672004,
          0.5054453217684431,
          0.49163075083448304,
          0.40886699525358927,
          -0.03127160271502742,
          -0.35824191502199937,
          -0.05555341177890367,
          -0.3395120460363621,
          0.2379154056545097,
          0.8627220281621343,
          0.9065574148574389,
          0.9021984150155203,
          0.8531037448426182,
          0.42423202800020793,
          0.3118566325467897,
          -0.8765481438709819,
          -0.5322065601844277,
          0.6400804932497438,
          0.5060698321847584,
          0.89348276413865,
          0.8705778705428779,
          -0.12382235941094552,
          0.8433729094183932,
          0.9014676633412676,
          0.8582869243440001,
          0.5126642567489851,
          0.7284521875037272,
          0.14162849940144062,
          0.8614717119554912,
          0.8360221573190488,
          -0.46674714838056464,
          0.3991211353045281,
          -0.3490869954974447,
          -0.05537529831646409,
          -0.2462925161803472,
          -0.37613771750121267,
          0.7570201290553414,
          -0.2731960518934466,
          0.22968809437287568,
          -0.7356593868617577,
          -0.5421371209029608,
          0.15689239431130603,
          -0.3195646094982022,
          0.5550066497997448,
          0.15025417355569134,
          -0.45893435598939225,
          -0.2642688588460957,
          -0.8146426318456226,
          -0.11043654375093609,
          0.706463905327171,
          -0.5043931744109692,
          0.32949286981344084,
          -0.23960621759470888,
          0.23973659804975186,
          -0.5994024530362468,
          -0.5471446103008974,
          0.1609758778451602,
          -0.1486029684066667,
          0.00790628055399171,
          -0.3723680788188586,
          -0.20717761520441716,
          -0.8378572004160094,
          -0.0023571011871509943,
          0.15839522838743808,
          0.4483472362594185,
          -0.3947687795158187,
          -0.5871732143860503,
          -0.3831051444066978,
          -0.1025806783124461,
          -0.4457931835221601,
          -0.3829907466451554,
          -0.43938847638392287,
          -0.48272181646873025,
          -0.5406821041033186,
          -0.3018772000260617,
          0.3941957547680781,
          -0.2726454370173575,
          -0.603248661753253,
          -0.053969144168675084
         ],
         "z": [
          -0.04988203348877152,
          -0.12002937599374182,
          0.011932240773009375,
          0.03261655486333934,
          0.014772662822254421,
          0.024529059032164048,
          0.13527703663889626,
          -0.03496668059278826,
          0.04167125522263892,
          -0.1154358955186507,
          -0.09908055253011921,
          0.047330125950908915,
          -0.10696657027264593,
          0.05251894300861481,
          -0.15248930583771927,
          0.02435045211104386,
          0.0034366004128255512,
          -0.018450845918893493,
          -0.14293254995914587,
          0.06293442561843517,
          -0.20158379780864646,
          0.07262016006349777,
          0.11856166255803438,
          0.0099696084926976,
          0.06683592377253902,
          -0.15684392462599153,
          0.040171076349335685,
          -0.08493897549458711,
          -0.12279361609771801,
          0.02988403438691955,
          -0.03833406326820105,
          -0.14733469996486018,
          0.037007793645512384,
          -0.007607920399562016,
          -0.11098909122470567,
          -0.21795154467677488,
          0.061799991343307624,
          -0.07587930933957712,
          0.014243909477809973,
          -0.10723407941975172,
          0.11152057674107194,
          0.1439975341409152,
          0.11946016133008501,
          -0.04675385071388235,
          0.03898072557465414,
          0.05333897512673204,
          -0.06172087759876296,
          -0.07078564795929403,
          -0.4505771273354725,
          -0.10436499128415003,
          -0.3865144685264387,
          -0.06251073423325333,
          -0.38547725409231126,
          0.16106827238664564,
          0.1471968368166571,
          0.09169531847561008,
          -0.5666272776073014,
          0.4218983097791063,
          -0.061146681180929745,
          0.3943976542140592,
          -0.4274193879941852,
          -0.09645065871694243,
          0.3273931037067551,
          -0.4690404099132643,
          0.752194933363678,
          -0.3524387934475241,
          -0.28703352577090496,
          -0.16883354063520345,
          0.5937075405600359,
          -0.44529582662520395,
          -0.27306486944917646,
          -0.34215359224148645,
          -0.5754882590055657,
          -0.49392333200456473,
          -0.5336753020012043,
          -0.2089493261246188,
          0.09688455804557572,
          -0.33307531104213495,
          -0.13776563858769114,
          -0.1910797908712897,
          -0.22944575419587607,
          0.06310900820772639,
          0.8393118457685254,
          0.4478282775526533,
          -0.33819997314809597,
          -0.4205024763246905,
          0.7403903265540602,
          0.019932227260277248,
          0.06261671156034779,
          -0.026675230264549345,
          -0.23252706526694308,
          0.009564962209281446,
          0.11244633669548254,
          0.44341716063885905,
          0.31343806902252647,
          -0.45080740300974165,
          0.06334413752693646,
          0.10716681508930494,
          0.43094183824470317,
          0.330996434709986,
          -0.11100011751916486,
          0.10448762086527004,
          0.18458607061501006,
          -0.21293388942020172,
          0.48749683724579773,
          -0.27675174416339066,
          -0.21320074805754385,
          0.12385704461697751,
          0.16382492864299633,
          -0.02381690199842439,
          -0.015145643549769747,
          0.27171414530604104,
          0.4919371021496735,
          0.31892510847327804,
          0.016775584430368806,
          -0.028131640789260528,
          -0.23596904309088024,
          -0.166604076214468,
          0.08214418191427274,
          0.5531265827429683,
          -0.29830731451755615,
          -0.05120530572186627,
          0.14358016256930634,
          -0.18704150262144403,
          0.06117891250954249,
          0.29451224671420717,
          0.11776970815064021,
          -0.3497778697021647,
          -0.30774840435999723,
          -0.13248375913704435,
          0.15064908582083256,
          -0.17041371251207818,
          -0.10837781814106237,
          -0.2109537022560873,
          0.43397852171551754,
          0.12819431462945108,
          0.3904091252851522,
          -0.033709300884992036,
          0.16707116687506704,
          0.019986027530083345,
          0.13447335415492728,
          0.24617028356116505,
          0.08679675477252115,
          -0.06870284239075182,
          0.0862135407973297,
          0.4710300129045124,
          0.4727339538147103
         ]
        }
       ],
       "layout": {
        "margin": {
         "b": 0,
         "l": 0,
         "r": 0,
         "t": 0
        },
        "scene": {
         "xaxis": {
          "title": {
           "text": "Principal Component 1"
          }
         },
         "yaxis": {
          "title": {
           "text": "Principal Component 2"
          }
         },
         "zaxis": {
          "title": {
           "text": "Principal Component 3"
          }
         }
        },
        "template": {
         "data": {
          "bar": [
           {
            "error_x": {
             "color": "#2a3f5f"
            },
            "error_y": {
             "color": "#2a3f5f"
            },
            "marker": {
             "line": {
              "color": "#E5ECF6",
              "width": 0.5
             },
             "pattern": {
              "fillmode": "overlay",
              "size": 10,
              "solidity": 0.2
             }
            },
            "type": "bar"
           }
          ],
          "barpolar": [
           {
            "marker": {
             "line": {
              "color": "#E5ECF6",
              "width": 0.5
             },
             "pattern": {
              "fillmode": "overlay",
              "size": 10,
              "solidity": 0.2
             }
            },
            "type": "barpolar"
           }
          ],
          "carpet": [
           {
            "aaxis": {
             "endlinecolor": "#2a3f5f",
             "gridcolor": "white",
             "linecolor": "white",
             "minorgridcolor": "white",
             "startlinecolor": "#2a3f5f"
            },
            "baxis": {
             "endlinecolor": "#2a3f5f",
             "gridcolor": "white",
             "linecolor": "white",
             "minorgridcolor": "white",
             "startlinecolor": "#2a3f5f"
            },
            "type": "carpet"
           }
          ],
          "choropleth": [
           {
            "colorbar": {
             "outlinewidth": 0,
             "ticks": ""
            },
            "type": "choropleth"
           }
          ],
          "contour": [
           {
            "colorbar": {
             "outlinewidth": 0,
             "ticks": ""
            },
            "colorscale": [
             [
              0,
              "#0d0887"
             ],
             [
              0.1111111111111111,
              "#46039f"
             ],
             [
              0.2222222222222222,
              "#7201a8"
             ],
             [
              0.3333333333333333,
              "#9c179e"
             ],
             [
              0.4444444444444444,
              "#bd3786"
             ],
             [
              0.5555555555555556,
              "#d8576b"
             ],
             [
              0.6666666666666666,
              "#ed7953"
             ],
             [
              0.7777777777777778,
              "#fb9f3a"
             ],
             [
              0.8888888888888888,
              "#fdca26"
             ],
             [
              1,
              "#f0f921"
             ]
            ],
            "type": "contour"
           }
          ],
          "contourcarpet": [
           {
            "colorbar": {
             "outlinewidth": 0,
             "ticks": ""
            },
            "type": "contourcarpet"
           }
          ],
          "heatmap": [
           {
            "colorbar": {
             "outlinewidth": 0,
             "ticks": ""
            },
            "colorscale": [
             [
              0,
              "#0d0887"
             ],
             [
              0.1111111111111111,
              "#46039f"
             ],
             [
              0.2222222222222222,
              "#7201a8"
             ],
             [
              0.3333333333333333,
              "#9c179e"
             ],
             [
              0.4444444444444444,
              "#bd3786"
             ],
             [
              0.5555555555555556,
              "#d8576b"
             ],
             [
              0.6666666666666666,
              "#ed7953"
             ],
             [
              0.7777777777777778,
              "#fb9f3a"
             ],
             [
              0.8888888888888888,
              "#fdca26"
             ],
             [
              1,
              "#f0f921"
             ]
            ],
            "type": "heatmap"
           }
          ],
          "heatmapgl": [
           {
            "colorbar": {
             "outlinewidth": 0,
             "ticks": ""
            },
            "colorscale": [
             [
              0,
              "#0d0887"
             ],
             [
              0.1111111111111111,
              "#46039f"
             ],
             [
              0.2222222222222222,
              "#7201a8"
             ],
             [
              0.3333333333333333,
              "#9c179e"
             ],
             [
              0.4444444444444444,
              "#bd3786"
             ],
             [
              0.5555555555555556,
              "#d8576b"
             ],
             [
              0.6666666666666666,
              "#ed7953"
             ],
             [
              0.7777777777777778,
              "#fb9f3a"
             ],
             [
              0.8888888888888888,
              "#fdca26"
             ],
             [
              1,
              "#f0f921"
             ]
            ],
            "type": "heatmapgl"
           }
          ],
          "histogram": [
           {
            "marker": {
             "pattern": {
              "fillmode": "overlay",
              "size": 10,
              "solidity": 0.2
             }
            },
            "type": "histogram"
           }
          ],
          "histogram2d": [
           {
            "colorbar": {
             "outlinewidth": 0,
             "ticks": ""
            },
            "colorscale": [
             [
              0,
              "#0d0887"
             ],
             [
              0.1111111111111111,
              "#46039f"
             ],
             [
              0.2222222222222222,
              "#7201a8"
             ],
             [
              0.3333333333333333,
              "#9c179e"
             ],
             [
              0.4444444444444444,
              "#bd3786"
             ],
             [
              0.5555555555555556,
              "#d8576b"
             ],
             [
              0.6666666666666666,
              "#ed7953"
             ],
             [
              0.7777777777777778,
              "#fb9f3a"
             ],
             [
              0.8888888888888888,
              "#fdca26"
             ],
             [
              1,
              "#f0f921"
             ]
            ],
            "type": "histogram2d"
           }
          ],
          "histogram2dcontour": [
           {
            "colorbar": {
             "outlinewidth": 0,
             "ticks": ""
            },
            "colorscale": [
             [
              0,
              "#0d0887"
             ],
             [
              0.1111111111111111,
              "#46039f"
             ],
             [
              0.2222222222222222,
              "#7201a8"
             ],
             [
              0.3333333333333333,
              "#9c179e"
             ],
             [
              0.4444444444444444,
              "#bd3786"
             ],
             [
              0.5555555555555556,
              "#d8576b"
             ],
             [
              0.6666666666666666,
              "#ed7953"
             ],
             [
              0.7777777777777778,
              "#fb9f3a"
             ],
             [
              0.8888888888888888,
              "#fdca26"
             ],
             [
              1,
              "#f0f921"
             ]
            ],
            "type": "histogram2dcontour"
           }
          ],
          "mesh3d": [
           {
            "colorbar": {
             "outlinewidth": 0,
             "ticks": ""
            },
            "type": "mesh3d"
           }
          ],
          "parcoords": [
           {
            "line": {
             "colorbar": {
              "outlinewidth": 0,
              "ticks": ""
             }
            },
            "type": "parcoords"
           }
          ],
          "pie": [
           {
            "automargin": true,
            "type": "pie"
           }
          ],
          "scatter": [
           {
            "fillpattern": {
             "fillmode": "overlay",
             "size": 10,
             "solidity": 0.2
            },
            "type": "scatter"
           }
          ],
          "scatter3d": [
           {
            "line": {
             "colorbar": {
              "outlinewidth": 0,
              "ticks": ""
             }
            },
            "marker": {
             "colorbar": {
              "outlinewidth": 0,
              "ticks": ""
             }
            },
            "type": "scatter3d"
           }
          ],
          "scattercarpet": [
           {
            "marker": {
             "colorbar": {
              "outlinewidth": 0,
              "ticks": ""
             }
            },
            "type": "scattercarpet"
           }
          ],
          "scattergeo": [
           {
            "marker": {
             "colorbar": {
              "outlinewidth": 0,
              "ticks": ""
             }
            },
            "type": "scattergeo"
           }
          ],
          "scattergl": [
           {
            "marker": {
             "colorbar": {
              "outlinewidth": 0,
              "ticks": ""
             }
            },
            "type": "scattergl"
           }
          ],
          "scattermapbox": [
           {
            "marker": {
             "colorbar": {
              "outlinewidth": 0,
              "ticks": ""
             }
            },
            "type": "scattermapbox"
           }
          ],
          "scatterpolar": [
           {
            "marker": {
             "colorbar": {
              "outlinewidth": 0,
              "ticks": ""
             }
            },
            "type": "scatterpolar"
           }
          ],
          "scatterpolargl": [
           {
            "marker": {
             "colorbar": {
              "outlinewidth": 0,
              "ticks": ""
             }
            },
            "type": "scatterpolargl"
           }
          ],
          "scatterternary": [
           {
            "marker": {
             "colorbar": {
              "outlinewidth": 0,
              "ticks": ""
             }
            },
            "type": "scatterternary"
           }
          ],
          "surface": [
           {
            "colorbar": {
             "outlinewidth": 0,
             "ticks": ""
            },
            "colorscale": [
             [
              0,
              "#0d0887"
             ],
             [
              0.1111111111111111,
              "#46039f"
             ],
             [
              0.2222222222222222,
              "#7201a8"
             ],
             [
              0.3333333333333333,
              "#9c179e"
             ],
             [
              0.4444444444444444,
              "#bd3786"
             ],
             [
              0.5555555555555556,
              "#d8576b"
             ],
             [
              0.6666666666666666,
              "#ed7953"
             ],
             [
              0.7777777777777778,
              "#fb9f3a"
             ],
             [
              0.8888888888888888,
              "#fdca26"
             ],
             [
              1,
              "#f0f921"
             ]
            ],
            "type": "surface"
           }
          ],
          "table": [
           {
            "cells": {
             "fill": {
              "color": "#EBF0F8"
             },
             "line": {
              "color": "white"
             }
            },
            "header": {
             "fill": {
              "color": "#C8D4E3"
             },
             "line": {
              "color": "white"
             }
            },
            "type": "table"
           }
          ]
         },
         "layout": {
          "annotationdefaults": {
           "arrowcolor": "#2a3f5f",
           "arrowhead": 0,
           "arrowwidth": 1
          },
          "autotypenumbers": "strict",
          "coloraxis": {
           "colorbar": {
            "outlinewidth": 0,
            "ticks": ""
           }
          },
          "colorscale": {
           "diverging": [
            [
             0,
             "#8e0152"
            ],
            [
             0.1,
             "#c51b7d"
            ],
            [
             0.2,
             "#de77ae"
            ],
            [
             0.3,
             "#f1b6da"
            ],
            [
             0.4,
             "#fde0ef"
            ],
            [
             0.5,
             "#f7f7f7"
            ],
            [
             0.6,
             "#e6f5d0"
            ],
            [
             0.7,
             "#b8e186"
            ],
            [
             0.8,
             "#7fbc41"
            ],
            [
             0.9,
             "#4d9221"
            ],
            [
             1,
             "#276419"
            ]
           ],
           "sequential": [
            [
             0,
             "#0d0887"
            ],
            [
             0.1111111111111111,
             "#46039f"
            ],
            [
             0.2222222222222222,
             "#7201a8"
            ],
            [
             0.3333333333333333,
             "#9c179e"
            ],
            [
             0.4444444444444444,
             "#bd3786"
            ],
            [
             0.5555555555555556,
             "#d8576b"
            ],
            [
             0.6666666666666666,
             "#ed7953"
            ],
            [
             0.7777777777777778,
             "#fb9f3a"
            ],
            [
             0.8888888888888888,
             "#fdca26"
            ],
            [
             1,
             "#f0f921"
            ]
           ],
           "sequentialminus": [
            [
             0,
             "#0d0887"
            ],
            [
             0.1111111111111111,
             "#46039f"
            ],
            [
             0.2222222222222222,
             "#7201a8"
            ],
            [
             0.3333333333333333,
             "#9c179e"
            ],
            [
             0.4444444444444444,
             "#bd3786"
            ],
            [
             0.5555555555555556,
             "#d8576b"
            ],
            [
             0.6666666666666666,
             "#ed7953"
            ],
            [
             0.7777777777777778,
             "#fb9f3a"
            ],
            [
             0.8888888888888888,
             "#fdca26"
            ],
            [
             1,
             "#f0f921"
            ]
           ]
          },
          "colorway": [
           "#636efa",
           "#EF553B",
           "#00cc96",
           "#ab63fa",
           "#FFA15A",
           "#19d3f3",
           "#FF6692",
           "#B6E880",
           "#FF97FF",
           "#FECB52"
          ],
          "font": {
           "color": "#2a3f5f"
          },
          "geo": {
           "bgcolor": "white",
           "lakecolor": "white",
           "landcolor": "#E5ECF6",
           "showlakes": true,
           "showland": true,
           "subunitcolor": "white"
          },
          "hoverlabel": {
           "align": "left"
          },
          "hovermode": "closest",
          "mapbox": {
           "style": "light"
          },
          "paper_bgcolor": "white",
          "plot_bgcolor": "#E5ECF6",
          "polar": {
           "angularaxis": {
            "gridcolor": "white",
            "linecolor": "white",
            "ticks": ""
           },
           "bgcolor": "#E5ECF6",
           "radialaxis": {
            "gridcolor": "white",
            "linecolor": "white",
            "ticks": ""
           }
          },
          "scene": {
           "xaxis": {
            "backgroundcolor": "#E5ECF6",
            "gridcolor": "white",
            "gridwidth": 2,
            "linecolor": "white",
            "showbackground": true,
            "ticks": "",
            "zerolinecolor": "white"
           },
           "yaxis": {
            "backgroundcolor": "#E5ECF6",
            "gridcolor": "white",
            "gridwidth": 2,
            "linecolor": "white",
            "showbackground": true,
            "ticks": "",
            "zerolinecolor": "white"
           },
           "zaxis": {
            "backgroundcolor": "#E5ECF6",
            "gridcolor": "white",
            "gridwidth": 2,
            "linecolor": "white",
            "showbackground": true,
            "ticks": "",
            "zerolinecolor": "white"
           }
          },
          "shapedefaults": {
           "line": {
            "color": "#2a3f5f"
           }
          },
          "ternary": {
           "aaxis": {
            "gridcolor": "white",
            "linecolor": "white",
            "ticks": ""
           },
           "baxis": {
            "gridcolor": "white",
            "linecolor": "white",
            "ticks": ""
           },
           "bgcolor": "#E5ECF6",
           "caxis": {
            "gridcolor": "white",
            "linecolor": "white",
            "ticks": ""
           }
          },
          "title": {
           "x": 0.05
          },
          "xaxis": {
           "automargin": true,
           "gridcolor": "white",
           "linecolor": "white",
           "ticks": "",
           "title": {
            "standoff": 15
           },
           "zerolinecolor": "white",
           "zerolinewidth": 2
          },
          "yaxis": {
           "automargin": true,
           "gridcolor": "white",
           "linecolor": "white",
           "ticks": "",
           "title": {
            "standoff": 15
           },
           "zerolinecolor": "white",
           "zerolinewidth": 2
          }
         }
        },
        "title": {
         "text": "DBSCAN Clustering 3D Visualization"
        }
       }
      }
     },
     "metadata": {},
     "output_type": "display_data"
    }
   ],
   "source": [
    "interactive_visualization(x, labels)"
   ]
  },
  {
   "cell_type": "code",
   "execution_count": null,
   "metadata": {},
   "outputs": [],
   "source": []
  }
 ],
 "metadata": {
  "kernelspec": {
   "display_name": "Python 3",
   "language": "python",
   "name": "python3"
  },
  "language_info": {
   "codemirror_mode": {
    "name": "ipython",
    "version": 3
   },
   "file_extension": ".py",
   "mimetype": "text/x-python",
   "name": "python",
   "nbconvert_exporter": "python",
   "pygments_lexer": "ipython3",
   "version": "3.11.5"
  }
 },
 "nbformat": 4,
 "nbformat_minor": 2
}
