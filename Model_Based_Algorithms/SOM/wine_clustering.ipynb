{
 "cells": [
  {
   "cell_type": "code",
   "execution_count": 12,
   "metadata": {},
   "outputs": [],
   "source": [
    "import numpy as np \n",
    "import pandas as pd \n",
    "from sklearn.preprocessing import normalize, StandardScaler\n",
    "from sklearn.preprocessing import Normalizer\n",
    "from sklearn.preprocessing import MinMaxScaler\n",
    "import matplotlib.pyplot as plt\n",
    "from sklearn.metrics import silhouette_score\n",
    "from sklearn.metrics import calinski_harabasz_score\n",
    "from sklearn.metrics import davies_bouldin_score"
   ]
  },
  {
   "cell_type": "code",
   "execution_count": 13,
   "metadata": {},
   "outputs": [
    {
     "name": "stdout",
     "output_type": "stream",
     "text": [
      "Requirement already satisfied: MiniSom in c:\\users\\uddhav pisharody\\appdata\\local\\programs\\python\\python311\\lib\\site-packages (2.3.1)\n"
     ]
    }
   ],
   "source": [
    "!pip install MiniSom"
   ]
  },
  {
   "cell_type": "code",
   "execution_count": 14,
   "metadata": {},
   "outputs": [],
   "source": [
    "from minisom import MiniSom\n",
    "\n",
    "import numpy as np\n",
    "import matplotlib.pyplot as plt\n",
    "%matplotlib inline\n",
    "\n",
    "from sklearn import datasets\n",
    "from sklearn.preprocessing import scale"
   ]
  },
  {
   "cell_type": "code",
   "execution_count": 15,
   "metadata": {},
   "outputs": [],
   "source": [
    "df = pd.read_csv('wine-clustering.csv')"
   ]
  },
  {
   "cell_type": "code",
   "execution_count": 16,
   "metadata": {},
   "outputs": [],
   "source": [
    "#Scaling the data to bring all the attributes to a comparable level\n",
    "scaler = StandardScaler()\n",
    "df_scaled = scaler.fit_transform(df)\n",
    "\n",
    "#Normalizing the data so that the data approximately follows a Gaussian distribution\n",
    "df_normalized = normalize(df_scaled)"
   ]
  },
  {
   "cell_type": "code",
   "execution_count": 17,
   "metadata": {},
   "outputs": [
    {
     "data": {
      "text/html": [
       "<div>\n",
       "<style scoped>\n",
       "    .dataframe tbody tr th:only-of-type {\n",
       "        vertical-align: middle;\n",
       "    }\n",
       "\n",
       "    .dataframe tbody tr th {\n",
       "        vertical-align: top;\n",
       "    }\n",
       "\n",
       "    .dataframe thead th {\n",
       "        text-align: right;\n",
       "    }\n",
       "</style>\n",
       "<table border=\"1\" class=\"dataframe\">\n",
       "  <thead>\n",
       "    <tr style=\"text-align: right;\">\n",
       "      <th></th>\n",
       "      <th>Alcohol</th>\n",
       "      <th>Malic_Acid</th>\n",
       "      <th>Ash</th>\n",
       "      <th>Ash_Alcanity</th>\n",
       "      <th>Magnesium</th>\n",
       "      <th>Total_Phenols</th>\n",
       "      <th>Flavanoids</th>\n",
       "      <th>Nonflavanoid_Phenols</th>\n",
       "      <th>Proanthocyanins</th>\n",
       "      <th>Color_Intensity</th>\n",
       "      <th>Hue</th>\n",
       "      <th>OD280</th>\n",
       "      <th>Proline</th>\n",
       "    </tr>\n",
       "  </thead>\n",
       "  <tbody>\n",
       "    <tr>\n",
       "      <th>0</th>\n",
       "      <td>0.379613</td>\n",
       "      <td>-0.140548</td>\n",
       "      <td>0.058007</td>\n",
       "      <td>-0.292368</td>\n",
       "      <td>0.478426</td>\n",
       "      <td>0.202228</td>\n",
       "      <td>0.258678</td>\n",
       "      <td>-0.164873</td>\n",
       "      <td>0.306189</td>\n",
       "      <td>0.062923</td>\n",
       "      <td>0.090535</td>\n",
       "      <td>0.461931</td>\n",
       "      <td>0.253226</td>\n",
       "    </tr>\n",
       "    <tr>\n",
       "      <th>1</th>\n",
       "      <td>0.072771</td>\n",
       "      <td>-0.147561</td>\n",
       "      <td>-0.244647</td>\n",
       "      <td>-0.735967</td>\n",
       "      <td>0.005361</td>\n",
       "      <td>0.168017</td>\n",
       "      <td>0.216764</td>\n",
       "      <td>-0.242497</td>\n",
       "      <td>-0.160948</td>\n",
       "      <td>-0.086667</td>\n",
       "      <td>0.119975</td>\n",
       "      <td>0.328989</td>\n",
       "      <td>0.285198</td>\n",
       "    </tr>\n",
       "    <tr>\n",
       "      <th>2</th>\n",
       "      <td>0.059268</td>\n",
       "      <td>0.006391</td>\n",
       "      <td>0.333952</td>\n",
       "      <td>-0.080900</td>\n",
       "      <td>0.026599</td>\n",
       "      <td>0.243539</td>\n",
       "      <td>0.365922</td>\n",
       "      <td>-0.150039</td>\n",
       "      <td>0.643007</td>\n",
       "      <td>0.080985</td>\n",
       "      <td>0.095822</td>\n",
       "      <td>0.237395</td>\n",
       "      <td>0.419993</td>\n",
       "    </tr>\n",
       "    <tr>\n",
       "      <th>3</th>\n",
       "      <td>0.348418</td>\n",
       "      <td>-0.071435</td>\n",
       "      <td>0.100501</td>\n",
       "      <td>-0.166686</td>\n",
       "      <td>0.191747</td>\n",
       "      <td>0.513178</td>\n",
       "      <td>0.302069</td>\n",
       "      <td>-0.202243</td>\n",
       "      <td>0.212599</td>\n",
       "      <td>0.244301</td>\n",
       "      <td>-0.088064</td>\n",
       "      <td>0.243890</td>\n",
       "      <td>0.480866</td>\n",
       "    </tr>\n",
       "    <tr>\n",
       "      <th>4</th>\n",
       "      <td>0.110835</td>\n",
       "      <td>0.085345</td>\n",
       "      <td>0.689824</td>\n",
       "      <td>0.169399</td>\n",
       "      <td>0.480516</td>\n",
       "      <td>0.303230</td>\n",
       "      <td>0.248639</td>\n",
       "      <td>0.085008</td>\n",
       "      <td>0.150455</td>\n",
       "      <td>-0.119672</td>\n",
       "      <td>0.135752</td>\n",
       "      <td>0.168520</td>\n",
       "      <td>-0.014196</td>\n",
       "    </tr>\n",
       "  </tbody>\n",
       "</table>\n",
       "</div>"
      ],
      "text/plain": [
       "    Alcohol  Malic_Acid       Ash  Ash_Alcanity  Magnesium  Total_Phenols  \\\n",
       "0  0.379613   -0.140548  0.058007     -0.292368   0.478426       0.202228   \n",
       "1  0.072771   -0.147561 -0.244647     -0.735967   0.005361       0.168017   \n",
       "2  0.059268    0.006391  0.333952     -0.080900   0.026599       0.243539   \n",
       "3  0.348418   -0.071435  0.100501     -0.166686   0.191747       0.513178   \n",
       "4  0.110835    0.085345  0.689824      0.169399   0.480516       0.303230   \n",
       "\n",
       "   Flavanoids  Nonflavanoid_Phenols  Proanthocyanins  Color_Intensity  \\\n",
       "0    0.258678             -0.164873         0.306189         0.062923   \n",
       "1    0.216764             -0.242497        -0.160948        -0.086667   \n",
       "2    0.365922             -0.150039         0.643007         0.080985   \n",
       "3    0.302069             -0.202243         0.212599         0.244301   \n",
       "4    0.248639              0.085008         0.150455        -0.119672   \n",
       "\n",
       "        Hue     OD280   Proline  \n",
       "0  0.090535  0.461931  0.253226  \n",
       "1  0.119975  0.328989  0.285198  \n",
       "2  0.095822  0.237395  0.419993  \n",
       "3 -0.088064  0.243890  0.480866  \n",
       "4  0.135752  0.168520 -0.014196  "
      ]
     },
     "execution_count": 17,
     "metadata": {},
     "output_type": "execute_result"
    }
   ],
   "source": [
    "#Converting the numpy array into a pandas DataFrame\n",
    "df_normalized = pd.DataFrame(df_normalized)\n",
    "#Renaming the columns\n",
    "df_normalized.columns = df.columns\n",
    "df_normalized.head()"
   ]
  },
  {
   "cell_type": "code",
   "execution_count": 18,
   "metadata": {},
   "outputs": [
    {
     "name": "stdout",
     "output_type": "stream",
     "text": [
      " [ 1000 / 1000 ] 100% - 0:00:00 left \n",
      " quantization error: 0.7550452243098407\n"
     ]
    },
    {
     "name": "stderr",
     "output_type": "stream",
     "text": [
      "c:\\Users\\Uddhav Pisharody\\AppData\\Local\\Programs\\Python\\Python311\\Lib\\site-packages\\minisom.py:162: UserWarning:\n",
      "\n",
      "Warning: sigma is too high for the dimension of the map.\n",
      "\n",
      "c:\\Users\\Uddhav Pisharody\\AppData\\Local\\Programs\\Python\\Python311\\Lib\\site-packages\\minisom.py:205: UserWarning:\n",
      "\n",
      "sigma should be an integer >=1 when triangle or bubbleare used as neighborhood function\n",
      "\n"
     ]
    },
    {
     "data": {
      "image/png": "[encoded data removed]",
      "text/plain": [
       "<Figure size 800x800 with 2 Axes>"
      ]
     },
     "metadata": {},
     "output_type": "display_data"
    }
   ],
   "source": [
    "from minisom import MiniSom\n",
    "import numpy as np\n",
    "import matplotlib.pyplot as plt\n",
    "import pandas as pd\n",
    "from sklearn.preprocessing import scale\n",
    "\n",
    "som_rows = 3\n",
    "som_columns = 1\n",
    "input_dim = df_normalized.shape[1]  # Number of columns in DataFrame\n",
    "\n",
    "# Training the SOM\n",
    "som = MiniSom(som_rows, som_columns, input_dim, sigma=2.9, learning_rate=0.5,\n",
    "              neighborhood_function='triangle', random_seed=10)\n",
    "\n",
    "data_normalized = df_normalized.values\n",
    "\n",
    "# Training the SOM with 100 epochs\n",
    "som.train(data_normalized, 1000, random_order=False, verbose=True)\n",
    "\n",
    "# Get the cluster assignments\n",
    "cluster_assignments = np.array([som.winner(x) for x in data_normalized]).T\n",
    "\n",
    "# Visualize the results\n",
    "plt.figure(figsize=(8, 8))\n",
    "plt.scatter(df_normalized.values[:, 0], df_normalized.values[:, 1], c=cluster_assignments[0], cmap='viridis')\n",
    "plt.colorbar()\n",
    "plt.show()"
   ]
  },
  {
   "cell_type": "code",
   "execution_count": 19,
   "metadata": {},
   "outputs": [
    {
     "name": "stdout",
     "output_type": "stream",
     "text": [
      "Silhouette Score: 0.2924936949108804\n",
      "Calinski Harabasz Score: 73.25534753339987\n",
      "Davies Bouldin Index: 1.3821945773187936\n"
     ]
    }
   ],
   "source": [
    "silhouette_avg = silhouette_score(data_normalized, cluster_assignments[0])\n",
    "ch_index = calinski_harabasz_score(data_normalized, cluster_assignments[0])\n",
    "db_index = davies_bouldin_score(data_normalized, cluster_assignments[0])\n",
    "print(\"Silhouette Score:\", silhouette_avg)\n",
    "print(\"Calinski Harabasz Score:\", ch_index)\n",
    "print(\"Davies Bouldin Index:\", db_index)"
   ]
  },
  {
   "cell_type": "code",
   "execution_count": 20,
   "metadata": {},
   "outputs": [
    {
     "data": {
      "image/png": "[encoded data removed]",
      "text/plain": [
       "<Figure size 1000x800 with 1 Axes>"
      ]
     },
     "metadata": {},
     "output_type": "display_data"
    }
   ],
   "source": [
    "import matplotlib.pyplot as plt\n",
    "from sklearn.decomposition import PCA\n",
    "\n",
    "cluster_assignments = np.array([som.winner(x) for x in data_normalized]).T\n",
    "\n",
    "# Visualize clusters using PCA for dimensionality reduction\n",
    "pca = PCA(n_components=3)  # Use 3 principal components for 3D visualization\n",
    "X_pca = pca.fit_transform(data_normalized)\n",
    "\n",
    "# Create a 3D scatter plot\n",
    "fig = plt.figure(figsize=(10, 8))\n",
    "ax = fig.add_subplot(111, projection='3d')\n",
    "\n",
    "# Use cluster_assignments for color-coding the points\n",
    "ax.scatter(X_pca[:, 0], X_pca[:, 1], X_pca[:, 2], c=cluster_assignments[0], cmap='viridis', alpha=0.5)\n",
    "\n",
    "ax.set_title('SOM Clustering 3D Visualization')\n",
    "ax.set_xlabel('Principal Component 1')\n",
    "ax.set_ylabel('Principal Component 2')\n",
    "ax.set_zlabel('Principal Component 3')\n",
    "\n",
    "plt.show()"
   ]
  },
  {
   "cell_type": "code",
   "execution_count": 21,
   "metadata": {},
   "outputs": [
    {
     "data": {
      "application/vnd.plotly.v1+json": {
       "config": {
        "plotlyServerURL": "https://plot.ly"
       },
       "data": [
        {
         "marker": {
          "color": [
           2,
           2,
           2,
           2,
           2,
           2,
           2,
           2,
           2,
           2,
           2,
           2,
           2,
           2,
           2,
           2,
           2,
           2,
           2,
           2,
           2,
           2,
           2,
           2,
           2,
           2,
           2,
           2,
           2,
           2,
           2,
           2,
           2,
           2,
           2,
           2,
           2,
           2,
           2,
           2,
           2,
           2,
           2,
           2,
           2,
           2,
           2,
           2,
           2,
           2,
           2,
           2,
           2,
           2,
           2,
           2,
           2,
           2,
           2,
           1,
           1,
           1,
           1,
           2,
           1,
           2,
           1,
           1,
           1,
           2,
           1,
           2,
           1,
           2,
           2,
           1,
           1,
           1,
           2,
           1,
           1,
           1,
           1,
           0,
           1,
           1,
           1,
           1,
           1,
           1,
           1,
           1,
           1,
           1,
           1,
           2,
           2,
           1,
           2,
           1,
           1,
           1,
           1,
           1,
           1,
           1,
           1,
           1,
           1,
           2,
           2,
           1,
           1,
           1,
           1,
           1,
           1,
           1,
           1,
           1,
           1,
           2,
           1,
           1,
           1,
           1,
           1,
           1,
           1,
           1,
           0,
           0,
           0,
           0,
           0,
           0,
           0,
           0,
           0,
           0,
           0,
           0,
           0,
           0,
           0,
           0,
           0,
           0,
           0,
           0,
           0,
           0,
           0,
           0,
           0,
           0,
           0,
           0,
           0,
           0,
           0,
           0,
           0,
           0,
           0,
           0,
           0,
           0,
           0,
           0,
           0,
           0,
           0,
           0,
           0,
           0,
           0,
           0
          ],
          "colorscale": [
           [
            0,
            "#440154"
           ],
           [
            0.1111111111111111,
            "#482878"
           ],
           [
            0.2222222222222222,
            "#3e4989"
           ],
           [
            0.3333333333333333,
            "#31688e"
           ],
           [
            0.4444444444444444,
            "#26828e"
           ],
           [
            0.5555555555555556,
            "#1f9e89"
           ],
           [
            0.6666666666666666,
            "#35b779"
           ],
           [
            0.7777777777777778,
            "#6ece58"
           ],
           [
            0.8888888888888888,
            "#b5de2b"
           ],
           [
            1,
            "#fde725"
           ]
          ],
          "opacity": 0.5
         },
         "mode": "markers",
         "text": "Cluster Assignments",
         "type": "scatter3d",
         "x": [
          -0.8324334418103103,
          -0.6394429351779065,
          -0.7568819862622012,
          -0.8054465702683065,
          -0.37390282438046135,
          -0.8014732321067571,
          -0.7504403429860576,
          -0.6474978799813884,
          -0.7232894864146663,
          -0.8513981943804189,
          -0.8649175701522747,
          -0.6389088733245076,
          -0.7489013478013647,
          -0.7073638027367339,
          -0.821318603926741,
          -0.7045940372022984,
          -0.6557493577296054,
          -0.6457575045255781,
          -0.763738838138478,
          -0.6915550889997885,
          -0.8257994281494999,
          -0.43434672087564474,
          -0.8477448224769359,
          -0.6822473600777609,
          -0.6787821188490808,
          -0.21211667514113042,
          -0.68770782246684,
          -0.5032354147340953,
          -0.7153473294858359,
          -0.7991820827900723,
          -0.704444804720876,
          -0.7907210937422025,
          -0.6991319752339787,
          -0.4910666844306685,
          -0.6630726767383122,
          -0.8566206537157572,
          -0.5359176509287066,
          -0.5896701807473224,
          -0.5730804437425708,
          -0.6005046701252713,
          -0.804972683760983,
          -0.28824981415453044,
          -0.838233903172247,
          -0.22262395071033358,
          -0.7789003458661699,
          -0.41929671940004326,
          -0.764929472307675,
          -0.836753307910376,
          -0.7797738913344938,
          -0.7735521749888589,
          -0.7082446047191978,
          -0.831911871042355,
          -0.8380703341812814,
          -0.7010195947768049,
          -0.7612964419632011,
          -0.7843971915003243,
          -0.8255363730912897,
          -0.7749561302550457,
          -0.8357491948526402,
          0.2175428112556392,
          0.4213622426141099,
          0.5817021209016588,
          0.03347954032267716,
          -0.49873752649698594,
          0.25623810444196915,
          -0.34103277791843706,
          -0.46798950542818496,
          0.01626789126702968,
          0.2614758370524222,
          -0.2856353347633096,
          0.5893919414364124,
          -0.38228884512591477,
          0.3202013075716847,
          -0.43997875024267974,
          -0.489728273646461,
          0.33704636413933275,
          -0.031893413281992744,
          0.5801224219627216,
          -0.22254231767441202,
          -0.0638703380687829,
          -0.10054389240760432,
          -0.4228013591602579,
          0.22460612221320386,
          0.8023459108375605,
          -0.19118218720801652,
          -0.21557643253532843,
          0.36634964736583203,
          0.22296859662763935,
          0.4937562969624512,
          0.243830759532567,
          0.5330895583744116,
          0.6107666224517934,
          0.6641850662323715,
          -0.15949757179762092,
          -0.21134700348614363,
          -0.39449371920673787,
          0.1721053292496477,
          -0.23260981933348188,
          -0.5820068664839507,
          -0.2650234335495894,
          -0.1520816629328549,
          0.26173139513988053,
          0.13635628682493783,
          0.31527032006808964,
          -0.06399649656803626,
          0.5681607342021072,
          0.23012594208968873,
          0.6756504889461197,
          0.08113380244215943,
          -0.39222598448158835,
          -0.20128366176770804,
          0.18701812358855222,
          0.38927010482912683,
          0.24200512136668276,
          0.24231725772064322,
          0.007784274406513549,
          0.18249169711388108,
          0.15109088041646074,
          0.692990547592491,
          0.27040362687698066,
          -0.18668314729557073,
          -0.1847948242169263,
          0.35312348734734106,
          0.14037543113594045,
          -0.1606242800962144,
          0.12409091577561181,
          0.0563156642751415,
          0.4469968307674132,
          0.26600605401099564,
          0.6222049317239989,
          0.3868129487761352,
          0.7272006792578438,
          0.7969422944100201,
          0.6222156734004796,
          0.6969404774435911,
          0.8329931999056503,
          0.8881565662124881,
          0.8267127276564483,
          0.8571236834276998,
          0.7780625656290779,
          0.8405051542731128,
          0.7264201995696842,
          0.7992063073611917,
          0.7040152009945386,
          0.594214265568729,
          0.7944546428480783,
          0.821549162539045,
          0.8496463991181696,
          0.7920272391415368,
          0.6901109016321512,
          0.5042122864128397,
          0.5634320532154347,
          0.4583034103543127,
          0.623200668285593,
          0.7455801172479062,
          0.7743195971633187,
          0.698610859298639,
          0.769438939590878,
          0.1658699376814658,
          0.3379684292482481,
          0.8455474482521905,
          0.7055533884970542,
          0.8578117127943126,
          0.8287471785888696,
          0.7462365359817354,
          0.8677522510152068,
          0.5797005924505391,
          0.7509840061436232,
          0.597268072378923,
          0.5090441687661597,
          0.9205763631554199,
          0.8290544582367053,
          0.610570784002208,
          0.7120868488894282,
          0.7656702595954731,
          0.5835579196720311,
          0.5970590431447087,
          0.6594739219382568
         ],
         "y": [
          -0.3188341634594192,
          0.09194707754049673,
          -0.24331727781587692,
          -0.510057097257015,
          -0.31160360592962427,
          -0.5060310648064814,
          -0.31467351147127504,
          -0.4783819594731637,
          -0.23681583382726787,
          -0.17672015949005926,
          -0.2771784288610109,
          -0.21628143011639112,
          -0.20585897435166745,
          -0.20096608178501157,
          -0.3512227930798425,
          -0.4732058037669023,
          -0.6399489663225709,
          -0.509011768200585,
          -0.48868087840933655,
          -0.3216300840730191,
          -0.1685132807229823,
          -0.07550680044326469,
          0.07562377784427692,
          0.2534485028652136,
          0.17986298930407793,
          -0.21021355603796263,
          -0.2193610497907878,
          0.017176344619471533,
          -0.18372971981703196,
          -0.024784574097269477,
          -0.28929511605672287,
          -0.3825540283221745,
          -0.018125137856054938,
          -0.42812055283880657,
          -0.31447046898896375,
          0.002697889580663933,
          -0.256347667871887,
          -0.06728185936623596,
          0.28894061443930713,
          -0.40394612833904514,
          -0.18775608836204555,
          -0.07919796024324753,
          -0.24813364256670206,
          -0.16686364652471095,
          0.08426670789466274,
          -0.5815803198930418,
          -0.28698651423069177,
          -0.12812516436421645,
          -0.4187808278476215,
          -0.43953282740405203,
          -0.00003087283491180721,
          -0.16296031841409922,
          -0.3309063337665861,
          -0.5494105193495915,
          -0.33013086727903784,
          -0.3587119410940823,
          -0.3773955844754804,
          -0.3806047711641238,
          -0.39023176539732424,
          0.42711002215050076,
          0.2099125639796478,
          0.12351071990395349,
          0.3434951293902356,
          0.5803502327910327,
          0.4719073663997475,
          0.3537904108010672,
          0.47816536028783263,
          0.7179084936223336,
          -0.04090242056897832,
          0.21086761962649375,
          0.18124443809865776,
          0.28667175378594983,
          0.3742301931840723,
          -0.025992556983779957,
          0.4177517729447137,
          0.6020515058194132,
          0.551307151806605,
          0.353609939633534,
          0.13482410039767584,
          0.3471382956700608,
          0.8896611143224517,
          0.716897675253762,
          0.6600572079676026,
          -0.06338611643112255,
          0.48892767494137246,
          0.7730355170158718,
          0.6751538327909961,
          0.5849660072287464,
          0.6081670361584413,
          0.751284525591878,
          0.6167138432063513,
          0.5550489802944468,
          0.3967270909601735,
          0.7716264326753789,
          0.6724840583799917,
          -0.047156461355744785,
          0.01698125760764417,
          0.8039831249868804,
          0.4664596733123073,
          0.5413582274253896,
          0.6622794891560767,
          0.6777477123523161,
          0.5119067912078358,
          0.8007123315883992,
          0.7922671357657028,
          0.42253000902675514,
          0.8035553187430345,
          0.4410375385234729,
          0.766453525772102,
          0.47989375699608683,
          0.2854400867021973,
          0.7155335312467928,
          0.12027055192077914,
          0.6921067452996372,
          0.6477788623954872,
          0.7473402742448519,
          0.8655403781208104,
          0.7164684113537387,
          0.22950180028287923,
          0.6784727230884982,
          0.525047097089248,
          -0.0038749055283435847,
          0.1426372662307026,
          0.1339952796221864,
          0.35476475392308154,
          0.7758615333833615,
          0.4937566441704548,
          0.26188075027126917,
          0.6836103572237493,
          0.30230839186789044,
          -0.15658363428607935,
          -0.23702733524785077,
          -0.174639050297574,
          -0.21967002724030266,
          0.026204410971579,
          -0.2191618539923945,
          -0.16956642193428126,
          -0.24560076782761883,
          -0.22544688719046033,
          -0.19887997636064395,
          -0.2038822391058977,
          -0.230319141016175,
          -0.24727137083660006,
          -0.26383791209685487,
          -0.4290710682250558,
          -0.2964123277155126,
          -0.24522149127638593,
          -0.41083259985626575,
          -0.5467774503038304,
          -0.6004696106117932,
          -0.6102585668144509,
          -0.5346942987779754,
          -0.4360977674348292,
          -0.5756456694851014,
          -0.2081248122506141,
          -0.4943261438569465,
          -0.5671134070552081,
          -0.38281808673345064,
          -0.6357932974621351,
          -0.5450108817051351,
          -0.29301756177634936,
          -0.5178445799686912,
          -0.29083339882087333,
          -0.367600812087974,
          -0.49980861485777606,
          -0.33323735424221546,
          -0.7474970881938391,
          -0.43727145986853416,
          -0.6689531894618481,
          -0.665026312868568,
          -0.06326774399534738,
          -0.29345591688580985,
          -0.6580262842956294,
          -0.5984395695064787,
          -0.6387313015868274,
          -0.7368438799030947,
          -0.6928883493518261,
          -0.6716279492480087
         ],
         "z": [
          -0.013978573960493802,
          -0.5766226840314964,
          0.3284116002807157,
          -0.006182660823808338,
          0.7953627648210342,
          -0.12165452035264303,
          -0.24771183557632281,
          0.06810125783899253,
          -0.46788304675433473,
          -0.28743100953629647,
          -0.09194282887349228,
          -0.4092655487374729,
          -0.2710570358100009,
          -0.19249506855833,
          -0.19445317599908635,
          0.09284441066185829,
          0.2672314611636084,
          0.2839608655432454,
          -0.07724606039155887,
          -0.017158064522885312,
          -0.08154532069658896,
          0.4076914419001797,
          -0.09354716054921569,
          0.0651285274602548,
          0.3585523651149991,
          0.8950473551662641,
          0.008328119621558662,
          -0.5768476993529005,
          0.4895549823661777,
          -0.370261619163769,
          0.3984261917700229,
          -0.09444321983793799,
          -0.04484729087028126,
          0.32162860268094756,
          0.2406704029228281,
          0.19573257194384985,
          0.22888557216750843,
          -0.002839817471413343,
          -0.5874709057192575,
          -0.03175225604725409,
          -0.010225103612557119,
          -0.3308677989613469,
          -0.05035001981034842,
          -0.06680988339462202,
          -0.2547395192130568,
          0.03587788809218553,
          -0.11171564522707375,
          -0.3324584501344128,
          0.006428989928510657,
          -0.16585057243362444,
          -0.43001761071072525,
          0.024937490392036438,
          -0.08509573305798428,
          0.14356282217464023,
          -0.328295781419134,
          0.16852015034776066,
          -0.15610009474318873,
          0.12835116227254123,
          -0.05071784210696166,
          -0.7972691969911095,
          -0.2033964780793174,
          -0.4783455392134603,
          -0.6203163720606544,
          -0.019808974182343713,
          0.19518117343435282,
          0.278746422625134,
          -0.4894994102066801,
          -0.37607707301527477,
          -0.1901332883240738,
          -0.24666259760808668,
          -0.2458098395334013,
          0.48484617945555397,
          -0.02409048943310488,
          0.595731941787617,
          0.10797322171429438,
          -0.48019233604654826,
          -0.7055548397550809,
          -0.09341469969276153,
          -0.276107996117277,
          0.6149154164948252,
          -0.1337861695532572,
          -0.20482580365684377,
          0.35954644068506536,
          0.15139005027467362,
          0.19345934586837227,
          -0.12295901195001806,
          0.2220757149352333,
          0.5652981369895687,
          0.33547523271709734,
          0.21038441612845932,
          -0.017046073138756158,
          0.24063636798990495,
          -0.03693942491914818,
          0.03094153756132746,
          0.024843845697787307,
          0.1399042250471895,
          0.30181997328413607,
          -0.3623895581417727,
          -0.08267286274095231,
          0.19929156071727477,
          -0.5140795049757008,
          -0.5347149420385449,
          0.43077190452856867,
          -0.2823438569127428,
          -0.23163181016862544,
          0.253515074512439,
          -0.22022552542999507,
          0.07714597036984241,
          -0.1837804962915219,
          0.5277790812233039,
          0.01954123517215322,
          -0.006144044353610892,
          0.553720902647096,
          0.32085509619275965,
          0.4242369504500636,
          0.24917819831725127,
          -0.1483870996274824,
          0.21679619005405867,
          -0.51432954272645,
          -0.13754550562569004,
          0.3834965133312031,
          0.8596261884818224,
          0.7881882090979117,
          0.11783576755230567,
          0.3264630472476019,
          0.12353751439118275,
          0.2278742288071246,
          0.7928303071295631,
          0.41610348723494667,
          0.24607840407775244,
          -0.33791157438400743,
          -0.2322699932406853,
          -0.07635173141371546,
          -0.14945079412589182,
          -0.29372450269385564,
          -0.2871723148465775,
          0.062314556938959514,
          0.36892700262790545,
          -0.271825312204403,
          0.4056610517194862,
          0.20146521322463817,
          -0.32252574550921703,
          0.26322242631365644,
          -0.051210221537049135,
          -0.3497068984808579,
          -0.2619042852293947,
          -0.2754369499356826,
          -0.014676974041755997,
          -0.12684136721805514,
          -0.12489539407161467,
          0.0932047829848575,
          -0.08029597397965704,
          0.3424556752708356,
          -0.196296357040714,
          -0.3254801856246476,
          -0.001462796824171223,
          -0.1673924876143219,
          0.3609765832784278,
          0.23600769978754044,
          0.1476447397607448,
          -0.013372820909081328,
          -0.006135561351837363,
          0.2532781502634316,
          -0.275032618198514,
          -0.2630637896171503,
          -0.11172194257153811,
          0.12258839500087466,
          -0.3195812986930264,
          0.22482557717243076,
          0.3382747814957029,
          -0.24471713298888362,
          -0.3065509110690764,
          -0.22147400472731696,
          -0.048638112741996926,
          0.07485900845183786,
          -0.20611098391549423,
          -0.12859372682879566,
          0.2472084694512832
         ]
        }
       ],
       "layout": {
        "margin": {
         "b": 0,
         "l": 0,
         "r": 0,
         "t": 0
        },
        "scene": {
         "xaxis": {
          "title": {
           "text": "Principal Component 1"
          }
         },
         "yaxis": {
          "title": {
           "text": "Principal Component 2"
          }
         },
         "zaxis": {
          "title": {
           "text": "Principal Component 3"
          }
         }
        },
        "template": {
         "data": {
          "bar": [
           {
            "error_x": {
             "color": "#2a3f5f"
            },
            "error_y": {
             "color": "#2a3f5f"
            },
            "marker": {
             "line": {
              "color": "#E5ECF6",
              "width": 0.5
             },
             "pattern": {
              "fillmode": "overlay",
              "size": 10,
              "solidity": 0.2
             }
            },
            "type": "bar"
           }
          ],
          "barpolar": [
           {
            "marker": {
             "line": {
              "color": "#E5ECF6",
              "width": 0.5
             },
             "pattern": {
              "fillmode": "overlay",
              "size": 10,
              "solidity": 0.2
             }
            },
            "type": "barpolar"
           }
          ],
          "carpet": [
           {
            "aaxis": {
             "endlinecolor": "#2a3f5f",
             "gridcolor": "white",
             "linecolor": "white",
             "minorgridcolor": "white",
             "startlinecolor": "#2a3f5f"
            },
            "baxis": {
             "endlinecolor": "#2a3f5f",
             "gridcolor": "white",
             "linecolor": "white",
             "minorgridcolor": "white",
             "startlinecolor": "#2a3f5f"
            },
            "type": "carpet"
           }
          ],
          "choropleth": [
           {
            "colorbar": {
             "outlinewidth": 0,
             "ticks": ""
            },
            "type": "choropleth"
           }
          ],
          "contour": [
           {
            "colorbar": {
             "outlinewidth": 0,
             "ticks": ""
            },
            "colorscale": [
             [
              0,
              "#0d0887"
             ],
             [
              0.1111111111111111,
              "#46039f"
             ],
             [
              0.2222222222222222,
              "#7201a8"
             ],
             [
              0.3333333333333333,
              "#9c179e"
             ],
             [
              0.4444444444444444,
              "#bd3786"
             ],
             [
              0.5555555555555556,
              "#d8576b"
             ],
             [
              0.6666666666666666,
              "#ed7953"
             ],
             [
              0.7777777777777778,
              "#fb9f3a"
             ],
             [
              0.8888888888888888,
              "#fdca26"
             ],
             [
              1,
              "#f0f921"
             ]
            ],
            "type": "contour"
           }
          ],
          "contourcarpet": [
           {
            "colorbar": {
             "outlinewidth": 0,
             "ticks": ""
            },
            "type": "contourcarpet"
           }
          ],
          "heatmap": [
           {
            "colorbar": {
             "outlinewidth": 0,
             "ticks": ""
            },
            "colorscale": [
             [
              0,
              "#0d0887"
             ],
             [
              0.1111111111111111,
              "#46039f"
             ],
             [
              0.2222222222222222,
              "#7201a8"
             ],
             [
              0.3333333333333333,
              "#9c179e"
             ],
             [
              0.4444444444444444,
              "#bd3786"
             ],
             [
              0.5555555555555556,
              "#d8576b"
             ],
             [
              0.6666666666666666,
              "#ed7953"
             ],
             [
              0.7777777777777778,
              "#fb9f3a"
             ],
             [
              0.8888888888888888,
              "#fdca26"
             ],
             [
              1,
              "#f0f921"
             ]
            ],
            "type": "heatmap"
           }
          ],
          "heatmapgl": [
           {
            "colorbar": {
             "outlinewidth": 0,
             "ticks": ""
            },
            "colorscale": [
             [
              0,
              "#0d0887"
             ],
             [
              0.1111111111111111,
              "#46039f"
             ],
             [
              0.2222222222222222,
              "#7201a8"
             ],
             [
              0.3333333333333333,
              "#9c179e"
             ],
             [
              0.4444444444444444,
              "#bd3786"
             ],
             [
              0.5555555555555556,
              "#d8576b"
             ],
             [
              0.6666666666666666,
              "#ed7953"
             ],
             [
              0.7777777777777778,
              "#fb9f3a"
             ],
             [
              0.8888888888888888,
              "#fdca26"
             ],
             [
              1,
              "#f0f921"
             ]
            ],
            "type": "heatmapgl"
           }
          ],
          "histogram": [
           {
            "marker": {
             "pattern": {
              "fillmode": "overlay",
              "size": 10,
              "solidity": 0.2
             }
            },
            "type": "histogram"
           }
          ],
          "histogram2d": [
           {
            "colorbar": {
             "outlinewidth": 0,
             "ticks": ""
            },
            "colorscale": [
             [
              0,
              "#0d0887"
             ],
             [
              0.1111111111111111,
              "#46039f"
             ],
             [
              0.2222222222222222,
              "#7201a8"
             ],
             [
              0.3333333333333333,
              "#9c179e"
             ],
             [
              0.4444444444444444,
              "#bd3786"
             ],
             [
              0.5555555555555556,
              "#d8576b"
             ],
             [
              0.6666666666666666,
              "#ed7953"
             ],
             [
              0.7777777777777778,
              "#fb9f3a"
             ],
             [
              0.8888888888888888,
              "#fdca26"
             ],
             [
              1,
              "#f0f921"
             ]
            ],
            "type": "histogram2d"
           }
          ],
          "histogram2dcontour": [
           {
            "colorbar": {
             "outlinewidth": 0,
             "ticks": ""
            },
            "colorscale": [
             [
              0,
              "#0d0887"
             ],
             [
              0.1111111111111111,
              "#46039f"
             ],
             [
              0.2222222222222222,
              "#7201a8"
             ],
             [
              0.3333333333333333,
              "#9c179e"
             ],
             [
              0.4444444444444444,
              "#bd3786"
             ],
             [
              0.5555555555555556,
              "#d8576b"
             ],
             [
              0.6666666666666666,
              "#ed7953"
             ],
             [
              0.7777777777777778,
              "#fb9f3a"
             ],
             [
              0.8888888888888888,
              "#fdca26"
             ],
             [
              1,
              "#f0f921"
             ]
            ],
            "type": "histogram2dcontour"
           }
          ],
          "mesh3d": [
           {
            "colorbar": {
             "outlinewidth": 0,
             "ticks": ""
            },
            "type": "mesh3d"
           }
          ],
          "parcoords": [
           {
            "line": {
             "colorbar": {
              "outlinewidth": 0,
              "ticks": ""
             }
            },
            "type": "parcoords"
           }
          ],
          "pie": [
           {
            "automargin": true,
            "type": "pie"
           }
          ],
          "scatter": [
           {
            "fillpattern": {
             "fillmode": "overlay",
             "size": 10,
             "solidity": 0.2
            },
            "type": "scatter"
           }
          ],
          "scatter3d": [
           {
            "line": {
             "colorbar": {
              "outlinewidth": 0,
              "ticks": ""
             }
            },
            "marker": {
             "colorbar": {
              "outlinewidth": 0,
              "ticks": ""
             }
            },
            "type": "scatter3d"
           }
          ],
          "scattercarpet": [
           {
            "marker": {
             "colorbar": {
              "outlinewidth": 0,
              "ticks": ""
             }
            },
            "type": "scattercarpet"
           }
          ],
          "scattergeo": [
           {
            "marker": {
             "colorbar": {
              "outlinewidth": 0,
              "ticks": ""
             }
            },
            "type": "scattergeo"
           }
          ],
          "scattergl": [
           {
            "marker": {
             "colorbar": {
              "outlinewidth": 0,
              "ticks": ""
             }
            },
            "type": "scattergl"
           }
          ],
          "scattermapbox": [
           {
            "marker": {
             "colorbar": {
              "outlinewidth": 0,
              "ticks": ""
             }
            },
            "type": "scattermapbox"
           }
          ],
          "scatterpolar": [
           {
            "marker": {
             "colorbar": {
              "outlinewidth": 0,
              "ticks": ""
             }
            },
            "type": "scatterpolar"
           }
          ],
          "scatterpolargl": [
           {
            "marker": {
             "colorbar": {
              "outlinewidth": 0,
              "ticks": ""
             }
            },
            "type": "scatterpolargl"
           }
          ],
          "scatterternary": [
           {
            "marker": {
             "colorbar": {
              "outlinewidth": 0,
              "ticks": ""
             }
            },
            "type": "scatterternary"
           }
          ],
          "surface": [
           {
            "colorbar": {
             "outlinewidth": 0,
             "ticks": ""
            },
            "colorscale": [
             [
              0,
              "#0d0887"
             ],
             [
              0.1111111111111111,
              "#46039f"
             ],
             [
              0.2222222222222222,
              "#7201a8"
             ],
             [
              0.3333333333333333,
              "#9c179e"
             ],
             [
              0.4444444444444444,
              "#bd3786"
             ],
             [
              0.5555555555555556,
              "#d8576b"
             ],
             [
              0.6666666666666666,
              "#ed7953"
             ],
             [
              0.7777777777777778,
              "#fb9f3a"
             ],
             [
              0.8888888888888888,
              "#fdca26"
             ],
             [
              1,
              "#f0f921"
             ]
            ],
            "type": "surface"
           }
          ],
          "table": [
           {
            "cells": {
             "fill": {
              "color": "#EBF0F8"
             },
             "line": {
              "color": "white"
             }
            },
            "header": {
             "fill": {
              "color": "#C8D4E3"
             },
             "line": {
              "color": "white"
             }
            },
            "type": "table"
           }
          ]
         },
         "layout": {
          "annotationdefaults": {
           "arrowcolor": "#2a3f5f",
           "arrowhead": 0,
           "arrowwidth": 1
          },
          "autotypenumbers": "strict",
          "coloraxis": {
           "colorbar": {
            "outlinewidth": 0,
            "ticks": ""
           }
          },
          "colorscale": {
           "diverging": [
            [
             0,
             "#8e0152"
            ],
            [
             0.1,
             "#c51b7d"
            ],
            [
             0.2,
             "#de77ae"
            ],
            [
             0.3,
             "#f1b6da"
            ],
            [
             0.4,
             "#fde0ef"
            ],
            [
             0.5,
             "#f7f7f7"
            ],
            [
             0.6,
             "#e6f5d0"
            ],
            [
             0.7,
             "#b8e186"
            ],
            [
             0.8,
             "#7fbc41"
            ],
            [
             0.9,
             "#4d9221"
            ],
            [
             1,
             "#276419"
            ]
           ],
           "sequential": [
            [
             0,
             "#0d0887"
            ],
            [
             0.1111111111111111,
             "#46039f"
            ],
            [
             0.2222222222222222,
             "#7201a8"
            ],
            [
             0.3333333333333333,
             "#9c179e"
            ],
            [
             0.4444444444444444,
             "#bd3786"
            ],
            [
             0.5555555555555556,
             "#d8576b"
            ],
            [
             0.6666666666666666,
             "#ed7953"
            ],
            [
             0.7777777777777778,
             "#fb9f3a"
            ],
            [
             0.8888888888888888,
             "#fdca26"
            ],
            [
             1,
             "#f0f921"
            ]
           ],
           "sequentialminus": [
            [
             0,
             "#0d0887"
            ],
            [
             0.1111111111111111,
             "#46039f"
            ],
            [
             0.2222222222222222,
             "#7201a8"
            ],
            [
             0.3333333333333333,
             "#9c179e"
            ],
            [
             0.4444444444444444,
             "#bd3786"
            ],
            [
             0.5555555555555556,
             "#d8576b"
            ],
            [
             0.6666666666666666,
             "#ed7953"
            ],
            [
             0.7777777777777778,
             "#fb9f3a"
            ],
            [
             0.8888888888888888,
             "#fdca26"
            ],
            [
             1,
             "#f0f921"
            ]
           ]
          },
          "colorway": [
           "#636efa",
           "#EF553B",
           "#00cc96",
           "#ab63fa",
           "#FFA15A",
           "#19d3f3",
           "#FF6692",
           "#B6E880",
           "#FF97FF",
           "#FECB52"
          ],
          "font": {
           "color": "#2a3f5f"
          },
          "geo": {
           "bgcolor": "white",
           "lakecolor": "white",
           "landcolor": "#E5ECF6",
           "showlakes": true,
           "showland": true,
           "subunitcolor": "white"
          },
          "hoverlabel": {
           "align": "left"
          },
          "hovermode": "closest",
          "mapbox": {
           "style": "light"
          },
          "paper_bgcolor": "white",
          "plot_bgcolor": "#E5ECF6",
          "polar": {
           "angularaxis": {
            "gridcolor": "white",
            "linecolor": "white",
            "ticks": ""
           },
           "bgcolor": "#E5ECF6",
           "radialaxis": {
            "gridcolor": "white",
            "linecolor": "white",
            "ticks": ""
           }
          },
          "scene": {
           "xaxis": {
            "backgroundcolor": "#E5ECF6",
            "gridcolor": "white",
            "gridwidth": 2,
            "linecolor": "white",
            "showbackground": true,
            "ticks": "",
            "zerolinecolor": "white"
           },
           "yaxis": {
            "backgroundcolor": "#E5ECF6",
            "gridcolor": "white",
            "gridwidth": 2,
            "linecolor": "white",
            "showbackground": true,
            "ticks": "",
            "zerolinecolor": "white"
           },
           "zaxis": {
            "backgroundcolor": "#E5ECF6",
            "gridcolor": "white",
            "gridwidth": 2,
            "linecolor": "white",
            "showbackground": true,
            "ticks": "",
            "zerolinecolor": "white"
           }
          },
          "shapedefaults": {
           "line": {
            "color": "#2a3f5f"
           }
          },
          "ternary": {
           "aaxis": {
            "gridcolor": "white",
            "linecolor": "white",
            "ticks": ""
           },
           "baxis": {
            "gridcolor": "white",
            "linecolor": "white",
            "ticks": ""
           },
           "bgcolor": "#E5ECF6",
           "caxis": {
            "gridcolor": "white",
            "linecolor": "white",
            "ticks": ""
           }
          },
          "title": {
           "x": 0.05
          },
          "xaxis": {
           "automargin": true,
           "gridcolor": "white",
           "linecolor": "white",
           "ticks": "",
           "title": {
            "standoff": 15
           },
           "zerolinecolor": "white",
           "zerolinewidth": 2
          },
          "yaxis": {
           "automargin": true,
           "gridcolor": "white",
           "linecolor": "white",
           "ticks": "",
           "title": {
            "standoff": 15
           },
           "zerolinecolor": "white",
           "zerolinewidth": 2
          }
         }
        },
        "title": {
         "text": "SOM Clustering 3D Visualization"
        }
       }
      }
     },
     "metadata": {},
     "output_type": "display_data"
    }
   ],
   "source": [
    "import plotly.graph_objects as go\n",
    "from sklearn.decomposition import PCA\n",
    "\n",
    "cluster_assignments = np.array([som.winner(x) for x in data_normalized]).T\n",
    "\n",
    "# Visualize clusters using PCA for dimensionality reduction\n",
    "pca = PCA(n_components=3)  # Use 3 principal components for 3D visualization\n",
    "X_pca = pca.fit_transform(data_normalized)\n",
    "\n",
    "# Create a 3D scatter plot using Plotly\n",
    "fig = go.Figure()\n",
    "\n",
    "fig.add_trace(go.Scatter3d(\n",
    "    x=X_pca[:, 0],\n",
    "    y=X_pca[:, 1],\n",
    "    z=X_pca[:, 2],\n",
    "    mode='markers',\n",
    "    marker=dict(color=cluster_assignments[0], colorscale='viridis', opacity=0.5),\n",
    "    text='Cluster Assignments'\n",
    "))\n",
    "\n",
    "fig.update_layout(scene=dict(\n",
    "                    xaxis_title='Principal Component 1',\n",
    "                    yaxis_title='Principal Component 2',\n",
    "                    zaxis_title='Principal Component 3'),\n",
    "                  title='SOM Clustering 3D Visualization',\n",
    "                  margin=dict(l=0, r=0, b=0, t=0))\n",
    "\n",
    "fig.show()"
   ]
  },
  {
   "cell_type": "code",
   "execution_count": 22,
   "metadata": {},
   "outputs": [
    {
     "name": "stdout",
     "output_type": "stream",
     "text": [
      "Cluster 2: 72 data points\n",
      "Cluster 1: 57 data points\n",
      "Cluster 0: 49 data points\n"
     ]
    }
   ],
   "source": [
    "from collections import Counter\n",
    "\n",
    "cluster_assignments = np.array([som.winner(x) for x in data_normalized]).T\n",
    "\n",
    "# Get the number of data points in each cluster\n",
    "cluster_counts = Counter(cluster_assignments[0])\n",
    "\n",
    "# Print the number of data points in each cluster\n",
    "for cluster, count in cluster_counts.items():\n",
    "    print(f'Cluster {cluster}: {count} data points')"
   ]
  },
  {
   "cell_type": "code",
   "execution_count": null,
   "metadata": {},
   "outputs": [],
   "source": []
  }
 ],
 "metadata": {
  "kernelspec": {
   "display_name": "Python 3",
   "language": "python",
   "name": "python3"
  },
  "language_info": {
   "codemirror_mode": {
    "name": "ipython",
    "version": 3
   },
   "file_extension": ".py",
   "mimetype": "text/x-python",
   "name": "python",
   "nbconvert_exporter": "python",
   "pygments_lexer": "ipython3",
   "version": "3.11.5"
  }
 },
 "nbformat": 4,
 "nbformat_minor": 2
}
